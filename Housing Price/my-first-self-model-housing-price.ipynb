{
 "cells": [
  {
   "cell_type": "code",
   "execution_count": 1,
   "id": "9ecd7d8f",
   "metadata": {
    "_cell_guid": "b1076dfc-b9ad-4769-8c92-a6c4dae69d19",
    "_uuid": "8f2839f25d086af736a60e9eeb907d3b93b6e0e5",
    "execution": {
     "iopub.execute_input": "2023-05-20T10:50:15.537691Z",
     "iopub.status.busy": "2023-05-20T10:50:15.537256Z",
     "iopub.status.idle": "2023-05-20T10:50:15.552424Z",
     "shell.execute_reply": "2023-05-20T10:50:15.551554Z"
    },
    "papermill": {
     "duration": 0.026476,
     "end_time": "2023-05-20T10:50:15.555265",
     "exception": false,
     "start_time": "2023-05-20T10:50:15.528789",
     "status": "completed"
    },
    "tags": []
   },
   "outputs": [
    {
     "name": "stdout",
     "output_type": "stream",
     "text": [
      "/kaggle/input/house-prices-advanced-regression-techniques/sample_submission.csv\n",
      "/kaggle/input/house-prices-advanced-regression-techniques/data_description.txt\n",
      "/kaggle/input/house-prices-advanced-regression-techniques/train.csv\n",
      "/kaggle/input/house-prices-advanced-regression-techniques/test.csv\n"
     ]
    }
   ],
   "source": [
    "# This Python 3 environment comes with many helpful analytics libraries installed\n",
    "# It is defined by the kaggle/python Docker image: https://github.com/kaggle/docker-python\n",
    "# For example, here's several helpful packages to load\n",
    "\n",
    "import numpy as np # linear algebra\n",
    "import pandas as pd # data processing, CSV file I/O (e.g. pd.read_csv)\n",
    "\n",
    "# Input data files are available in the read-only \"../input/\" directory\n",
    "# For example, running this (by clicking run or pressing Shift+Enter) will list all files under the input directory\n",
    "\n",
    "import os\n",
    "for dirname, _, filenames in os.walk('/kaggle/input'):\n",
    "    for filename in filenames:\n",
    "        print(os.path.join(dirname, filename))\n",
    "\n",
    "# You can write up to 20GB to the current directory (/kaggle/working/) that gets preserved as output when you create a version using \"Save & Run All\" \n",
    "# You can also write temporary files to /kaggle/temp/, but they won't be saved outside of the current session"
   ]
  },
  {
   "cell_type": "code",
   "execution_count": 2,
   "id": "341f77df",
   "metadata": {
    "execution": {
     "iopub.execute_input": "2023-05-20T10:50:15.569544Z",
     "iopub.status.busy": "2023-05-20T10:50:15.568733Z",
     "iopub.status.idle": "2023-05-20T10:50:15.671354Z",
     "shell.execute_reply": "2023-05-20T10:50:15.670480Z"
    },
    "papermill": {
     "duration": 0.112544,
     "end_time": "2023-05-20T10:50:15.673978",
     "exception": false,
     "start_time": "2023-05-20T10:50:15.561434",
     "status": "completed"
    },
    "tags": []
   },
   "outputs": [],
   "source": [
    "train = pd.read_csv(\"/kaggle/input/house-prices-advanced-regression-techniques/train.csv\")\n",
    "test=pd.read_csv(\"/kaggle/input/house-prices-advanced-regression-techniques/test.csv\")"
   ]
  },
  {
   "cell_type": "code",
   "execution_count": 3,
   "id": "0328eadd",
   "metadata": {
    "execution": {
     "iopub.execute_input": "2023-05-20T10:50:15.688400Z",
     "iopub.status.busy": "2023-05-20T10:50:15.687401Z",
     "iopub.status.idle": "2023-05-20T10:50:15.693075Z",
     "shell.execute_reply": "2023-05-20T10:50:15.692117Z"
    },
    "papermill": {
     "duration": 0.015568,
     "end_time": "2023-05-20T10:50:15.695561",
     "exception": false,
     "start_time": "2023-05-20T10:50:15.679993",
     "status": "completed"
    },
    "tags": []
   },
   "outputs": [
    {
     "name": "stdout",
     "output_type": "stream",
     "text": [
      "(1460, 81)\n",
      "(1459, 80)\n"
     ]
    }
   ],
   "source": [
    "print(train.shape)\n",
    "print(test.shape)"
   ]
  },
  {
   "cell_type": "code",
   "execution_count": 4,
   "id": "858c02cf",
   "metadata": {
    "execution": {
     "iopub.execute_input": "2023-05-20T10:50:15.710171Z",
     "iopub.status.busy": "2023-05-20T10:50:15.709458Z",
     "iopub.status.idle": "2023-05-20T10:50:15.731020Z",
     "shell.execute_reply": "2023-05-20T10:50:15.729769Z"
    },
    "papermill": {
     "duration": 0.031963,
     "end_time": "2023-05-20T10:50:15.733785",
     "exception": false,
     "start_time": "2023-05-20T10:50:15.701822",
     "status": "completed"
    },
    "tags": []
   },
   "outputs": [],
   "source": [
    "y=train.SalePrice\n",
    "X_train = train.drop(['SalePrice'],axis=1)\n",
    "X_test = test"
   ]
  },
  {
   "cell_type": "code",
   "execution_count": 5,
   "id": "4b77055e",
   "metadata": {
    "execution": {
     "iopub.execute_input": "2023-05-20T10:50:15.748487Z",
     "iopub.status.busy": "2023-05-20T10:50:15.747572Z",
     "iopub.status.idle": "2023-05-20T10:50:15.779903Z",
     "shell.execute_reply": "2023-05-20T10:50:15.778717Z"
    },
    "papermill": {
     "duration": 0.042835,
     "end_time": "2023-05-20T10:50:15.782603",
     "exception": false,
     "start_time": "2023-05-20T10:50:15.739768",
     "status": "completed"
    },
    "tags": []
   },
   "outputs": [
    {
     "data": {
      "text/plain": [
       "['LotFrontage',\n",
       " 'Alley',\n",
       " 'MasVnrType',\n",
       " 'MasVnrArea',\n",
       " 'BsmtQual',\n",
       " 'BsmtCond',\n",
       " 'BsmtExposure',\n",
       " 'BsmtFinType1',\n",
       " 'BsmtFinType2',\n",
       " 'Electrical',\n",
       " 'FireplaceQu',\n",
       " 'GarageType',\n",
       " 'GarageYrBlt',\n",
       " 'GarageFinish',\n",
       " 'GarageQual',\n",
       " 'GarageCond',\n",
       " 'PoolQC',\n",
       " 'Fence',\n",
       " 'MiscFeature']"
      ]
     },
     "execution_count": 5,
     "metadata": {},
     "output_type": "execute_result"
    }
   ],
   "source": [
    "missing_cols = [col for col in X_train.columns if X_train[col].isnull().any()] \n",
    "missing_cols"
   ]
  },
  {
   "cell_type": "code",
   "execution_count": 6,
   "id": "dc6a944f",
   "metadata": {
    "execution": {
     "iopub.execute_input": "2023-05-20T10:50:15.796834Z",
     "iopub.status.busy": "2023-05-20T10:50:15.796463Z",
     "iopub.status.idle": "2023-05-20T10:50:17.526142Z",
     "shell.execute_reply": "2023-05-20T10:50:17.524848Z"
    },
    "papermill": {
     "duration": 1.740415,
     "end_time": "2023-05-20T10:50:17.529230",
     "exception": false,
     "start_time": "2023-05-20T10:50:15.788815",
     "status": "completed"
    },
    "tags": []
   },
   "outputs": [
    {
     "name": "stderr",
     "output_type": "stream",
     "text": [
      "/opt/conda/lib/python3.10/site-packages/scipy/__init__.py:146: UserWarning: A NumPy version >=1.16.5 and <1.23.0 is required for this version of SciPy (detected version 1.23.5\n",
      "  warnings.warn(f\"A NumPy version >={np_minversion} and <{np_maxversion}\"\n"
     ]
    }
   ],
   "source": [
    "from sklearn.impute import SimpleImputer\n",
    "\n",
    "# Imputation\n",
    "my_imputer = SimpleImputer(strategy='most_frequent')\n",
    "i_X_train = pd.DataFrame(my_imputer.fit_transform(X_train))\n",
    "i_X_test = pd.DataFrame(my_imputer.transform(X_test))\n",
    "\n",
    "# Imputation removed column names; put them back\n",
    "i_X_train.columns = X_train.columns\n",
    "i_X_test.columns = X_test.columns"
   ]
  },
  {
   "cell_type": "code",
   "execution_count": 7,
   "id": "b3dcba5d",
   "metadata": {
    "execution": {
     "iopub.execute_input": "2023-05-20T10:50:17.544794Z",
     "iopub.status.busy": "2023-05-20T10:50:17.544169Z",
     "iopub.status.idle": "2023-05-20T10:50:17.587648Z",
     "shell.execute_reply": "2023-05-20T10:50:17.586605Z"
    },
    "papermill": {
     "duration": 0.05434,
     "end_time": "2023-05-20T10:50:17.590223",
     "exception": false,
     "start_time": "2023-05-20T10:50:17.535883",
     "status": "completed"
    },
    "tags": []
   },
   "outputs": [
    {
     "data": {
      "text/plain": [
       "Index([], dtype='object')"
      ]
     },
     "execution_count": 7,
     "metadata": {},
     "output_type": "execute_result"
    }
   ],
   "source": [
    "i_X_train.columns[i_X_train.isnull().any()]"
   ]
  },
  {
   "cell_type": "code",
   "execution_count": 8,
   "id": "a194c400",
   "metadata": {
    "execution": {
     "iopub.execute_input": "2023-05-20T10:50:17.606643Z",
     "iopub.status.busy": "2023-05-20T10:50:17.605627Z",
     "iopub.status.idle": "2023-05-20T10:50:17.611903Z",
     "shell.execute_reply": "2023-05-20T10:50:17.610692Z"
    },
    "papermill": {
     "duration": 0.017623,
     "end_time": "2023-05-20T10:50:17.614475",
     "exception": false,
     "start_time": "2023-05-20T10:50:17.596852",
     "status": "completed"
    },
    "tags": []
   },
   "outputs": [],
   "source": [
    "X_train = i_X_train \n",
    "X_test = i_X_test "
   ]
  },
  {
   "cell_type": "code",
   "execution_count": 9,
   "id": "54c4b379",
   "metadata": {
    "execution": {
     "iopub.execute_input": "2023-05-20T10:50:17.629510Z",
     "iopub.status.busy": "2023-05-20T10:50:17.629084Z",
     "iopub.status.idle": "2023-05-20T10:50:17.671464Z",
     "shell.execute_reply": "2023-05-20T10:50:17.670189Z"
    },
    "papermill": {
     "duration": 0.053189,
     "end_time": "2023-05-20T10:50:17.674375",
     "exception": false,
     "start_time": "2023-05-20T10:50:17.621186",
     "status": "completed"
    },
    "tags": []
   },
   "outputs": [],
   "source": [
    "object_cols = [col for col in X_train.columns if X_train[col].dtype==\"object\" and X_train[col].nunique()<10]\n",
    "numerical_cols = [col for col in X_train.columns if train[col].dtype in ['float64','int64']]\n",
    "cols = object_cols + numerical_cols\n",
    "X_train = X_train[cols]\n",
    "X_test = X_test[cols]"
   ]
  },
  {
   "cell_type": "code",
   "execution_count": 10,
   "id": "9c23060d",
   "metadata": {
    "execution": {
     "iopub.execute_input": "2023-05-20T10:50:17.689444Z",
     "iopub.status.busy": "2023-05-20T10:50:17.689054Z",
     "iopub.status.idle": "2023-05-20T10:50:17.848202Z",
     "shell.execute_reply": "2023-05-20T10:50:17.846451Z"
    },
    "papermill": {
     "duration": 0.169705,
     "end_time": "2023-05-20T10:50:17.850715",
     "exception": false,
     "start_time": "2023-05-20T10:50:17.681010",
     "status": "completed"
    },
    "tags": []
   },
   "outputs": [
    {
     "name": "stderr",
     "output_type": "stream",
     "text": [
      "/opt/conda/lib/python3.10/site-packages/sklearn/preprocessing/_encoders.py:868: FutureWarning: `sparse` was renamed to `sparse_output` in version 1.2 and will be removed in 1.4. `sparse_output` is ignored unless you leave `sparse` to its default value.\n",
      "  warnings.warn(\n"
     ]
    }
   ],
   "source": [
    "from sklearn.preprocessing import OneHotEncoder\n",
    "\n",
    "# Apply one-hot encoder to each column with categorical data\n",
    "OH_encoder = OneHotEncoder(handle_unknown='ignore', sparse=False)\n",
    "OH_cols_train = pd.DataFrame(OH_encoder.fit_transform(X_train[object_cols]))\n",
    "OH_cols_test = pd.DataFrame(OH_encoder.transform(X_test[object_cols]))\n",
    "\n",
    "# One-hot encoding removed index; put it back\n",
    "OH_cols_train.index = X_train.index\n",
    "OH_cols_test.index = X_test.index\n",
    "\n",
    "# Remove categorical columns (will replace with one-hot encoding)\n",
    "num_X_train = X_train.drop(object_cols, axis=1)\n",
    "num_X_test = X_test.drop(object_cols, axis=1)\n",
    "\n",
    "# Add one-hot encoded columns to numerical features\n",
    "OH_X_train = pd.concat([num_X_train, OH_cols_train], axis=1)\n",
    "OH_X_test = pd.concat([num_X_test, OH_cols_test], axis=1)\n",
    "\n",
    "# Ensure all columns have string type\n",
    "OH_X_train.columns = OH_X_train.columns.astype(str)\n",
    "OH_X_test.columns = OH_X_test.columns.astype(str)\n"
   ]
  },
  {
   "cell_type": "code",
   "execution_count": 11,
   "id": "4d612449",
   "metadata": {
    "execution": {
     "iopub.execute_input": "2023-05-20T10:50:17.865702Z",
     "iopub.status.busy": "2023-05-20T10:50:17.865257Z",
     "iopub.status.idle": "2023-05-20T10:50:17.871756Z",
     "shell.execute_reply": "2023-05-20T10:50:17.870591Z"
    },
    "papermill": {
     "duration": 0.017117,
     "end_time": "2023-05-20T10:50:17.874319",
     "exception": false,
     "start_time": "2023-05-20T10:50:17.857202",
     "status": "completed"
    },
    "tags": []
   },
   "outputs": [],
   "source": [
    "X_train = OH_X_train\n",
    "X_test = OH_X_test "
   ]
  },
  {
   "cell_type": "code",
   "execution_count": 12,
   "id": "8a9a9a83",
   "metadata": {
    "execution": {
     "iopub.execute_input": "2023-05-20T10:50:17.889224Z",
     "iopub.status.busy": "2023-05-20T10:50:17.888787Z",
     "iopub.status.idle": "2023-05-20T10:50:35.761474Z",
     "shell.execute_reply": "2023-05-20T10:50:35.759750Z"
    },
    "papermill": {
     "duration": 17.883188,
     "end_time": "2023-05-20T10:50:35.764138",
     "exception": false,
     "start_time": "2023-05-20T10:50:17.880950",
     "status": "completed"
    },
    "tags": []
   },
   "outputs": [
    {
     "name": "stdout",
     "output_type": "stream",
     "text": [
      "MAE scores:\n",
      " [18205.41428082 17373.72928082 18046.56863014 16581.89267123\n",
      " 19421.1135274 ]\n",
      "MAE mean scores:\n",
      " 17925.74367808219\n"
     ]
    }
   ],
   "source": [
    "from sklearn.ensemble import RandomForestRegressor\n",
    "from sklearn.model_selection import cross_val_score\n",
    "\n",
    "model = RandomForestRegressor(n_estimators=100, random_state=0)\n",
    "scores = -1 * cross_val_score(model, X_train, y,\n",
    "                              cv=5,\n",
    "                              scoring='neg_mean_absolute_error')\n",
    "print(\"MAE scores:\\n\", scores)\n",
    "print(\"MAE mean scores:\\n\", scores.mean())"
   ]
  },
  {
   "cell_type": "code",
   "execution_count": 13,
   "id": "570bf8a9",
   "metadata": {
    "execution": {
     "iopub.execute_input": "2023-05-20T10:50:35.779943Z",
     "iopub.status.busy": "2023-05-20T10:50:35.778992Z",
     "iopub.status.idle": "2023-05-20T10:50:40.280541Z",
     "shell.execute_reply": "2023-05-20T10:50:40.279298Z"
    },
    "papermill": {
     "duration": 4.512535,
     "end_time": "2023-05-20T10:50:40.283519",
     "exception": false,
     "start_time": "2023-05-20T10:50:35.770984",
     "status": "completed"
    },
    "tags": []
   },
   "outputs": [],
   "source": [
    "model.fit(X_train,y)\n",
    "preds = model.predict(X_test)"
   ]
  },
  {
   "cell_type": "code",
   "execution_count": 14,
   "id": "b2ad1e53",
   "metadata": {
    "execution": {
     "iopub.execute_input": "2023-05-20T10:50:40.298996Z",
     "iopub.status.busy": "2023-05-20T10:50:40.298571Z",
     "iopub.status.idle": "2023-05-20T10:50:40.305127Z",
     "shell.execute_reply": "2023-05-20T10:50:40.303959Z"
    },
    "papermill": {
     "duration": 0.017003,
     "end_time": "2023-05-20T10:50:40.307601",
     "exception": false,
     "start_time": "2023-05-20T10:50:40.290598",
     "status": "completed"
    },
    "tags": []
   },
   "outputs": [],
   "source": [
    "output = pd.DataFrame({'Id':X_test.Id, 'SalePrice':preds})"
   ]
  },
  {
   "cell_type": "code",
   "execution_count": 15,
   "id": "a479b6e7",
   "metadata": {
    "execution": {
     "iopub.execute_input": "2023-05-20T10:50:40.323405Z",
     "iopub.status.busy": "2023-05-20T10:50:40.322938Z",
     "iopub.status.idle": "2023-05-20T10:50:40.342544Z",
     "shell.execute_reply": "2023-05-20T10:50:40.341173Z"
    },
    "papermill": {
     "duration": 0.031758,
     "end_time": "2023-05-20T10:50:40.346242",
     "exception": false,
     "start_time": "2023-05-20T10:50:40.314484",
     "status": "completed"
    },
    "tags": []
   },
   "outputs": [],
   "source": [
    "output.to_csv(\"my_submissions.csv\",index=False)"
   ]
  },
  {
   "cell_type": "code",
   "execution_count": null,
   "id": "f5b7f9d0",
   "metadata": {
    "papermill": {
     "duration": 0.008031,
     "end_time": "2023-05-20T10:50:40.363830",
     "exception": false,
     "start_time": "2023-05-20T10:50:40.355799",
     "status": "completed"
    },
    "tags": []
   },
   "outputs": [],
   "source": []
  }
 ],
 "metadata": {
  "kernelspec": {
   "display_name": "Python 3",
   "language": "python",
   "name": "python3"
  },
  "language_info": {
   "codemirror_mode": {
    "name": "ipython",
    "version": 3
   },
   "file_extension": ".py",
   "mimetype": "text/x-python",
   "name": "python",
   "nbconvert_exporter": "python",
   "pygments_lexer": "ipython3",
   "version": "3.10.10"
  },
  "papermill": {
   "default_parameters": {},
   "duration": 39.127178,
   "end_time": "2023-05-20T10:50:41.498619",
   "environment_variables": {},
   "exception": null,
   "input_path": "__notebook__.ipynb",
   "output_path": "__notebook__.ipynb",
   "parameters": {},
   "start_time": "2023-05-20T10:50:02.371441",
   "version": "2.4.0"
  }
 },
 "nbformat": 4,
 "nbformat_minor": 5
}
