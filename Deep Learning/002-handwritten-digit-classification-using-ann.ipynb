{
  "nbformat": 4,
  "nbformat_minor": 0,
  "metadata": {
    "colab": {
      "provenance": []
    },
    "kernelspec": {
      "name": "python3",
      "display_name": "Python 3"
    },
    "language_info": {
      "name": "python"
    }
  },
  "cells": [
    {
      "cell_type": "code",
      "execution_count": 1,
      "metadata": {
        "id": "IZ-1Qs6TO57a"
      },
      "outputs": [],
      "source": [
        "import tensorflow\n",
        "from tensorflow import keras\n",
        "from tensorflow.keras import Sequential\n",
        "from tensorflow.keras.layers import Dense,Flatten"
      ]
    },
    {
      "cell_type": "code",
      "source": [
        "(X_train,y_train),(X_test,y_test) = keras.datasets.mnist.load_data()"
      ],
      "metadata": {
        "colab": {
          "base_uri": "https://localhost:8080/"
        },
        "id": "8Vf5XTV2Qtes",
        "outputId": "c8aa11a3-31c8-4547-9051-4cc5ff3a0b7d"
      },
      "execution_count": 2,
      "outputs": [
        {
          "output_type": "stream",
          "name": "stdout",
          "text": [
            "Downloading data from https://storage.googleapis.com/tensorflow/tf-keras-datasets/mnist.npz\n",
            "11490434/11490434 [==============================] - 0s 0us/step\n"
          ]
        }
      ]
    },
    {
      "cell_type": "code",
      "source": [
        "X_train"
      ],
      "metadata": {
        "colab": {
          "base_uri": "https://localhost:8080/"
        },
        "id": "PUc4Hs8qRCCO",
        "outputId": "e018571f-8dd7-4172-d050-0a72ea63c1b4"
      },
      "execution_count": 6,
      "outputs": [
        {
          "output_type": "execute_result",
          "data": {
            "text/plain": [
              "array([[[0, 0, 0, ..., 0, 0, 0],\n",
              "        [0, 0, 0, ..., 0, 0, 0],\n",
              "        [0, 0, 0, ..., 0, 0, 0],\n",
              "        ...,\n",
              "        [0, 0, 0, ..., 0, 0, 0],\n",
              "        [0, 0, 0, ..., 0, 0, 0],\n",
              "        [0, 0, 0, ..., 0, 0, 0]],\n",
              "\n",
              "       [[0, 0, 0, ..., 0, 0, 0],\n",
              "        [0, 0, 0, ..., 0, 0, 0],\n",
              "        [0, 0, 0, ..., 0, 0, 0],\n",
              "        ...,\n",
              "        [0, 0, 0, ..., 0, 0, 0],\n",
              "        [0, 0, 0, ..., 0, 0, 0],\n",
              "        [0, 0, 0, ..., 0, 0, 0]],\n",
              "\n",
              "       [[0, 0, 0, ..., 0, 0, 0],\n",
              "        [0, 0, 0, ..., 0, 0, 0],\n",
              "        [0, 0, 0, ..., 0, 0, 0],\n",
              "        ...,\n",
              "        [0, 0, 0, ..., 0, 0, 0],\n",
              "        [0, 0, 0, ..., 0, 0, 0],\n",
              "        [0, 0, 0, ..., 0, 0, 0]],\n",
              "\n",
              "       ...,\n",
              "\n",
              "       [[0, 0, 0, ..., 0, 0, 0],\n",
              "        [0, 0, 0, ..., 0, 0, 0],\n",
              "        [0, 0, 0, ..., 0, 0, 0],\n",
              "        ...,\n",
              "        [0, 0, 0, ..., 0, 0, 0],\n",
              "        [0, 0, 0, ..., 0, 0, 0],\n",
              "        [0, 0, 0, ..., 0, 0, 0]],\n",
              "\n",
              "       [[0, 0, 0, ..., 0, 0, 0],\n",
              "        [0, 0, 0, ..., 0, 0, 0],\n",
              "        [0, 0, 0, ..., 0, 0, 0],\n",
              "        ...,\n",
              "        [0, 0, 0, ..., 0, 0, 0],\n",
              "        [0, 0, 0, ..., 0, 0, 0],\n",
              "        [0, 0, 0, ..., 0, 0, 0]],\n",
              "\n",
              "       [[0, 0, 0, ..., 0, 0, 0],\n",
              "        [0, 0, 0, ..., 0, 0, 0],\n",
              "        [0, 0, 0, ..., 0, 0, 0],\n",
              "        ...,\n",
              "        [0, 0, 0, ..., 0, 0, 0],\n",
              "        [0, 0, 0, ..., 0, 0, 0],\n",
              "        [0, 0, 0, ..., 0, 0, 0]]], dtype=uint8)"
            ]
          },
          "metadata": {},
          "execution_count": 6
        }
      ]
    },
    {
      "cell_type": "code",
      "source": [
        "X_train.shape"
      ],
      "metadata": {
        "colab": {
          "base_uri": "https://localhost:8080/"
        },
        "id": "x21Sq1LzQ3JK",
        "outputId": "d58f3e67-5dca-4c16-aa06-fd8a5911b0e9"
      },
      "execution_count": 5,
      "outputs": [
        {
          "output_type": "execute_result",
          "data": {
            "text/plain": [
              "(60000, 28, 28)"
            ]
          },
          "metadata": {},
          "execution_count": 5
        }
      ]
    },
    {
      "cell_type": "code",
      "source": [
        "y_train"
      ],
      "metadata": {
        "colab": {
          "base_uri": "https://localhost:8080/"
        },
        "id": "RDdoQEGWQ5zD",
        "outputId": "6deb127e-3cf9-4ab9-fd9c-bf9b576c733c"
      },
      "execution_count": 4,
      "outputs": [
        {
          "output_type": "execute_result",
          "data": {
            "text/plain": [
              "array([5, 0, 4, ..., 5, 6, 8], dtype=uint8)"
            ]
          },
          "metadata": {},
          "execution_count": 4
        }
      ]
    },
    {
      "cell_type": "code",
      "source": [
        "import matplotlib.pyplot as plt\n",
        "plt.imshow(X_train[0])"
      ],
      "metadata": {
        "colab": {
          "base_uri": "https://localhost:8080/",
          "height": 447
        },
        "id": "22SsiRPfQ7oh",
        "outputId": "1aa95050-13cd-411a-9a86-dd8fb317dbf5"
      },
      "execution_count": 7,
      "outputs": [
        {
          "output_type": "execute_result",
          "data": {
            "text/plain": [
              "<matplotlib.image.AxesImage at 0x7fa7d216b790>"
            ]
          },
          "metadata": {},
          "execution_count": 7
        },
        {
          "output_type": "display_data",
          "data": {
            "text/plain": [
              "<Figure size 640x480 with 1 Axes>"
            ],
            "image/png": "[encoded data removed]"
          },
          "metadata": {}
        }
      ]
    },
    {
      "cell_type": "markdown",
      "source": [
        "Scale down the numbers"
      ],
      "metadata": {
        "id": "biZij4uPRKy3"
      }
    },
    {
      "cell_type": "code",
      "source": [
        "X_train = X_train/255\n",
        "X_test = X_test/255"
      ],
      "metadata": {
        "id": "YmQoRgp_RHNU"
      },
      "execution_count": 8,
      "outputs": []
    },
    {
      "cell_type": "code",
      "source": [
        "model = Sequential()\n",
        "model.add(Flatten(input_shape=(28,28)))\n",
        "model.add(Dense(128,activation='relu'))\n",
        "model.add(Dense(10,activation='softmax'))\n",
        "model.summary()"
      ],
      "metadata": {
        "colab": {
          "base_uri": "https://localhost:8080/"
        },
        "id": "22oS4ppsROTZ",
        "outputId": "82f8e29c-8311-4232-f28c-28b5113e36c8"
      },
      "execution_count": 10,
      "outputs": [
        {
          "output_type": "stream",
          "name": "stdout",
          "text": [
            "Model: \"sequential_1\"\n",
            "_________________________________________________________________\n",
            " Layer (type)                Output Shape              Param #   \n",
            "=================================================================\n",
            " flatten_1 (Flatten)         (None, 784)               0         \n",
            "                                                                 \n",
            " dense_2 (Dense)             (None, 128)               100480    \n",
            "                                                                 \n",
            " dense_3 (Dense)             (None, 10)                1290      \n",
            "                                                                 \n",
            "=================================================================\n",
            "Total params: 101,770\n",
            "Trainable params: 101,770\n",
            "Non-trainable params: 0\n",
            "_________________________________________________________________\n"
          ]
        }
      ]
    },
    {
      "cell_type": "code",
      "source": [
        "model.compile(loss='sparse_categorical_crossentropy',optimizer='Adam',metrics=['accuracy'])"
      ],
      "metadata": {
        "id": "yPHFiK30RTO6"
      },
      "execution_count": 11,
      "outputs": []
    },
    {
      "cell_type": "code",
      "source": [
        "history = model.fit(X_train,y_train,epochs=25,validation_split=0.2)"
      ],
      "metadata": {
        "colab": {
          "base_uri": "https://localhost:8080/"
        },
        "id": "5hZVVWHLRXjT",
        "outputId": "f5519f70-1eaf-416a-f651-90631f81dbb7"
      },
      "execution_count": 12,
      "outputs": [
        {
          "output_type": "stream",
          "name": "stdout",
          "text": [
            "Epoch 1/25\n",
            "1500/1500 [==============================] - 4s 2ms/step - loss: 0.2878 - accuracy: 0.9174 - val_loss: 0.1610 - val_accuracy: 0.9555\n",
            "Epoch 2/25\n",
            "1500/1500 [==============================] - 4s 2ms/step - loss: 0.1296 - accuracy: 0.9622 - val_loss: 0.1118 - val_accuracy: 0.9680\n",
            "Epoch 3/25\n",
            "1500/1500 [==============================] - 4s 3ms/step - loss: 0.0886 - accuracy: 0.9742 - val_loss: 0.0956 - val_accuracy: 0.9702\n",
            "Epoch 4/25\n",
            "1500/1500 [==============================] - 4s 3ms/step - loss: 0.0666 - accuracy: 0.9801 - val_loss: 0.1057 - val_accuracy: 0.9683\n",
            "Epoch 5/25\n",
            "1500/1500 [==============================] - 5s 4ms/step - loss: 0.0523 - accuracy: 0.9834 - val_loss: 0.0934 - val_accuracy: 0.9720\n",
            "Epoch 6/25\n",
            "1500/1500 [==============================] - 6s 4ms/step - loss: 0.0404 - accuracy: 0.9878 - val_loss: 0.0845 - val_accuracy: 0.9738\n",
            "Epoch 7/25\n",
            "1500/1500 [==============================] - 4s 2ms/step - loss: 0.0320 - accuracy: 0.9901 - val_loss: 0.0918 - val_accuracy: 0.9746\n",
            "Epoch 8/25\n",
            "1500/1500 [==============================] - 5s 3ms/step - loss: 0.0251 - accuracy: 0.9925 - val_loss: 0.0942 - val_accuracy: 0.9750\n",
            "Epoch 9/25\n",
            "1500/1500 [==============================] - 4s 3ms/step - loss: 0.0210 - accuracy: 0.9938 - val_loss: 0.0856 - val_accuracy: 0.9765\n",
            "Epoch 10/25\n",
            "1500/1500 [==============================] - 4s 3ms/step - loss: 0.0164 - accuracy: 0.9950 - val_loss: 0.0861 - val_accuracy: 0.9758\n",
            "Epoch 11/25\n",
            "1500/1500 [==============================] - 4s 3ms/step - loss: 0.0138 - accuracy: 0.9959 - val_loss: 0.0972 - val_accuracy: 0.9753\n",
            "Epoch 12/25\n",
            "1500/1500 [==============================] - 4s 2ms/step - loss: 0.0113 - accuracy: 0.9968 - val_loss: 0.0983 - val_accuracy: 0.9750\n",
            "Epoch 13/25\n",
            "1500/1500 [==============================] - 4s 3ms/step - loss: 0.0113 - accuracy: 0.9966 - val_loss: 0.0932 - val_accuracy: 0.9785\n",
            "Epoch 14/25\n",
            "1500/1500 [==============================] - 4s 2ms/step - loss: 0.0079 - accuracy: 0.9980 - val_loss: 0.1052 - val_accuracy: 0.9745\n",
            "Epoch 15/25\n",
            "1500/1500 [==============================] - 4s 3ms/step - loss: 0.0088 - accuracy: 0.9974 - val_loss: 0.0948 - val_accuracy: 0.9779\n",
            "Epoch 16/25\n",
            "1500/1500 [==============================] - 4s 3ms/step - loss: 0.0073 - accuracy: 0.9979 - val_loss: 0.1075 - val_accuracy: 0.9751\n",
            "Epoch 17/25\n",
            "1500/1500 [==============================] - 4s 3ms/step - loss: 0.0065 - accuracy: 0.9981 - val_loss: 0.1021 - val_accuracy: 0.9769\n",
            "Epoch 18/25\n",
            "1500/1500 [==============================] - 4s 3ms/step - loss: 0.0060 - accuracy: 0.9983 - val_loss: 0.1159 - val_accuracy: 0.9741\n",
            "Epoch 19/25\n",
            "1500/1500 [==============================] - 5s 3ms/step - loss: 0.0057 - accuracy: 0.9983 - val_loss: 0.1059 - val_accuracy: 0.9789\n",
            "Epoch 20/25\n",
            "1500/1500 [==============================] - 4s 3ms/step - loss: 0.0052 - accuracy: 0.9984 - val_loss: 0.1203 - val_accuracy: 0.9772\n",
            "Epoch 21/25\n",
            "1500/1500 [==============================] - 5s 3ms/step - loss: 0.0065 - accuracy: 0.9982 - val_loss: 0.1207 - val_accuracy: 0.9761\n",
            "Epoch 22/25\n",
            "1500/1500 [==============================] - 5s 3ms/step - loss: 0.0054 - accuracy: 0.9985 - val_loss: 0.1192 - val_accuracy: 0.9778\n",
            "Epoch 23/25\n",
            "1500/1500 [==============================] - 4s 3ms/step - loss: 0.0041 - accuracy: 0.9989 - val_loss: 0.1292 - val_accuracy: 0.9747\n",
            "Epoch 24/25\n",
            "1500/1500 [==============================] - 4s 3ms/step - loss: 0.0038 - accuracy: 0.9988 - val_loss: 0.1137 - val_accuracy: 0.9773\n",
            "Epoch 25/25\n",
            "1500/1500 [==============================] - 5s 3ms/step - loss: 0.0063 - accuracy: 0.9979 - val_loss: 0.1269 - val_accuracy: 0.9774\n"
          ]
        }
      ]
    },
    {
      "cell_type": "code",
      "source": [
        "y_prob = model.predict(X_test)"
      ],
      "metadata": {
        "colab": {
          "base_uri": "https://localhost:8080/"
        },
        "id": "QBchKC2fRdEl",
        "outputId": "890b996c-f162-4b23-c70a-49384db584b3"
      },
      "execution_count": 13,
      "outputs": [
        {
          "output_type": "stream",
          "name": "stdout",
          "text": [
            "313/313 [==============================] - 0s 1ms/step\n"
          ]
        }
      ]
    },
    {
      "cell_type": "code",
      "source": [
        "y_prob"
      ],
      "metadata": {
        "colab": {
          "base_uri": "https://localhost:8080/"
        },
        "id": "xjqaeCo4R4He",
        "outputId": "6337f84b-0a34-4d49-fa59-51adbdc34f1e"
      },
      "execution_count": 14,
      "outputs": [
        {
          "output_type": "execute_result",
          "data": {
            "text/plain": [
              "array([[1.44761623e-16, 1.65854821e-16, 2.27395956e-13, ...,\n",
              "        9.99999940e-01, 9.06491001e-14, 4.26863440e-11],\n",
              "       [4.47035907e-19, 4.42580407e-14, 9.99999940e-01, ...,\n",
              "        3.88121684e-28, 2.13008457e-13, 1.74165745e-28],\n",
              "       [1.11774277e-10, 9.99986351e-01, 2.30605849e-07, ...,\n",
              "        1.70531359e-06, 1.17111040e-05, 3.65306807e-09],\n",
              "       ...,\n",
              "       [4.53067549e-24, 8.74733055e-19, 7.22928749e-25, ...,\n",
              "        6.34038449e-14, 1.16572105e-14, 1.39648751e-10],\n",
              "       [2.79034904e-19, 3.18390345e-22, 1.01302423e-21, ...,\n",
              "        5.93219842e-16, 6.09666428e-10, 1.34216775e-20],\n",
              "       [1.02730930e-15, 6.51813759e-21, 4.88889735e-16, ...,\n",
              "        8.05310267e-19, 8.22790467e-17, 1.00423634e-21]], dtype=float32)"
            ]
          },
          "metadata": {},
          "execution_count": 14
        }
      ]
    },
    {
      "cell_type": "code",
      "source": [
        "y_pred = y_prob.argmax(axis=1) #gives the index of number whose value is greatest"
      ],
      "metadata": {
        "id": "WF2WCsS4R44w"
      },
      "execution_count": 15,
      "outputs": []
    },
    {
      "cell_type": "code",
      "source": [
        "y_pred"
      ],
      "metadata": {
        "colab": {
          "base_uri": "https://localhost:8080/"
        },
        "id": "PApZ4CGbR7cn",
        "outputId": "65593394-7b8c-43ec-893d-7251010244f9"
      },
      "execution_count": 16,
      "outputs": [
        {
          "output_type": "execute_result",
          "data": {
            "text/plain": [
              "array([7, 2, 1, ..., 4, 5, 6])"
            ]
          },
          "metadata": {},
          "execution_count": 16
        }
      ]
    },
    {
      "cell_type": "code",
      "source": [
        "from sklearn.metrics import accuracy_score\n",
        "accuracy_score(y_test,y_pred)"
      ],
      "metadata": {
        "colab": {
          "base_uri": "https://localhost:8080/"
        },
        "id": "kcLCSCa5R8mV",
        "outputId": "c8ab526e-ebf8-4914-e111-4ce0fbc9f931"
      },
      "execution_count": 17,
      "outputs": [
        {
          "output_type": "execute_result",
          "data": {
            "text/plain": [
              "0.9758"
            ]
          },
          "metadata": {},
          "execution_count": 17
        }
      ]
    },
    {
      "cell_type": "code",
      "source": [
        "plt.plot(history.history['loss'])\n",
        "plt.plot(history.history['val_loss'])"
      ],
      "metadata": {
        "colab": {
          "base_uri": "https://localhost:8080/",
          "height": 450
        },
        "id": "8HCA7569SGFu",
        "outputId": "ec5af334-cf7a-43e0-d26f-81fce8a9f4c5"
      },
      "execution_count": 18,
      "outputs": [
        {
          "output_type": "execute_result",
          "data": {
            "text/plain": [
              "[<matplotlib.lines.Line2D at 0x7fa7a18b1b40>]"
            ]
          },
          "metadata": {},
          "execution_count": 18
        },
        {
          "output_type": "display_data",
          "data": {
            "text/plain": [
              "<Figure size 640x480 with 1 Axes>"
            ],
            "image/png": "[encoded data removed]"
          },
          "metadata": {}
        }
      ]
    },
    {
      "cell_type": "code",
      "source": [
        "plt.plot(history.history['accuracy'])\n",
        "plt.plot(history.history['val_accuracy'])"
      ],
      "metadata": {
        "colab": {
          "base_uri": "https://localhost:8080/",
          "height": 447
        },
        "id": "fLBvmL8dSInp",
        "outputId": "cbf1412b-4ed9-48d0-be63-789c85d20df9"
      },
      "execution_count": 19,
      "outputs": [
        {
          "output_type": "execute_result",
          "data": {
            "text/plain": [
              "[<matplotlib.lines.Line2D at 0x7fa7a191faf0>]"
            ]
          },
          "metadata": {},
          "execution_count": 19
        },
        {
          "output_type": "display_data",
          "data": {
            "text/plain": [
              "<Figure size 640x480 with 1 Axes>"
            ],
            "image/png": "[encoded data removed]"
          },
          "metadata": {}
        }
      ]
    },
    {
      "cell_type": "code",
      "source": [
        "plt.imshow(X_test[23])"
      ],
      "metadata": {
        "colab": {
          "base_uri": "https://localhost:8080/",
          "height": 447
        },
        "id": "021mL03ISKU8",
        "outputId": "8de5b8e6-8237-43f8-9b18-8fc738e20c49"
      },
      "execution_count": 22,
      "outputs": [
        {
          "output_type": "execute_result",
          "data": {
            "text/plain": [
              "<matplotlib.image.AxesImage at 0x7fa7cbf16b60>"
            ]
          },
          "metadata": {},
          "execution_count": 22
        },
        {
          "output_type": "display_data",
          "data": {
            "text/plain": [
              "<Figure size 640x480 with 1 Axes>"
            ],
            "image/png": "[encoded data removed]"
          },
          "metadata": {}
        }
      ]
    },
    {
      "cell_type": "code",
      "source": [
        "y_pred[23]"
      ],
      "metadata": {
        "colab": {
          "base_uri": "https://localhost:8080/"
        },
        "id": "cGuZkEXuSNGp",
        "outputId": "b9f23b6b-5505-44f3-cd43-1e79619d96f7"
      },
      "execution_count": 23,
      "outputs": [
        {
          "output_type": "execute_result",
          "data": {
            "text/plain": [
              "5"
            ]
          },
          "metadata": {},
          "execution_count": 23
        }
      ]
    },
    {
      "cell_type": "code",
      "source": [],
      "metadata": {
        "id": "Ft2yYajhSUU3"
      },
      "execution_count": null,
      "outputs": []
    }
  ]
}