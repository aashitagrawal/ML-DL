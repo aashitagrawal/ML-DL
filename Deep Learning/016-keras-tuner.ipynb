{
  "cells": [
    {
      "attachments": {},
      "cell_type": "markdown",
      "metadata": {
        "id": "zRCt2N0pesxG"
      },
      "source": [
        "# Today's Date - 24 June 2023\n",
        "# Topic - Keras Hyperparameter Tuning"
      ]
    },
    {
      "cell_type": "code",
      "execution_count": 94,
      "metadata": {
        "id": "nbjtfoeAZIO9"
      },
      "outputs": [],
      "source": [
        "import numpy as np\n",
        "import pandas as pd\n",
        "import matplotlib.pyplot as plt\n",
        "\n",
        "from sklearn.preprocessing import StandardScaler\n",
        "from sklearn.model_selection import train_test_split\n",
        "\n",
        "import tensorflow\n",
        "from tensorflow import keras\n",
        "from keras import Sequential\n",
        "from keras.layers import Dense, Dropout\n",
        "\n",
        "import keras_tuner as kt"
      ]
    },
    {
      "cell_type": "code",
      "execution_count": 8,
      "metadata": {
        "id": "8iU9DNc2ZN7G"
      },
      "outputs": [],
      "source": [
        "df = pd.read_csv(\"/content/pima-indians-diabetes-database.csv\")"
      ]
    },
    {
      "cell_type": "code",
      "execution_count": 9,
      "metadata": {
        "colab": {
          "base_uri": "https://localhost:8080/",
          "height": 206
        },
        "id": "Se_h4HbcZYZK",
        "outputId": "a1cb7dca-47ef-4d68-e799-421a5b7d9a9e"
      },
      "outputs": [
        {
          "data": {
            "text/html": [
              "\n",
              "  <div id=\"df-2287fb62-de22-4568-91b6-24bb95523413\">\n",
              "    <div class=\"colab-df-container\">\n",
              "      <div>\n",
              "<style scoped>\n",
              "    .dataframe tbody tr th:only-of-type {\n",
              "        vertical-align: middle;\n",
              "    }\n",
              "\n",
              "    .dataframe tbody tr th {\n",
              "        vertical-align: top;\n",
              "    }\n",
              "\n",
              "    .dataframe thead th {\n",
              "        text-align: right;\n",
              "    }\n",
              "</style>\n",
              "<table border=\"1\" class=\"dataframe\">\n",
              "  <thead>\n",
              "    <tr style=\"text-align: right;\">\n",
              "      <th></th>\n",
              "      <th>Pregnancies</th>\n",
              "      <th>Glucose</th>\n",
              "      <th>BloodPressure</th>\n",
              "      <th>SkinThickness</th>\n",
              "      <th>Insulin</th>\n",
              "      <th>BMI</th>\n",
              "      <th>DiabetesPedigreeFunction</th>\n",
              "      <th>Age</th>\n",
              "      <th>Outcome</th>\n",
              "    </tr>\n",
              "  </thead>\n",
              "  <tbody>\n",
              "    <tr>\n",
              "      <th>0</th>\n",
              "      <td>6</td>\n",
              "      <td>148</td>\n",
              "      <td>72</td>\n",
              "      <td>35</td>\n",
              "      <td>0</td>\n",
              "      <td>33.6</td>\n",
              "      <td>0.627</td>\n",
              "      <td>50</td>\n",
              "      <td>1</td>\n",
              "    </tr>\n",
              "    <tr>\n",
              "      <th>1</th>\n",
              "      <td>1</td>\n",
              "      <td>85</td>\n",
              "      <td>66</td>\n",
              "      <td>29</td>\n",
              "      <td>0</td>\n",
              "      <td>26.6</td>\n",
              "      <td>0.351</td>\n",
              "      <td>31</td>\n",
              "      <td>0</td>\n",
              "    </tr>\n",
              "    <tr>\n",
              "      <th>2</th>\n",
              "      <td>8</td>\n",
              "      <td>183</td>\n",
              "      <td>64</td>\n",
              "      <td>0</td>\n",
              "      <td>0</td>\n",
              "      <td>23.3</td>\n",
              "      <td>0.672</td>\n",
              "      <td>32</td>\n",
              "      <td>1</td>\n",
              "    </tr>\n",
              "    <tr>\n",
              "      <th>3</th>\n",
              "      <td>1</td>\n",
              "      <td>89</td>\n",
              "      <td>66</td>\n",
              "      <td>23</td>\n",
              "      <td>94</td>\n",
              "      <td>28.1</td>\n",
              "      <td>0.167</td>\n",
              "      <td>21</td>\n",
              "      <td>0</td>\n",
              "    </tr>\n",
              "    <tr>\n",
              "      <th>4</th>\n",
              "      <td>0</td>\n",
              "      <td>137</td>\n",
              "      <td>40</td>\n",
              "      <td>35</td>\n",
              "      <td>168</td>\n",
              "      <td>43.1</td>\n",
              "      <td>2.288</td>\n",
              "      <td>33</td>\n",
              "      <td>1</td>\n",
              "    </tr>\n",
              "  </tbody>\n",
              "</table>\n",
              "</div>\n",
              "      <button class=\"colab-df-convert\" onclick=\"convertToInteractive('df-2287fb62-de22-4568-91b6-24bb95523413')\"\n",
              "              title=\"Convert this dataframe to an interactive table.\"\n",
              "              style=\"display:none;\">\n",
              "        \n",
              "  <svg xmlns=\"http://www.w3.org/2000/svg\" height=\"24px\"viewBox=\"0 0 24 24\"\n",
              "       width=\"24px\">\n",
              "    <path d=\"M0 0h24v24H0V0z\" fill=\"none\"/>\n",
              "    <path d=\"M18.56 5.44l.94 2.06.94-2.06 2.06-.94-2.06-.94-.94-2.06-.94 2.06-2.06.94zm-11 1L8.5 8.5l.94-2.06 2.06-.94-2.06-.94L8.5 2.5l-.94 2.06-2.06.94zm10 10l.94 2.06.94-2.06 2.06-.94-2.06-.94-.94-2.06-.94 2.06-2.06.94z\"/><path d=\"M17.41 7.96l-1.37-1.37c-.4-.4-.92-.59-1.43-.59-.52 0-1.04.2-1.43.59L10.3 9.45l-7.72 7.72c-.78.78-.78 2.05 0 2.83L4 21.41c.39.39.9.59 1.41.59.51 0 1.02-.2 1.41-.59l7.78-7.78 2.81-2.81c.8-.78.8-2.07 0-2.86zM5.41 20L4 18.59l7.72-7.72 1.47 1.35L5.41 20z\"/>\n",
              "  </svg>\n",
              "      </button>\n",
              "      \n",
              "  <style>\n",
              "    .colab-df-container {\n",
              "      display:flex;\n",
              "      flex-wrap:wrap;\n",
              "      gap: 12px;\n",
              "    }\n",
              "\n",
              "    .colab-df-convert {\n",
              "      background-color: #E8F0FE;\n",
              "      border: none;\n",
              "      border-radius: 50%;\n",
              "      cursor: pointer;\n",
              "      display: none;\n",
              "      fill: #1967D2;\n",
              "      height: 32px;\n",
              "      padding: 0 0 0 0;\n",
              "      width: 32px;\n",
              "    }\n",
              "\n",
              "    .colab-df-convert:hover {\n",
              "      background-color: #E2EBFA;\n",
              "      box-shadow: 0px 1px 2px rgba(60, 64, 67, 0.3), 0px 1px 3px 1px rgba(60, 64, 67, 0.15);\n",
              "      fill: #174EA6;\n",
              "    }\n",
              "\n",
              "    [theme=dark] .colab-df-convert {\n",
              "      background-color: #3B4455;\n",
              "      fill: #D2E3FC;\n",
              "    }\n",
              "\n",
              "    [theme=dark] .colab-df-convert:hover {\n",
              "      background-color: #434B5C;\n",
              "      box-shadow: 0px 1px 3px 1px rgba(0, 0, 0, 0.15);\n",
              "      filter: drop-shadow(0px 1px 2px rgba(0, 0, 0, 0.3));\n",
              "      fill: #FFFFFF;\n",
              "    }\n",
              "  </style>\n",
              "\n",
              "      <script>\n",
              "        const buttonEl =\n",
              "          document.querySelector('#df-2287fb62-de22-4568-91b6-24bb95523413 button.colab-df-convert');\n",
              "        buttonEl.style.display =\n",
              "          google.colab.kernel.accessAllowed ? 'block' : 'none';\n",
              "\n",
              "        async function convertToInteractive(key) {\n",
              "          const element = document.querySelector('#df-2287fb62-de22-4568-91b6-24bb95523413');\n",
              "          const dataTable =\n",
              "            await google.colab.kernel.invokeFunction('convertToInteractive',\n",
              "                                                     [key], {});\n",
              "          if (!dataTable) return;\n",
              "\n",
              "          const docLinkHtml = 'Like what you see? Visit the ' +\n",
              "            '<a target=\"_blank\" href=https://colab.research.google.com/notebooks/data_table.ipynb>data table notebook</a>'\n",
              "            + ' to learn more about interactive tables.';\n",
              "          element.innerHTML = '';\n",
              "          dataTable['output_type'] = 'display_data';\n",
              "          await google.colab.output.renderOutput(dataTable, element);\n",
              "          const docLink = document.createElement('div');\n",
              "          docLink.innerHTML = docLinkHtml;\n",
              "          element.appendChild(docLink);\n",
              "        }\n",
              "      </script>\n",
              "    </div>\n",
              "  </div>\n",
              "  "
            ],
            "text/plain": [
              "   Pregnancies  Glucose  BloodPressure  SkinThickness  Insulin   BMI  \\\n",
              "0            6      148             72             35        0  33.6   \n",
              "1            1       85             66             29        0  26.6   \n",
              "2            8      183             64              0        0  23.3   \n",
              "3            1       89             66             23       94  28.1   \n",
              "4            0      137             40             35      168  43.1   \n",
              "\n",
              "   DiabetesPedigreeFunction  Age  Outcome  \n",
              "0                     0.627   50        1  \n",
              "1                     0.351   31        0  \n",
              "2                     0.672   32        1  \n",
              "3                     0.167   21        0  \n",
              "4                     2.288   33        1  "
            ]
          },
          "execution_count": 9,
          "metadata": {},
          "output_type": "execute_result"
        }
      ],
      "source": [
        "df.head()"
      ]
    },
    {
      "cell_type": "code",
      "execution_count": 10,
      "metadata": {
        "colab": {
          "base_uri": "https://localhost:8080/"
        },
        "id": "zczbb7duZZHP",
        "outputId": "011dfcc6-ba21-4aa4-a6ab-20379fc31177"
      },
      "outputs": [
        {
          "data": {
            "text/plain": [
              "Pregnancies                 0.221898\n",
              "Glucose                     0.466581\n",
              "BloodPressure               0.065068\n",
              "SkinThickness               0.074752\n",
              "Insulin                     0.130548\n",
              "BMI                         0.292695\n",
              "DiabetesPedigreeFunction    0.173844\n",
              "Age                         0.238356\n",
              "Outcome                     1.000000\n",
              "Name: Outcome, dtype: float64"
            ]
          },
          "execution_count": 10,
          "metadata": {},
          "output_type": "execute_result"
        }
      ],
      "source": [
        "df.corr()['Outcome']"
      ]
    },
    {
      "cell_type": "code",
      "execution_count": 11,
      "metadata": {
        "colab": {
          "base_uri": "https://localhost:8080/"
        },
        "id": "tKuvkYtRZ_Sj",
        "outputId": "9e717f13-6454-4357-b6a0-24c6ee3dfd41"
      },
      "outputs": [
        {
          "data": {
            "text/plain": [
              "array([[  6.   , 148.   ,  72.   , ...,  33.6  ,   0.627,  50.   ],\n",
              "       [  1.   ,  85.   ,  66.   , ...,  26.6  ,   0.351,  31.   ],\n",
              "       [  8.   , 183.   ,  64.   , ...,  23.3  ,   0.672,  32.   ],\n",
              "       ...,\n",
              "       [  5.   , 121.   ,  72.   , ...,  26.2  ,   0.245,  30.   ],\n",
              "       [  1.   , 126.   ,  60.   , ...,  30.1  ,   0.349,  47.   ],\n",
              "       [  1.   ,  93.   ,  70.   , ...,  30.4  ,   0.315,  23.   ]])"
            ]
          },
          "execution_count": 11,
          "metadata": {},
          "output_type": "execute_result"
        }
      ],
      "source": [
        "X = df.iloc[:,:-1].values\n",
        "y = df.iloc[:,-1].values\n",
        "X"
      ]
    },
    {
      "cell_type": "code",
      "execution_count": 12,
      "metadata": {
        "colab": {
          "base_uri": "https://localhost:8080/"
        },
        "id": "lqA_nsALaLU6",
        "outputId": "e45ce3de-e894-4565-a69b-93110fa8e67f"
      },
      "outputs": [
        {
          "data": {
            "text/plain": [
              "(array([[ 0.63994726,  0.84832379,  0.14964075, ...,  0.20401277,\n",
              "          0.46849198,  1.4259954 ],\n",
              "        [-0.84488505, -1.12339636, -0.16054575, ..., -0.68442195,\n",
              "         -0.36506078, -0.19067191],\n",
              "        [ 1.23388019,  1.94372388, -0.26394125, ..., -1.10325546,\n",
              "          0.60439732, -0.10558415],\n",
              "        ...,\n",
              "        [ 0.3429808 ,  0.00330087,  0.14964075, ..., -0.73518964,\n",
              "         -0.68519336, -0.27575966],\n",
              "        [-0.84488505,  0.1597866 , -0.47073225, ..., -0.24020459,\n",
              "         -0.37110101,  1.17073215],\n",
              "        [-0.84488505, -0.8730192 ,  0.04624525, ..., -0.20212881,\n",
              "         -0.47378505, -0.87137393]]),\n",
              " (768, 8))"
            ]
          },
          "execution_count": 12,
          "metadata": {},
          "output_type": "execute_result"
        }
      ],
      "source": [
        "scaler = StandardScaler()\n",
        "X = scaler.fit_transform(X)\n",
        "X, X.shape"
      ]
    },
    {
      "cell_type": "code",
      "execution_count": 13,
      "metadata": {
        "id": "NQ1e0MDSap6S"
      },
      "outputs": [],
      "source": [
        "X_train, X_test, y_train, y_test = train_test_split(X, y, test_size = 0.2, random_state = 1)"
      ]
    },
    {
      "attachments": {},
      "cell_type": "markdown",
      "metadata": {
        "id": "5r9A9VdBgIx7"
      },
      "source": [
        "## Keras Tuner will automate and find the best paramerter to train the model\n",
        "example we can find, which acitvation function, optimizer, loss to use for best results"
      ]
    },
    {
      "cell_type": "code",
      "execution_count": 14,
      "metadata": {
        "id": "Aqr5cv-1bcJu"
      },
      "outputs": [],
      "source": [
        "model = Sequential()\n",
        "model.add(Dense(32, activation = 'relu', input_dim = 8))\n",
        "model.add(Dense(1,activation = 'sigmoid'))\n",
        "\n",
        "model.compile(optimizer = 'adam', loss = 'binary_crossentropy', metrics = ['accuracy'])"
      ]
    },
    {
      "cell_type": "code",
      "execution_count": 15,
      "metadata": {
        "colab": {
          "base_uri": "https://localhost:8080/"
        },
        "id": "_m9eAZkFb4rN",
        "outputId": "81323b08-3dcc-4e92-d90e-9d430f727b05"
      },
      "outputs": [
        {
          "name": "stdout",
          "output_type": "stream",
          "text": [
            "Epoch 1/100\n",
            "20/20 [==============================] - 1s 10ms/step - loss: 0.6769 - accuracy: 0.6010 - val_loss: 0.6508 - val_accuracy: 0.6494\n",
            "Epoch 2/100\n",
            "20/20 [==============================] - 0s 3ms/step - loss: 0.6217 - accuracy: 0.6922 - val_loss: 0.6020 - val_accuracy: 0.7143\n",
            "Epoch 3/100\n",
            "20/20 [==============================] - 0s 2ms/step - loss: 0.5819 - accuracy: 0.7134 - val_loss: 0.5700 - val_accuracy: 0.7338\n",
            "Epoch 4/100\n",
            "20/20 [==============================] - 0s 2ms/step - loss: 0.5538 - accuracy: 0.7362 - val_loss: 0.5432 - val_accuracy: 0.7922\n",
            "Epoch 5/100\n",
            "20/20 [==============================] - 0s 2ms/step - loss: 0.5316 - accuracy: 0.7541 - val_loss: 0.5236 - val_accuracy: 0.7857\n",
            "Epoch 6/100\n",
            "20/20 [==============================] - 0s 2ms/step - loss: 0.5162 - accuracy: 0.7704 - val_loss: 0.5097 - val_accuracy: 0.7922\n",
            "Epoch 7/100\n",
            "20/20 [==============================] - 0s 2ms/step - loss: 0.5051 - accuracy: 0.7720 - val_loss: 0.5009 - val_accuracy: 0.7922\n",
            "Epoch 8/100\n",
            "20/20 [==============================] - 0s 2ms/step - loss: 0.4950 - accuracy: 0.7785 - val_loss: 0.4938 - val_accuracy: 0.7922\n",
            "Epoch 9/100\n",
            "20/20 [==============================] - 0s 3ms/step - loss: 0.4880 - accuracy: 0.7785 - val_loss: 0.4870 - val_accuracy: 0.7922\n",
            "Epoch 10/100\n",
            "20/20 [==============================] - 0s 2ms/step - loss: 0.4821 - accuracy: 0.7785 - val_loss: 0.4837 - val_accuracy: 0.7922\n",
            "Epoch 11/100\n",
            "20/20 [==============================] - 0s 2ms/step - loss: 0.4779 - accuracy: 0.7769 - val_loss: 0.4796 - val_accuracy: 0.7922\n",
            "Epoch 12/100\n",
            "20/20 [==============================] - 0s 3ms/step - loss: 0.4732 - accuracy: 0.7752 - val_loss: 0.4777 - val_accuracy: 0.7922\n",
            "Epoch 13/100\n",
            "20/20 [==============================] - 0s 2ms/step - loss: 0.4698 - accuracy: 0.7736 - val_loss: 0.4762 - val_accuracy: 0.7922\n",
            "Epoch 14/100\n",
            "20/20 [==============================] - 0s 3ms/step - loss: 0.4669 - accuracy: 0.7720 - val_loss: 0.4743 - val_accuracy: 0.7857\n",
            "Epoch 15/100\n",
            "20/20 [==============================] - 0s 2ms/step - loss: 0.4649 - accuracy: 0.7769 - val_loss: 0.4748 - val_accuracy: 0.7987\n",
            "Epoch 16/100\n",
            "20/20 [==============================] - 0s 2ms/step - loss: 0.4625 - accuracy: 0.7769 - val_loss: 0.4725 - val_accuracy: 0.7922\n",
            "Epoch 17/100\n",
            "20/20 [==============================] - 0s 3ms/step - loss: 0.4613 - accuracy: 0.7752 - val_loss: 0.4726 - val_accuracy: 0.7922\n",
            "Epoch 18/100\n",
            "20/20 [==============================] - 0s 3ms/step - loss: 0.4603 - accuracy: 0.7752 - val_loss: 0.4714 - val_accuracy: 0.7922\n",
            "Epoch 19/100\n",
            "20/20 [==============================] - 0s 2ms/step - loss: 0.4579 - accuracy: 0.7736 - val_loss: 0.4714 - val_accuracy: 0.7922\n",
            "Epoch 20/100\n",
            "20/20 [==============================] - 0s 3ms/step - loss: 0.4569 - accuracy: 0.7752 - val_loss: 0.4711 - val_accuracy: 0.7922\n",
            "Epoch 21/100\n",
            "20/20 [==============================] - 0s 2ms/step - loss: 0.4559 - accuracy: 0.7752 - val_loss: 0.4705 - val_accuracy: 0.7922\n",
            "Epoch 22/100\n",
            "20/20 [==============================] - 0s 3ms/step - loss: 0.4550 - accuracy: 0.7736 - val_loss: 0.4701 - val_accuracy: 0.7987\n",
            "Epoch 23/100\n",
            "20/20 [==============================] - 0s 3ms/step - loss: 0.4542 - accuracy: 0.7785 - val_loss: 0.4702 - val_accuracy: 0.7987\n",
            "Epoch 24/100\n",
            "20/20 [==============================] - 0s 2ms/step - loss: 0.4530 - accuracy: 0.7785 - val_loss: 0.4711 - val_accuracy: 0.7987\n",
            "Epoch 25/100\n",
            "20/20 [==============================] - 0s 3ms/step - loss: 0.4521 - accuracy: 0.7752 - val_loss: 0.4702 - val_accuracy: 0.7987\n",
            "Epoch 26/100\n",
            "20/20 [==============================] - 0s 3ms/step - loss: 0.4511 - accuracy: 0.7736 - val_loss: 0.4671 - val_accuracy: 0.7922\n",
            "Epoch 27/100\n",
            "20/20 [==============================] - 0s 3ms/step - loss: 0.4505 - accuracy: 0.7736 - val_loss: 0.4670 - val_accuracy: 0.7922\n",
            "Epoch 28/100\n",
            "20/20 [==============================] - 0s 2ms/step - loss: 0.4498 - accuracy: 0.7736 - val_loss: 0.4661 - val_accuracy: 0.8052\n",
            "Epoch 29/100\n",
            "20/20 [==============================] - 0s 3ms/step - loss: 0.4490 - accuracy: 0.7769 - val_loss: 0.4664 - val_accuracy: 0.8052\n",
            "Epoch 30/100\n",
            "20/20 [==============================] - 0s 2ms/step - loss: 0.4483 - accuracy: 0.7785 - val_loss: 0.4665 - val_accuracy: 0.7987\n",
            "Epoch 31/100\n",
            "20/20 [==============================] - 0s 3ms/step - loss: 0.4484 - accuracy: 0.7769 - val_loss: 0.4662 - val_accuracy: 0.8052\n",
            "Epoch 32/100\n",
            "20/20 [==============================] - 0s 2ms/step - loss: 0.4474 - accuracy: 0.7801 - val_loss: 0.4645 - val_accuracy: 0.8117\n",
            "Epoch 33/100\n",
            "20/20 [==============================] - 0s 3ms/step - loss: 0.4464 - accuracy: 0.7818 - val_loss: 0.4641 - val_accuracy: 0.8182\n",
            "Epoch 34/100\n",
            "20/20 [==============================] - 0s 3ms/step - loss: 0.4463 - accuracy: 0.7834 - val_loss: 0.4642 - val_accuracy: 0.8052\n",
            "Epoch 35/100\n",
            "20/20 [==============================] - 0s 2ms/step - loss: 0.4454 - accuracy: 0.7769 - val_loss: 0.4649 - val_accuracy: 0.7987\n",
            "Epoch 36/100\n",
            "20/20 [==============================] - 0s 3ms/step - loss: 0.4454 - accuracy: 0.7801 - val_loss: 0.4644 - val_accuracy: 0.8052\n",
            "Epoch 37/100\n",
            "20/20 [==============================] - 0s 2ms/step - loss: 0.4446 - accuracy: 0.7785 - val_loss: 0.4648 - val_accuracy: 0.8052\n",
            "Epoch 38/100\n",
            "20/20 [==============================] - 0s 2ms/step - loss: 0.4436 - accuracy: 0.7801 - val_loss: 0.4662 - val_accuracy: 0.8052\n",
            "Epoch 39/100\n",
            "20/20 [==============================] - 0s 2ms/step - loss: 0.4436 - accuracy: 0.7801 - val_loss: 0.4679 - val_accuracy: 0.8052\n",
            "Epoch 40/100\n",
            "20/20 [==============================] - 0s 2ms/step - loss: 0.4429 - accuracy: 0.7850 - val_loss: 0.4671 - val_accuracy: 0.8117\n",
            "Epoch 41/100\n",
            "20/20 [==============================] - 0s 3ms/step - loss: 0.4422 - accuracy: 0.7834 - val_loss: 0.4675 - val_accuracy: 0.8052\n",
            "Epoch 42/100\n",
            "20/20 [==============================] - 0s 2ms/step - loss: 0.4416 - accuracy: 0.7818 - val_loss: 0.4664 - val_accuracy: 0.8182\n",
            "Epoch 43/100\n",
            "20/20 [==============================] - 0s 2ms/step - loss: 0.4413 - accuracy: 0.7818 - val_loss: 0.4668 - val_accuracy: 0.8117\n",
            "Epoch 44/100\n",
            "20/20 [==============================] - 0s 3ms/step - loss: 0.4409 - accuracy: 0.7818 - val_loss: 0.4690 - val_accuracy: 0.8117\n",
            "Epoch 45/100\n",
            "20/20 [==============================] - 0s 2ms/step - loss: 0.4407 - accuracy: 0.7866 - val_loss: 0.4686 - val_accuracy: 0.8117\n",
            "Epoch 46/100\n",
            "20/20 [==============================] - 0s 2ms/step - loss: 0.4400 - accuracy: 0.7818 - val_loss: 0.4680 - val_accuracy: 0.8182\n",
            "Epoch 47/100\n",
            "20/20 [==============================] - 0s 2ms/step - loss: 0.4396 - accuracy: 0.7850 - val_loss: 0.4677 - val_accuracy: 0.8117\n",
            "Epoch 48/100\n",
            "20/20 [==============================] - 0s 2ms/step - loss: 0.4388 - accuracy: 0.7785 - val_loss: 0.4656 - val_accuracy: 0.8117\n",
            "Epoch 49/100\n",
            "20/20 [==============================] - 0s 3ms/step - loss: 0.4388 - accuracy: 0.7850 - val_loss: 0.4663 - val_accuracy: 0.8182\n",
            "Epoch 50/100\n",
            "20/20 [==============================] - 0s 2ms/step - loss: 0.4383 - accuracy: 0.7834 - val_loss: 0.4672 - val_accuracy: 0.8117\n",
            "Epoch 51/100\n",
            "20/20 [==============================] - 0s 2ms/step - loss: 0.4375 - accuracy: 0.7818 - val_loss: 0.4673 - val_accuracy: 0.8182\n",
            "Epoch 52/100\n",
            "20/20 [==============================] - 0s 2ms/step - loss: 0.4373 - accuracy: 0.7850 - val_loss: 0.4666 - val_accuracy: 0.8182\n",
            "Epoch 53/100\n",
            "20/20 [==============================] - 0s 3ms/step - loss: 0.4369 - accuracy: 0.7834 - val_loss: 0.4669 - val_accuracy: 0.8117\n",
            "Epoch 54/100\n",
            "20/20 [==============================] - 0s 2ms/step - loss: 0.4359 - accuracy: 0.7866 - val_loss: 0.4674 - val_accuracy: 0.8117\n",
            "Epoch 55/100\n",
            "20/20 [==============================] - 0s 3ms/step - loss: 0.4354 - accuracy: 0.7866 - val_loss: 0.4671 - val_accuracy: 0.8117\n",
            "Epoch 56/100\n",
            "20/20 [==============================] - 0s 3ms/step - loss: 0.4351 - accuracy: 0.7818 - val_loss: 0.4671 - val_accuracy: 0.8052\n",
            "Epoch 57/100\n",
            "20/20 [==============================] - 0s 2ms/step - loss: 0.4351 - accuracy: 0.7834 - val_loss: 0.4668 - val_accuracy: 0.8182\n",
            "Epoch 58/100\n",
            "20/20 [==============================] - 0s 2ms/step - loss: 0.4345 - accuracy: 0.7850 - val_loss: 0.4655 - val_accuracy: 0.8182\n",
            "Epoch 59/100\n",
            "20/20 [==============================] - 0s 2ms/step - loss: 0.4335 - accuracy: 0.7850 - val_loss: 0.4653 - val_accuracy: 0.8182\n",
            "Epoch 60/100\n",
            "20/20 [==============================] - 0s 3ms/step - loss: 0.4335 - accuracy: 0.7818 - val_loss: 0.4654 - val_accuracy: 0.8247\n",
            "Epoch 61/100\n",
            "20/20 [==============================] - 0s 2ms/step - loss: 0.4329 - accuracy: 0.7801 - val_loss: 0.4650 - val_accuracy: 0.8247\n",
            "Epoch 62/100\n",
            "20/20 [==============================] - 0s 3ms/step - loss: 0.4326 - accuracy: 0.7834 - val_loss: 0.4653 - val_accuracy: 0.8182\n",
            "Epoch 63/100\n",
            "20/20 [==============================] - 0s 2ms/step - loss: 0.4328 - accuracy: 0.7834 - val_loss: 0.4647 - val_accuracy: 0.8117\n",
            "Epoch 64/100\n",
            "20/20 [==============================] - 0s 2ms/step - loss: 0.4317 - accuracy: 0.7899 - val_loss: 0.4637 - val_accuracy: 0.8182\n",
            "Epoch 65/100\n",
            "20/20 [==============================] - 0s 3ms/step - loss: 0.4311 - accuracy: 0.7850 - val_loss: 0.4636 - val_accuracy: 0.8117\n",
            "Epoch 66/100\n",
            "20/20 [==============================] - 0s 2ms/step - loss: 0.4313 - accuracy: 0.7883 - val_loss: 0.4634 - val_accuracy: 0.8052\n",
            "Epoch 67/100\n",
            "20/20 [==============================] - 0s 2ms/step - loss: 0.4307 - accuracy: 0.7866 - val_loss: 0.4628 - val_accuracy: 0.8052\n",
            "Epoch 68/100\n",
            "20/20 [==============================] - 0s 3ms/step - loss: 0.4304 - accuracy: 0.7850 - val_loss: 0.4635 - val_accuracy: 0.8117\n",
            "Epoch 69/100\n",
            "20/20 [==============================] - 0s 3ms/step - loss: 0.4297 - accuracy: 0.7883 - val_loss: 0.4655 - val_accuracy: 0.8117\n",
            "Epoch 70/100\n",
            "20/20 [==============================] - 0s 2ms/step - loss: 0.4295 - accuracy: 0.7915 - val_loss: 0.4647 - val_accuracy: 0.8182\n",
            "Epoch 71/100\n",
            "20/20 [==============================] - 0s 3ms/step - loss: 0.4291 - accuracy: 0.7915 - val_loss: 0.4658 - val_accuracy: 0.8052\n",
            "Epoch 72/100\n",
            "20/20 [==============================] - 0s 3ms/step - loss: 0.4286 - accuracy: 0.7883 - val_loss: 0.4665 - val_accuracy: 0.8052\n",
            "Epoch 73/100\n",
            "20/20 [==============================] - 0s 3ms/step - loss: 0.4283 - accuracy: 0.7883 - val_loss: 0.4663 - val_accuracy: 0.8182\n",
            "Epoch 74/100\n",
            "20/20 [==============================] - 0s 3ms/step - loss: 0.4281 - accuracy: 0.7883 - val_loss: 0.4669 - val_accuracy: 0.8182\n",
            "Epoch 75/100\n",
            "20/20 [==============================] - 0s 2ms/step - loss: 0.4275 - accuracy: 0.7883 - val_loss: 0.4663 - val_accuracy: 0.8247\n",
            "Epoch 76/100\n",
            "20/20 [==============================] - 0s 2ms/step - loss: 0.4270 - accuracy: 0.7883 - val_loss: 0.4662 - val_accuracy: 0.8247\n",
            "Epoch 77/100\n",
            "20/20 [==============================] - 0s 2ms/step - loss: 0.4266 - accuracy: 0.7899 - val_loss: 0.4656 - val_accuracy: 0.8247\n",
            "Epoch 78/100\n",
            "20/20 [==============================] - 0s 2ms/step - loss: 0.4262 - accuracy: 0.7899 - val_loss: 0.4662 - val_accuracy: 0.8247\n",
            "Epoch 79/100\n",
            "20/20 [==============================] - 0s 2ms/step - loss: 0.4263 - accuracy: 0.7948 - val_loss: 0.4672 - val_accuracy: 0.8117\n",
            "Epoch 80/100\n",
            "20/20 [==============================] - 0s 3ms/step - loss: 0.4259 - accuracy: 0.7932 - val_loss: 0.4663 - val_accuracy: 0.8117\n",
            "Epoch 81/100\n",
            "20/20 [==============================] - 0s 2ms/step - loss: 0.4255 - accuracy: 0.7932 - val_loss: 0.4657 - val_accuracy: 0.8182\n",
            "Epoch 82/100\n",
            "20/20 [==============================] - 0s 2ms/step - loss: 0.4248 - accuracy: 0.7915 - val_loss: 0.4663 - val_accuracy: 0.8247\n",
            "Epoch 83/100\n",
            "20/20 [==============================] - 0s 2ms/step - loss: 0.4246 - accuracy: 0.7948 - val_loss: 0.4664 - val_accuracy: 0.7987\n",
            "Epoch 84/100\n",
            "20/20 [==============================] - 0s 3ms/step - loss: 0.4249 - accuracy: 0.7932 - val_loss: 0.4662 - val_accuracy: 0.8247\n",
            "Epoch 85/100\n",
            "20/20 [==============================] - 0s 3ms/step - loss: 0.4236 - accuracy: 0.7980 - val_loss: 0.4650 - val_accuracy: 0.8182\n",
            "Epoch 86/100\n",
            "20/20 [==============================] - 0s 2ms/step - loss: 0.4238 - accuracy: 0.7932 - val_loss: 0.4644 - val_accuracy: 0.8117\n",
            "Epoch 87/100\n",
            "20/20 [==============================] - 0s 2ms/step - loss: 0.4241 - accuracy: 0.7932 - val_loss: 0.4644 - val_accuracy: 0.8182\n",
            "Epoch 88/100\n",
            "20/20 [==============================] - 0s 2ms/step - loss: 0.4228 - accuracy: 0.8029 - val_loss: 0.4656 - val_accuracy: 0.8247\n",
            "Epoch 89/100\n",
            "20/20 [==============================] - 0s 3ms/step - loss: 0.4227 - accuracy: 0.7997 - val_loss: 0.4649 - val_accuracy: 0.8247\n",
            "Epoch 90/100\n",
            "20/20 [==============================] - 0s 2ms/step - loss: 0.4226 - accuracy: 0.7980 - val_loss: 0.4647 - val_accuracy: 0.8247\n",
            "Epoch 91/100\n",
            "20/20 [==============================] - 0s 2ms/step - loss: 0.4227 - accuracy: 0.7964 - val_loss: 0.4666 - val_accuracy: 0.8247\n",
            "Epoch 92/100\n",
            "20/20 [==============================] - 0s 2ms/step - loss: 0.4219 - accuracy: 0.7997 - val_loss: 0.4665 - val_accuracy: 0.8247\n",
            "Epoch 93/100\n",
            "20/20 [==============================] - 0s 2ms/step - loss: 0.4213 - accuracy: 0.7997 - val_loss: 0.4675 - val_accuracy: 0.8247\n",
            "Epoch 94/100\n",
            "20/20 [==============================] - 0s 3ms/step - loss: 0.4214 - accuracy: 0.8013 - val_loss: 0.4686 - val_accuracy: 0.8247\n",
            "Epoch 95/100\n",
            "20/20 [==============================] - 0s 2ms/step - loss: 0.4212 - accuracy: 0.8013 - val_loss: 0.4678 - val_accuracy: 0.8247\n",
            "Epoch 96/100\n",
            "20/20 [==============================] - 0s 2ms/step - loss: 0.4211 - accuracy: 0.8046 - val_loss: 0.4677 - val_accuracy: 0.8247\n",
            "Epoch 97/100\n",
            "20/20 [==============================] - 0s 2ms/step - loss: 0.4204 - accuracy: 0.7964 - val_loss: 0.4661 - val_accuracy: 0.8182\n",
            "Epoch 98/100\n",
            "20/20 [==============================] - 0s 2ms/step - loss: 0.4207 - accuracy: 0.7997 - val_loss: 0.4648 - val_accuracy: 0.8182\n",
            "Epoch 99/100\n",
            "20/20 [==============================] - 0s 2ms/step - loss: 0.4202 - accuracy: 0.7980 - val_loss: 0.4670 - val_accuracy: 0.8247\n",
            "Epoch 100/100\n",
            "20/20 [==============================] - 0s 2ms/step - loss: 0.4199 - accuracy: 0.8013 - val_loss: 0.4670 - val_accuracy: 0.8247\n"
          ]
        },
        {
          "data": {
            "text/plain": [
              "<keras.callbacks.History at 0x7f25213ae560>"
            ]
          },
          "execution_count": 15,
          "metadata": {},
          "output_type": "execute_result"
        }
      ],
      "source": [
        "model.fit(X_train, y_train, batch_size = 32, epochs = 100, validation_data = (X_test, y_test))"
      ]
    },
    {
      "attachments": {},
      "cell_type": "markdown",
      "metadata": {
        "id": "cQGoCNyBfNd7"
      },
      "source": [
        "# Selecting approriate optimizer using Keras Tuner\n",
        "in build_model, hp is default object we use to pass"
      ]
    },
    {
      "cell_type": "code",
      "execution_count": 16,
      "metadata": {
        "id": "ZrH0spQUfSUU"
      },
      "outputs": [],
      "source": [
        "def build_model(hp):\n",
        "  model = Sequential()\n",
        "  model.add(Dense(32, activation = 'relu', input_dim = 8))\n",
        "  model.add(Dense(1,activation = 'sigmoid'))\n",
        "\n",
        "  optimizer = hp.Choice('my_optimizer', values=['adam','sgd','rmsprop','adadelta'])\n",
        "\n",
        "  model.compile(optimizer = optimizer, loss = 'binary_crossentropy', metrics = ['accuracy'])\n",
        "\n",
        "  return model"
      ]
    },
    {
      "cell_type": "code",
      "execution_count": 18,
      "metadata": {
        "id": "vGZdM5Fqc-O_"
      },
      "outputs": [],
      "source": [
        "tuner = kt.RandomSearch(build_model, objective='val_accuracy', max_trials=5)"
      ]
    },
    {
      "cell_type": "code",
      "execution_count": 19,
      "metadata": {
        "colab": {
          "base_uri": "https://localhost:8080/"
        },
        "id": "GU6quxjueKQj",
        "outputId": "37629e5d-fbb4-413d-9f06-3b531f43401c"
      },
      "outputs": [
        {
          "name": "stdout",
          "output_type": "stream",
          "text": [
            "Trial 4 Complete [00h 00m 01s]\n",
            "val_accuracy: 0.6818181872367859\n",
            "\n",
            "Best val_accuracy So Far: 0.7597402334213257\n",
            "Total elapsed time: 00h 00m 06s\n"
          ]
        }
      ],
      "source": [
        "tuner.search(X_train, y_train, epochs=5, validation_data=(X_test,y_test))"
      ]
    },
    {
      "cell_type": "code",
      "execution_count": 24,
      "metadata": {
        "colab": {
          "base_uri": "https://localhost:8080/"
        },
        "id": "hdJetgDWecvj",
        "outputId": "9581ed97-2f63-4b38-932f-ff36ba8af8cb"
      },
      "outputs": [
        {
          "data": {
            "text/plain": [
              "{'my_optimizer': 'adam'}"
            ]
          },
          "execution_count": 24,
          "metadata": {},
          "output_type": "execute_result"
        }
      ],
      "source": [
        "tuner.get_best_hyperparameters()[0].values"
      ]
    },
    {
      "cell_type": "code",
      "execution_count": 25,
      "metadata": {
        "id": "U1SsD6B3e4Eb"
      },
      "outputs": [],
      "source": [
        "model = tuner.get_best_models(num_models=1)[0]"
      ]
    },
    {
      "cell_type": "code",
      "execution_count": 26,
      "metadata": {
        "colab": {
          "base_uri": "https://localhost:8080/"
        },
        "id": "Nb0zoSr7fldT",
        "outputId": "626805ef-2cd1-4d3c-ea75-ee612c52f399"
      },
      "outputs": [
        {
          "name": "stdout",
          "output_type": "stream",
          "text": [
            "Model: \"sequential\"\n",
            "_________________________________________________________________\n",
            " Layer (type)                Output Shape              Param #   \n",
            "=================================================================\n",
            " dense (Dense)               (None, 32)                288       \n",
            "                                                                 \n",
            " dense_1 (Dense)             (None, 1)                 33        \n",
            "                                                                 \n",
            "=================================================================\n",
            "Total params: 321\n",
            "Trainable params: 321\n",
            "Non-trainable params: 0\n",
            "_________________________________________________________________\n"
          ]
        }
      ],
      "source": [
        "model.summary() #this model is trained on adam, as keras tuner found 'adam' as best option here"
      ]
    },
    {
      "cell_type": "code",
      "execution_count": 27,
      "metadata": {
        "colab": {
          "base_uri": "https://localhost:8080/"
        },
        "id": "epSX2GMUg4KL",
        "outputId": "4ae518a9-fbcd-4c72-d0e9-e99cad261a1c"
      },
      "outputs": [
        {
          "name": "stdout",
          "output_type": "stream",
          "text": [
            "Epoch 7/100\n",
            "20/20 [==============================] - 1s 15ms/step - loss: 0.5702 - accuracy: 0.7296 - val_loss: 0.5337 - val_accuracy: 0.7597\n",
            "Epoch 8/100\n",
            "20/20 [==============================] - 0s 6ms/step - loss: 0.5467 - accuracy: 0.7508 - val_loss: 0.5148 - val_accuracy: 0.7792\n",
            "Epoch 9/100\n",
            "20/20 [==============================] - 0s 7ms/step - loss: 0.5282 - accuracy: 0.7622 - val_loss: 0.5025 - val_accuracy: 0.7987\n",
            "Epoch 10/100\n",
            "20/20 [==============================] - 0s 5ms/step - loss: 0.5141 - accuracy: 0.7720 - val_loss: 0.4909 - val_accuracy: 0.8117\n",
            "Epoch 11/100\n",
            "20/20 [==============================] - 0s 3ms/step - loss: 0.5021 - accuracy: 0.7736 - val_loss: 0.4838 - val_accuracy: 0.7987\n",
            "Epoch 12/100\n",
            "20/20 [==============================] - 0s 3ms/step - loss: 0.4930 - accuracy: 0.7752 - val_loss: 0.4772 - val_accuracy: 0.7987\n",
            "Epoch 13/100\n",
            "20/20 [==============================] - 0s 2ms/step - loss: 0.4847 - accuracy: 0.7752 - val_loss: 0.4713 - val_accuracy: 0.7987\n",
            "Epoch 14/100\n",
            "20/20 [==============================] - 0s 2ms/step - loss: 0.4782 - accuracy: 0.7720 - val_loss: 0.4664 - val_accuracy: 0.7922\n",
            "Epoch 15/100\n",
            "20/20 [==============================] - 0s 3ms/step - loss: 0.4728 - accuracy: 0.7752 - val_loss: 0.4636 - val_accuracy: 0.7987\n",
            "Epoch 16/100\n",
            "20/20 [==============================] - 0s 2ms/step - loss: 0.4683 - accuracy: 0.7769 - val_loss: 0.4612 - val_accuracy: 0.7987\n",
            "Epoch 17/100\n",
            "20/20 [==============================] - 0s 2ms/step - loss: 0.4645 - accuracy: 0.7785 - val_loss: 0.4592 - val_accuracy: 0.7987\n",
            "Epoch 18/100\n",
            "20/20 [==============================] - 0s 3ms/step - loss: 0.4611 - accuracy: 0.7785 - val_loss: 0.4590 - val_accuracy: 0.7987\n",
            "Epoch 19/100\n",
            "20/20 [==============================] - 0s 2ms/step - loss: 0.4586 - accuracy: 0.7769 - val_loss: 0.4588 - val_accuracy: 0.7987\n",
            "Epoch 20/100\n",
            "20/20 [==============================] - 0s 2ms/step - loss: 0.4564 - accuracy: 0.7801 - val_loss: 0.4589 - val_accuracy: 0.7922\n",
            "Epoch 21/100\n",
            "20/20 [==============================] - 0s 2ms/step - loss: 0.4548 - accuracy: 0.7818 - val_loss: 0.4582 - val_accuracy: 0.7922\n",
            "Epoch 22/100\n",
            "20/20 [==============================] - 0s 2ms/step - loss: 0.4537 - accuracy: 0.7818 - val_loss: 0.4573 - val_accuracy: 0.7922\n",
            "Epoch 23/100\n",
            "20/20 [==============================] - 0s 3ms/step - loss: 0.4519 - accuracy: 0.7801 - val_loss: 0.4573 - val_accuracy: 0.7922\n",
            "Epoch 24/100\n",
            "20/20 [==============================] - 0s 2ms/step - loss: 0.4504 - accuracy: 0.7818 - val_loss: 0.4574 - val_accuracy: 0.7922\n",
            "Epoch 25/100\n",
            "20/20 [==============================] - 0s 2ms/step - loss: 0.4506 - accuracy: 0.7850 - val_loss: 0.4579 - val_accuracy: 0.7922\n",
            "Epoch 26/100\n",
            "20/20 [==============================] - 0s 3ms/step - loss: 0.4482 - accuracy: 0.7883 - val_loss: 0.4581 - val_accuracy: 0.7987\n",
            "Epoch 27/100\n",
            "20/20 [==============================] - 0s 2ms/step - loss: 0.4475 - accuracy: 0.7883 - val_loss: 0.4575 - val_accuracy: 0.7857\n",
            "Epoch 28/100\n",
            "20/20 [==============================] - 0s 2ms/step - loss: 0.4466 - accuracy: 0.7915 - val_loss: 0.4582 - val_accuracy: 0.7922\n",
            "Epoch 29/100\n",
            "20/20 [==============================] - 0s 3ms/step - loss: 0.4465 - accuracy: 0.7866 - val_loss: 0.4570 - val_accuracy: 0.7857\n",
            "Epoch 30/100\n",
            "20/20 [==============================] - 0s 2ms/step - loss: 0.4454 - accuracy: 0.7883 - val_loss: 0.4575 - val_accuracy: 0.7857\n",
            "Epoch 31/100\n",
            "20/20 [==============================] - 0s 2ms/step - loss: 0.4449 - accuracy: 0.7866 - val_loss: 0.4574 - val_accuracy: 0.7792\n",
            "Epoch 32/100\n",
            "20/20 [==============================] - 0s 3ms/step - loss: 0.4441 - accuracy: 0.7850 - val_loss: 0.4580 - val_accuracy: 0.7857\n",
            "Epoch 33/100\n",
            "20/20 [==============================] - 0s 2ms/step - loss: 0.4438 - accuracy: 0.7883 - val_loss: 0.4587 - val_accuracy: 0.7857\n",
            "Epoch 34/100\n",
            "20/20 [==============================] - 0s 2ms/step - loss: 0.4434 - accuracy: 0.7883 - val_loss: 0.4578 - val_accuracy: 0.7922\n",
            "Epoch 35/100\n",
            "20/20 [==============================] - 0s 2ms/step - loss: 0.4425 - accuracy: 0.7866 - val_loss: 0.4589 - val_accuracy: 0.7987\n",
            "Epoch 36/100\n",
            "20/20 [==============================] - 0s 2ms/step - loss: 0.4414 - accuracy: 0.7915 - val_loss: 0.4591 - val_accuracy: 0.7922\n",
            "Epoch 37/100\n",
            "20/20 [==============================] - 0s 2ms/step - loss: 0.4413 - accuracy: 0.7915 - val_loss: 0.4596 - val_accuracy: 0.7987\n",
            "Epoch 38/100\n",
            "20/20 [==============================] - 0s 2ms/step - loss: 0.4406 - accuracy: 0.7866 - val_loss: 0.4595 - val_accuracy: 0.7987\n",
            "Epoch 39/100\n",
            "20/20 [==============================] - 0s 3ms/step - loss: 0.4402 - accuracy: 0.7899 - val_loss: 0.4597 - val_accuracy: 0.7987\n",
            "Epoch 40/100\n",
            "20/20 [==============================] - 0s 3ms/step - loss: 0.4402 - accuracy: 0.7883 - val_loss: 0.4589 - val_accuracy: 0.7987\n",
            "Epoch 41/100\n",
            "20/20 [==============================] - 0s 2ms/step - loss: 0.4390 - accuracy: 0.7866 - val_loss: 0.4605 - val_accuracy: 0.7987\n",
            "Epoch 42/100\n",
            "20/20 [==============================] - 0s 2ms/step - loss: 0.4389 - accuracy: 0.7899 - val_loss: 0.4608 - val_accuracy: 0.7922\n",
            "Epoch 43/100\n",
            "20/20 [==============================] - 0s 2ms/step - loss: 0.4382 - accuracy: 0.7883 - val_loss: 0.4604 - val_accuracy: 0.7987\n",
            "Epoch 44/100\n",
            "20/20 [==============================] - 0s 2ms/step - loss: 0.4378 - accuracy: 0.7883 - val_loss: 0.4609 - val_accuracy: 0.7987\n",
            "Epoch 45/100\n",
            "20/20 [==============================] - 0s 2ms/step - loss: 0.4373 - accuracy: 0.7948 - val_loss: 0.4612 - val_accuracy: 0.7857\n",
            "Epoch 46/100\n",
            "20/20 [==============================] - 0s 2ms/step - loss: 0.4371 - accuracy: 0.7948 - val_loss: 0.4622 - val_accuracy: 0.7922\n",
            "Epoch 47/100\n",
            "20/20 [==============================] - 0s 2ms/step - loss: 0.4368 - accuracy: 0.7915 - val_loss: 0.4620 - val_accuracy: 0.7922\n",
            "Epoch 48/100\n",
            "20/20 [==============================] - 0s 3ms/step - loss: 0.4361 - accuracy: 0.7866 - val_loss: 0.4608 - val_accuracy: 0.8052\n",
            "Epoch 49/100\n",
            "20/20 [==============================] - 0s 3ms/step - loss: 0.4354 - accuracy: 0.7915 - val_loss: 0.4605 - val_accuracy: 0.7987\n",
            "Epoch 50/100\n",
            "20/20 [==============================] - 0s 3ms/step - loss: 0.4351 - accuracy: 0.7915 - val_loss: 0.4604 - val_accuracy: 0.7987\n",
            "Epoch 51/100\n",
            "20/20 [==============================] - 0s 3ms/step - loss: 0.4347 - accuracy: 0.7899 - val_loss: 0.4590 - val_accuracy: 0.7922\n",
            "Epoch 52/100\n",
            "20/20 [==============================] - 0s 3ms/step - loss: 0.4349 - accuracy: 0.7915 - val_loss: 0.4582 - val_accuracy: 0.7922\n",
            "Epoch 53/100\n",
            "20/20 [==============================] - 0s 2ms/step - loss: 0.4341 - accuracy: 0.7899 - val_loss: 0.4588 - val_accuracy: 0.7922\n",
            "Epoch 54/100\n",
            "20/20 [==============================] - 0s 2ms/step - loss: 0.4338 - accuracy: 0.7932 - val_loss: 0.4586 - val_accuracy: 0.7987\n",
            "Epoch 55/100\n",
            "20/20 [==============================] - 0s 3ms/step - loss: 0.4333 - accuracy: 0.7866 - val_loss: 0.4579 - val_accuracy: 0.7922\n",
            "Epoch 56/100\n",
            "20/20 [==============================] - 0s 2ms/step - loss: 0.4326 - accuracy: 0.7883 - val_loss: 0.4590 - val_accuracy: 0.7987\n",
            "Epoch 57/100\n",
            "20/20 [==============================] - 0s 2ms/step - loss: 0.4324 - accuracy: 0.7883 - val_loss: 0.4584 - val_accuracy: 0.7922\n",
            "Epoch 58/100\n",
            "20/20 [==============================] - 0s 3ms/step - loss: 0.4319 - accuracy: 0.7883 - val_loss: 0.4583 - val_accuracy: 0.7987\n",
            "Epoch 59/100\n",
            "20/20 [==============================] - 0s 3ms/step - loss: 0.4318 - accuracy: 0.7915 - val_loss: 0.4575 - val_accuracy: 0.7987\n",
            "Epoch 60/100\n",
            "20/20 [==============================] - 0s 2ms/step - loss: 0.4309 - accuracy: 0.7883 - val_loss: 0.4573 - val_accuracy: 0.7987\n",
            "Epoch 61/100\n",
            "20/20 [==============================] - 0s 2ms/step - loss: 0.4307 - accuracy: 0.7883 - val_loss: 0.4563 - val_accuracy: 0.7922\n",
            "Epoch 62/100\n",
            "20/20 [==============================] - 0s 2ms/step - loss: 0.4304 - accuracy: 0.7866 - val_loss: 0.4565 - val_accuracy: 0.7922\n",
            "Epoch 63/100\n",
            "20/20 [==============================] - 0s 3ms/step - loss: 0.4302 - accuracy: 0.7899 - val_loss: 0.4578 - val_accuracy: 0.7922\n",
            "Epoch 64/100\n",
            "20/20 [==============================] - 0s 2ms/step - loss: 0.4303 - accuracy: 0.7866 - val_loss: 0.4542 - val_accuracy: 0.7922\n",
            "Epoch 65/100\n",
            "20/20 [==============================] - 0s 3ms/step - loss: 0.4292 - accuracy: 0.7866 - val_loss: 0.4546 - val_accuracy: 0.7987\n",
            "Epoch 66/100\n",
            "20/20 [==============================] - 0s 2ms/step - loss: 0.4297 - accuracy: 0.7850 - val_loss: 0.4557 - val_accuracy: 0.7922\n",
            "Epoch 67/100\n",
            "20/20 [==============================] - 0s 3ms/step - loss: 0.4290 - accuracy: 0.7932 - val_loss: 0.4566 - val_accuracy: 0.8052\n",
            "Epoch 68/100\n",
            "20/20 [==============================] - 0s 3ms/step - loss: 0.4291 - accuracy: 0.7899 - val_loss: 0.4551 - val_accuracy: 0.8052\n",
            "Epoch 69/100\n",
            "20/20 [==============================] - 0s 2ms/step - loss: 0.4281 - accuracy: 0.7932 - val_loss: 0.4549 - val_accuracy: 0.8052\n",
            "Epoch 70/100\n",
            "20/20 [==============================] - 0s 2ms/step - loss: 0.4287 - accuracy: 0.7964 - val_loss: 0.4562 - val_accuracy: 0.8052\n",
            "Epoch 71/100\n",
            "20/20 [==============================] - 0s 3ms/step - loss: 0.4277 - accuracy: 0.7964 - val_loss: 0.4557 - val_accuracy: 0.8052\n",
            "Epoch 72/100\n",
            "20/20 [==============================] - 0s 2ms/step - loss: 0.4271 - accuracy: 0.7948 - val_loss: 0.4552 - val_accuracy: 0.8052\n",
            "Epoch 73/100\n",
            "20/20 [==============================] - 0s 2ms/step - loss: 0.4268 - accuracy: 0.7948 - val_loss: 0.4561 - val_accuracy: 0.8117\n",
            "Epoch 74/100\n",
            "20/20 [==============================] - 0s 2ms/step - loss: 0.4271 - accuracy: 0.7980 - val_loss: 0.4561 - val_accuracy: 0.8117\n",
            "Epoch 75/100\n",
            "20/20 [==============================] - 0s 3ms/step - loss: 0.4266 - accuracy: 0.7932 - val_loss: 0.4557 - val_accuracy: 0.8117\n",
            "Epoch 76/100\n",
            "20/20 [==============================] - 0s 2ms/step - loss: 0.4272 - accuracy: 0.7915 - val_loss: 0.4545 - val_accuracy: 0.8052\n",
            "Epoch 77/100\n",
            "20/20 [==============================] - 0s 3ms/step - loss: 0.4258 - accuracy: 0.7948 - val_loss: 0.4552 - val_accuracy: 0.8117\n",
            "Epoch 78/100\n",
            "20/20 [==============================] - 0s 2ms/step - loss: 0.4254 - accuracy: 0.7964 - val_loss: 0.4562 - val_accuracy: 0.8117\n",
            "Epoch 79/100\n",
            "20/20 [==============================] - 0s 3ms/step - loss: 0.4254 - accuracy: 0.7964 - val_loss: 0.4562 - val_accuracy: 0.8117\n",
            "Epoch 80/100\n",
            "20/20 [==============================] - 0s 2ms/step - loss: 0.4253 - accuracy: 0.7899 - val_loss: 0.4558 - val_accuracy: 0.7987\n",
            "Epoch 81/100\n",
            "20/20 [==============================] - 0s 3ms/step - loss: 0.4247 - accuracy: 0.7915 - val_loss: 0.4565 - val_accuracy: 0.7987\n",
            "Epoch 82/100\n",
            "20/20 [==============================] - 0s 2ms/step - loss: 0.4243 - accuracy: 0.7964 - val_loss: 0.4566 - val_accuracy: 0.8052\n",
            "Epoch 83/100\n",
            "20/20 [==============================] - 0s 3ms/step - loss: 0.4240 - accuracy: 0.7948 - val_loss: 0.4574 - val_accuracy: 0.8052\n",
            "Epoch 84/100\n",
            "20/20 [==============================] - 0s 3ms/step - loss: 0.4238 - accuracy: 0.7915 - val_loss: 0.4584 - val_accuracy: 0.8052\n",
            "Epoch 85/100\n",
            "20/20 [==============================] - 0s 2ms/step - loss: 0.4235 - accuracy: 0.7948 - val_loss: 0.4572 - val_accuracy: 0.8117\n",
            "Epoch 86/100\n",
            "20/20 [==============================] - 0s 2ms/step - loss: 0.4230 - accuracy: 0.7997 - val_loss: 0.4574 - val_accuracy: 0.8117\n",
            "Epoch 87/100\n",
            "20/20 [==============================] - 0s 2ms/step - loss: 0.4228 - accuracy: 0.8013 - val_loss: 0.4568 - val_accuracy: 0.8117\n",
            "Epoch 88/100\n",
            "20/20 [==============================] - 0s 3ms/step - loss: 0.4229 - accuracy: 0.8029 - val_loss: 0.4563 - val_accuracy: 0.8117\n",
            "Epoch 89/100\n",
            "20/20 [==============================] - 0s 3ms/step - loss: 0.4220 - accuracy: 0.8013 - val_loss: 0.4569 - val_accuracy: 0.8117\n",
            "Epoch 90/100\n",
            "20/20 [==============================] - 0s 2ms/step - loss: 0.4220 - accuracy: 0.8029 - val_loss: 0.4561 - val_accuracy: 0.8052\n",
            "Epoch 91/100\n",
            "20/20 [==============================] - 0s 2ms/step - loss: 0.4218 - accuracy: 0.7948 - val_loss: 0.4555 - val_accuracy: 0.7987\n",
            "Epoch 92/100\n",
            "20/20 [==============================] - 0s 3ms/step - loss: 0.4215 - accuracy: 0.8029 - val_loss: 0.4568 - val_accuracy: 0.7987\n",
            "Epoch 93/100\n",
            "20/20 [==============================] - 0s 2ms/step - loss: 0.4212 - accuracy: 0.8029 - val_loss: 0.4564 - val_accuracy: 0.8052\n",
            "Epoch 94/100\n",
            "20/20 [==============================] - 0s 3ms/step - loss: 0.4209 - accuracy: 0.8062 - val_loss: 0.4557 - val_accuracy: 0.8117\n",
            "Epoch 95/100\n",
            "20/20 [==============================] - 0s 2ms/step - loss: 0.4204 - accuracy: 0.8046 - val_loss: 0.4562 - val_accuracy: 0.8117\n",
            "Epoch 96/100\n",
            "20/20 [==============================] - 0s 2ms/step - loss: 0.4206 - accuracy: 0.8062 - val_loss: 0.4549 - val_accuracy: 0.8117\n",
            "Epoch 97/100\n",
            "20/20 [==============================] - 0s 2ms/step - loss: 0.4196 - accuracy: 0.8029 - val_loss: 0.4541 - val_accuracy: 0.8117\n",
            "Epoch 98/100\n",
            "20/20 [==============================] - 0s 2ms/step - loss: 0.4191 - accuracy: 0.8013 - val_loss: 0.4547 - val_accuracy: 0.8117\n",
            "Epoch 99/100\n",
            "20/20 [==============================] - 0s 2ms/step - loss: 0.4191 - accuracy: 0.8062 - val_loss: 0.4539 - val_accuracy: 0.8117\n",
            "Epoch 100/100\n",
            "20/20 [==============================] - 0s 2ms/step - loss: 0.4190 - accuracy: 0.8062 - val_loss: 0.4554 - val_accuracy: 0.8117\n"
          ]
        },
        {
          "data": {
            "text/plain": [
              "<keras.callbacks.History at 0x7f25212f4af0>"
            ]
          },
          "execution_count": 27,
          "metadata": {},
          "output_type": "execute_result"
        }
      ],
      "source": [
        "model.fit(X_train, y_train, batch_size=32, epochs=100, initial_epoch=6, validation_data=(X_test, y_test))"
      ]
    },
    {
      "attachments": {},
      "cell_type": "markdown",
      "metadata": {
        "id": "RyvzoTB_hUXU"
      },
      "source": [
        "### Now that we have found best optimizer for this model\n",
        "# Now lets find number of neurons to put in our layer using Keras Tuner"
      ]
    },
    {
      "cell_type": "code",
      "execution_count": 32,
      "metadata": {
        "id": "ys0kv-9KhKfr"
      },
      "outputs": [],
      "source": [
        "def build_model(hp):\n",
        "  model = Sequential()\n",
        "  units = hp.Int('my_units', min_value=8, max_value=128, step=8) #first it will train on 8 neurons , then 16, then 24, till 128\n",
        "  model.add(Dense(units=units, activation='relu', input_dim=8))\n",
        "  model.add(Dense(1, activation='sigmoid'))\n",
        "  model.compile(optimizer='adam', loss='binary_crossentropy', metrics =['accuracy'])\n",
        "  return model"
      ]
    },
    {
      "cell_type": "code",
      "execution_count": 33,
      "metadata": {
        "id": "ve8phGKRiW36"
      },
      "outputs": [],
      "source": [
        "tuner = kt.RandomSearch(build_model, objective='val_accuracy', max_trials=5, directory='mydir')"
      ]
    },
    {
      "cell_type": "code",
      "execution_count": 34,
      "metadata": {
        "colab": {
          "base_uri": "https://localhost:8080/"
        },
        "id": "bpJM_mktisw6",
        "outputId": "4d1fd09f-b8c2-474e-b4d7-e349125d1f22"
      },
      "outputs": [
        {
          "name": "stdout",
          "output_type": "stream",
          "text": [
            "Trial 5 Complete [00h 00m 01s]\n",
            "val_accuracy: 0.7857142686843872\n",
            "\n",
            "Best val_accuracy So Far: 0.8051947951316833\n",
            "Total elapsed time: 00h 00m 07s\n"
          ]
        }
      ],
      "source": [
        "tuner.search(X_train, y_train, epochs=5, validation_data=(X_test, y_test))"
      ]
    },
    {
      "cell_type": "code",
      "execution_count": 35,
      "metadata": {
        "colab": {
          "base_uri": "https://localhost:8080/"
        },
        "id": "PcEuwxPljVGs",
        "outputId": "fe01d024-aa82-4663-b17e-992e6537fb7c"
      },
      "outputs": [
        {
          "data": {
            "text/plain": [
              "{'my_units': 72}"
            ]
          },
          "execution_count": 35,
          "metadata": {},
          "output_type": "execute_result"
        }
      ],
      "source": [
        "tuner.get_best_hyperparameters()[0].values"
      ]
    },
    {
      "cell_type": "code",
      "execution_count": 36,
      "metadata": {
        "id": "TecSO8YyjnvC"
      },
      "outputs": [],
      "source": [
        "model = tuner.get_best_models(num_models=1)[0]"
      ]
    },
    {
      "cell_type": "code",
      "execution_count": 37,
      "metadata": {
        "colab": {
          "base_uri": "https://localhost:8080/"
        },
        "id": "BaOoPrYyj5MC",
        "outputId": "bc8bc5c1-0717-4661-8977-3dfb74ca7672"
      },
      "outputs": [
        {
          "name": "stdout",
          "output_type": "stream",
          "text": [
            "Model: \"sequential\"\n",
            "_________________________________________________________________\n",
            " Layer (type)                Output Shape              Param #   \n",
            "=================================================================\n",
            " dense (Dense)               (None, 72)                648       \n",
            "                                                                 \n",
            " dense_1 (Dense)             (None, 1)                 73        \n",
            "                                                                 \n",
            "=================================================================\n",
            "Total params: 721\n",
            "Trainable params: 721\n",
            "Non-trainable params: 0\n",
            "_________________________________________________________________\n"
          ]
        }
      ],
      "source": [
        "model.summary() # keras tuner found 72 neurons will work as best"
      ]
    },
    {
      "cell_type": "code",
      "execution_count": 38,
      "metadata": {
        "colab": {
          "base_uri": "https://localhost:8080/"
        },
        "id": "eo2_GuK2j7QC",
        "outputId": "0fe3cf62-f6f3-4e52-9653-46b03e6904ba"
      },
      "outputs": [
        {
          "name": "stdout",
          "output_type": "stream",
          "text": [
            "Epoch 7/100\n",
            "20/20 [==============================] - 1s 8ms/step - loss: 0.5065 - accuracy: 0.7671 - val_loss: 0.4813 - val_accuracy: 0.7922\n",
            "Epoch 8/100\n",
            "20/20 [==============================] - 0s 2ms/step - loss: 0.4899 - accuracy: 0.7736 - val_loss: 0.4705 - val_accuracy: 0.8052\n",
            "Epoch 9/100\n",
            "20/20 [==============================] - 0s 2ms/step - loss: 0.4780 - accuracy: 0.7785 - val_loss: 0.4645 - val_accuracy: 0.8117\n",
            "Epoch 10/100\n",
            "20/20 [==============================] - 0s 2ms/step - loss: 0.4700 - accuracy: 0.7834 - val_loss: 0.4614 - val_accuracy: 0.7987\n",
            "Epoch 11/100\n",
            "20/20 [==============================] - 0s 2ms/step - loss: 0.4638 - accuracy: 0.7866 - val_loss: 0.4590 - val_accuracy: 0.7987\n",
            "Epoch 12/100\n",
            "20/20 [==============================] - 0s 2ms/step - loss: 0.4584 - accuracy: 0.7818 - val_loss: 0.4572 - val_accuracy: 0.7922\n",
            "Epoch 13/100\n",
            "20/20 [==============================] - 0s 2ms/step - loss: 0.4549 - accuracy: 0.7850 - val_loss: 0.4556 - val_accuracy: 0.7922\n",
            "Epoch 14/100\n",
            "20/20 [==============================] - 0s 3ms/step - loss: 0.4520 - accuracy: 0.7883 - val_loss: 0.4584 - val_accuracy: 0.7727\n",
            "Epoch 15/100\n",
            "20/20 [==============================] - 0s 3ms/step - loss: 0.4502 - accuracy: 0.7866 - val_loss: 0.4565 - val_accuracy: 0.7857\n",
            "Epoch 16/100\n",
            "20/20 [==============================] - 0s 2ms/step - loss: 0.4482 - accuracy: 0.7785 - val_loss: 0.4537 - val_accuracy: 0.7922\n",
            "Epoch 17/100\n",
            "20/20 [==============================] - 0s 2ms/step - loss: 0.4474 - accuracy: 0.7834 - val_loss: 0.4547 - val_accuracy: 0.7922\n",
            "Epoch 18/100\n",
            "20/20 [==============================] - 0s 2ms/step - loss: 0.4454 - accuracy: 0.7801 - val_loss: 0.4542 - val_accuracy: 0.7857\n",
            "Epoch 19/100\n",
            "20/20 [==============================] - 0s 2ms/step - loss: 0.4434 - accuracy: 0.7850 - val_loss: 0.4558 - val_accuracy: 0.7922\n",
            "Epoch 20/100\n",
            "20/20 [==============================] - 0s 3ms/step - loss: 0.4429 - accuracy: 0.7883 - val_loss: 0.4572 - val_accuracy: 0.7792\n",
            "Epoch 21/100\n",
            "20/20 [==============================] - 0s 2ms/step - loss: 0.4422 - accuracy: 0.7883 - val_loss: 0.4573 - val_accuracy: 0.7727\n",
            "Epoch 22/100\n",
            "20/20 [==============================] - 0s 2ms/step - loss: 0.4403 - accuracy: 0.7769 - val_loss: 0.4598 - val_accuracy: 0.7727\n",
            "Epoch 23/100\n",
            "20/20 [==============================] - 0s 3ms/step - loss: 0.4393 - accuracy: 0.7785 - val_loss: 0.4575 - val_accuracy: 0.7792\n",
            "Epoch 24/100\n",
            "20/20 [==============================] - 0s 2ms/step - loss: 0.4380 - accuracy: 0.7818 - val_loss: 0.4559 - val_accuracy: 0.7987\n",
            "Epoch 25/100\n",
            "20/20 [==============================] - 0s 3ms/step - loss: 0.4371 - accuracy: 0.7818 - val_loss: 0.4544 - val_accuracy: 0.7922\n",
            "Epoch 26/100\n",
            "20/20 [==============================] - 0s 2ms/step - loss: 0.4366 - accuracy: 0.7801 - val_loss: 0.4536 - val_accuracy: 0.7987\n",
            "Epoch 27/100\n",
            "20/20 [==============================] - 0s 2ms/step - loss: 0.4354 - accuracy: 0.7834 - val_loss: 0.4552 - val_accuracy: 0.7922\n",
            "Epoch 28/100\n",
            "20/20 [==============================] - 0s 3ms/step - loss: 0.4350 - accuracy: 0.7834 - val_loss: 0.4545 - val_accuracy: 0.8052\n",
            "Epoch 29/100\n",
            "20/20 [==============================] - 0s 3ms/step - loss: 0.4340 - accuracy: 0.7818 - val_loss: 0.4544 - val_accuracy: 0.7987\n",
            "Epoch 30/100\n",
            "20/20 [==============================] - 0s 2ms/step - loss: 0.4330 - accuracy: 0.7801 - val_loss: 0.4558 - val_accuracy: 0.7987\n",
            "Epoch 31/100\n",
            "20/20 [==============================] - 0s 2ms/step - loss: 0.4329 - accuracy: 0.7850 - val_loss: 0.4581 - val_accuracy: 0.8052\n",
            "Epoch 32/100\n",
            "20/20 [==============================] - 0s 2ms/step - loss: 0.4321 - accuracy: 0.7850 - val_loss: 0.4555 - val_accuracy: 0.8117\n",
            "Epoch 33/100\n",
            "20/20 [==============================] - 0s 4ms/step - loss: 0.4306 - accuracy: 0.7818 - val_loss: 0.4558 - val_accuracy: 0.8117\n",
            "Epoch 34/100\n",
            "20/20 [==============================] - 0s 2ms/step - loss: 0.4305 - accuracy: 0.7801 - val_loss: 0.4539 - val_accuracy: 0.8247\n",
            "Epoch 35/100\n",
            "20/20 [==============================] - 0s 2ms/step - loss: 0.4298 - accuracy: 0.7818 - val_loss: 0.4566 - val_accuracy: 0.8052\n",
            "Epoch 36/100\n",
            "20/20 [==============================] - 0s 2ms/step - loss: 0.4288 - accuracy: 0.7915 - val_loss: 0.4569 - val_accuracy: 0.8182\n",
            "Epoch 37/100\n",
            "20/20 [==============================] - 0s 3ms/step - loss: 0.4280 - accuracy: 0.7883 - val_loss: 0.4556 - val_accuracy: 0.8117\n",
            "Epoch 38/100\n",
            "20/20 [==============================] - 0s 3ms/step - loss: 0.4277 - accuracy: 0.7834 - val_loss: 0.4546 - val_accuracy: 0.8117\n",
            "Epoch 39/100\n",
            "20/20 [==============================] - 0s 2ms/step - loss: 0.4270 - accuracy: 0.7818 - val_loss: 0.4545 - val_accuracy: 0.8117\n",
            "Epoch 40/100\n",
            "20/20 [==============================] - 0s 2ms/step - loss: 0.4259 - accuracy: 0.7850 - val_loss: 0.4554 - val_accuracy: 0.8117\n",
            "Epoch 41/100\n",
            "20/20 [==============================] - 0s 3ms/step - loss: 0.4257 - accuracy: 0.7850 - val_loss: 0.4544 - val_accuracy: 0.8247\n",
            "Epoch 42/100\n",
            "20/20 [==============================] - 0s 2ms/step - loss: 0.4256 - accuracy: 0.7866 - val_loss: 0.4551 - val_accuracy: 0.8182\n",
            "Epoch 43/100\n",
            "20/20 [==============================] - 0s 2ms/step - loss: 0.4244 - accuracy: 0.7915 - val_loss: 0.4548 - val_accuracy: 0.8182\n",
            "Epoch 44/100\n",
            "20/20 [==============================] - 0s 2ms/step - loss: 0.4237 - accuracy: 0.7866 - val_loss: 0.4549 - val_accuracy: 0.8117\n",
            "Epoch 45/100\n",
            "20/20 [==============================] - 0s 3ms/step - loss: 0.4235 - accuracy: 0.7866 - val_loss: 0.4545 - val_accuracy: 0.8247\n",
            "Epoch 46/100\n",
            "20/20 [==============================] - 0s 2ms/step - loss: 0.4232 - accuracy: 0.7866 - val_loss: 0.4519 - val_accuracy: 0.8312\n",
            "Epoch 47/100\n",
            "20/20 [==============================] - 0s 6ms/step - loss: 0.4225 - accuracy: 0.7915 - val_loss: 0.4532 - val_accuracy: 0.8312\n",
            "Epoch 48/100\n",
            "20/20 [==============================] - 0s 4ms/step - loss: 0.4218 - accuracy: 0.7899 - val_loss: 0.4525 - val_accuracy: 0.8247\n",
            "Epoch 49/100\n",
            "20/20 [==============================] - 0s 5ms/step - loss: 0.4213 - accuracy: 0.7932 - val_loss: 0.4537 - val_accuracy: 0.8247\n",
            "Epoch 50/100\n",
            "20/20 [==============================] - 0s 3ms/step - loss: 0.4212 - accuracy: 0.7948 - val_loss: 0.4538 - val_accuracy: 0.8247\n",
            "Epoch 51/100\n",
            "20/20 [==============================] - 0s 4ms/step - loss: 0.4201 - accuracy: 0.7932 - val_loss: 0.4545 - val_accuracy: 0.8247\n",
            "Epoch 52/100\n",
            "20/20 [==============================] - 0s 7ms/step - loss: 0.4206 - accuracy: 0.7980 - val_loss: 0.4539 - val_accuracy: 0.8247\n",
            "Epoch 53/100\n",
            "20/20 [==============================] - 0s 5ms/step - loss: 0.4196 - accuracy: 0.7932 - val_loss: 0.4534 - val_accuracy: 0.8312\n",
            "Epoch 54/100\n",
            "20/20 [==============================] - 0s 3ms/step - loss: 0.4186 - accuracy: 0.7948 - val_loss: 0.4570 - val_accuracy: 0.8182\n",
            "Epoch 55/100\n",
            "20/20 [==============================] - 0s 2ms/step - loss: 0.4195 - accuracy: 0.7997 - val_loss: 0.4572 - val_accuracy: 0.8182\n",
            "Epoch 56/100\n",
            "20/20 [==============================] - 0s 3ms/step - loss: 0.4187 - accuracy: 0.7997 - val_loss: 0.4547 - val_accuracy: 0.8182\n",
            "Epoch 57/100\n",
            "20/20 [==============================] - 0s 3ms/step - loss: 0.4177 - accuracy: 0.7948 - val_loss: 0.4571 - val_accuracy: 0.8182\n",
            "Epoch 58/100\n",
            "20/20 [==============================] - 0s 2ms/step - loss: 0.4166 - accuracy: 0.7964 - val_loss: 0.4547 - val_accuracy: 0.8182\n",
            "Epoch 59/100\n",
            "20/20 [==============================] - 0s 3ms/step - loss: 0.4168 - accuracy: 0.7948 - val_loss: 0.4532 - val_accuracy: 0.8182\n",
            "Epoch 60/100\n",
            "20/20 [==============================] - 0s 3ms/step - loss: 0.4164 - accuracy: 0.8029 - val_loss: 0.4522 - val_accuracy: 0.8247\n",
            "Epoch 61/100\n",
            "20/20 [==============================] - 0s 2ms/step - loss: 0.4155 - accuracy: 0.7997 - val_loss: 0.4514 - val_accuracy: 0.8247\n",
            "Epoch 62/100\n",
            "20/20 [==============================] - 0s 2ms/step - loss: 0.4151 - accuracy: 0.7997 - val_loss: 0.4509 - val_accuracy: 0.8247\n",
            "Epoch 63/100\n",
            "20/20 [==============================] - 0s 3ms/step - loss: 0.4155 - accuracy: 0.7980 - val_loss: 0.4512 - val_accuracy: 0.8247\n",
            "Epoch 64/100\n",
            "20/20 [==============================] - 0s 3ms/step - loss: 0.4150 - accuracy: 0.8062 - val_loss: 0.4520 - val_accuracy: 0.8247\n",
            "Epoch 65/100\n",
            "20/20 [==============================] - 0s 2ms/step - loss: 0.4137 - accuracy: 0.8111 - val_loss: 0.4536 - val_accuracy: 0.8312\n",
            "Epoch 66/100\n",
            "20/20 [==============================] - 0s 3ms/step - loss: 0.4145 - accuracy: 0.8111 - val_loss: 0.4527 - val_accuracy: 0.8312\n",
            "Epoch 67/100\n",
            "20/20 [==============================] - 0s 3ms/step - loss: 0.4130 - accuracy: 0.8046 - val_loss: 0.4530 - val_accuracy: 0.8182\n",
            "Epoch 68/100\n",
            "20/20 [==============================] - 0s 3ms/step - loss: 0.4132 - accuracy: 0.8094 - val_loss: 0.4515 - val_accuracy: 0.8247\n",
            "Epoch 69/100\n",
            "20/20 [==============================] - 0s 3ms/step - loss: 0.4124 - accuracy: 0.8127 - val_loss: 0.4516 - val_accuracy: 0.8312\n",
            "Epoch 70/100\n",
            "20/20 [==============================] - 0s 2ms/step - loss: 0.4120 - accuracy: 0.8062 - val_loss: 0.4517 - val_accuracy: 0.8247\n",
            "Epoch 71/100\n",
            "20/20 [==============================] - 0s 2ms/step - loss: 0.4116 - accuracy: 0.8046 - val_loss: 0.4516 - val_accuracy: 0.8247\n",
            "Epoch 72/100\n",
            "20/20 [==============================] - 0s 3ms/step - loss: 0.4119 - accuracy: 0.8062 - val_loss: 0.4532 - val_accuracy: 0.8312\n",
            "Epoch 73/100\n",
            "20/20 [==============================] - 0s 3ms/step - loss: 0.4107 - accuracy: 0.8143 - val_loss: 0.4534 - val_accuracy: 0.8247\n",
            "Epoch 74/100\n",
            "20/20 [==============================] - 0s 2ms/step - loss: 0.4112 - accuracy: 0.8127 - val_loss: 0.4516 - val_accuracy: 0.8247\n",
            "Epoch 75/100\n",
            "20/20 [==============================] - 0s 3ms/step - loss: 0.4111 - accuracy: 0.8111 - val_loss: 0.4524 - val_accuracy: 0.8312\n",
            "Epoch 76/100\n",
            "20/20 [==============================] - 0s 2ms/step - loss: 0.4097 - accuracy: 0.8111 - val_loss: 0.4545 - val_accuracy: 0.8182\n",
            "Epoch 77/100\n",
            "20/20 [==============================] - 0s 2ms/step - loss: 0.4098 - accuracy: 0.8111 - val_loss: 0.4528 - val_accuracy: 0.8247\n",
            "Epoch 78/100\n",
            "20/20 [==============================] - 0s 3ms/step - loss: 0.4099 - accuracy: 0.8111 - val_loss: 0.4547 - val_accuracy: 0.8247\n",
            "Epoch 79/100\n",
            "20/20 [==============================] - 0s 2ms/step - loss: 0.4083 - accuracy: 0.8111 - val_loss: 0.4507 - val_accuracy: 0.8312\n",
            "Epoch 80/100\n",
            "20/20 [==============================] - 0s 3ms/step - loss: 0.4097 - accuracy: 0.8143 - val_loss: 0.4503 - val_accuracy: 0.8312\n",
            "Epoch 81/100\n",
            "20/20 [==============================] - 0s 2ms/step - loss: 0.4084 - accuracy: 0.8127 - val_loss: 0.4522 - val_accuracy: 0.8182\n",
            "Epoch 82/100\n",
            "20/20 [==============================] - 0s 2ms/step - loss: 0.4081 - accuracy: 0.8078 - val_loss: 0.4539 - val_accuracy: 0.8182\n",
            "Epoch 83/100\n",
            "20/20 [==============================] - 0s 3ms/step - loss: 0.4083 - accuracy: 0.8160 - val_loss: 0.4556 - val_accuracy: 0.8182\n",
            "Epoch 84/100\n",
            "20/20 [==============================] - 0s 3ms/step - loss: 0.4069 - accuracy: 0.8143 - val_loss: 0.4573 - val_accuracy: 0.8182\n",
            "Epoch 85/100\n",
            "20/20 [==============================] - 0s 3ms/step - loss: 0.4072 - accuracy: 0.8160 - val_loss: 0.4571 - val_accuracy: 0.8117\n",
            "Epoch 86/100\n",
            "20/20 [==============================] - 0s 2ms/step - loss: 0.4067 - accuracy: 0.8143 - val_loss: 0.4542 - val_accuracy: 0.8312\n",
            "Epoch 87/100\n",
            "20/20 [==============================] - 0s 2ms/step - loss: 0.4060 - accuracy: 0.8143 - val_loss: 0.4551 - val_accuracy: 0.8247\n",
            "Epoch 88/100\n",
            "20/20 [==============================] - 0s 2ms/step - loss: 0.4079 - accuracy: 0.8160 - val_loss: 0.4548 - val_accuracy: 0.8117\n",
            "Epoch 89/100\n",
            "20/20 [==============================] - 0s 2ms/step - loss: 0.4053 - accuracy: 0.8176 - val_loss: 0.4534 - val_accuracy: 0.8182\n",
            "Epoch 90/100\n",
            "20/20 [==============================] - 0s 2ms/step - loss: 0.4060 - accuracy: 0.8192 - val_loss: 0.4553 - val_accuracy: 0.8182\n",
            "Epoch 91/100\n",
            "20/20 [==============================] - 0s 3ms/step - loss: 0.4049 - accuracy: 0.8241 - val_loss: 0.4531 - val_accuracy: 0.8117\n",
            "Epoch 92/100\n",
            "20/20 [==============================] - 0s 3ms/step - loss: 0.4050 - accuracy: 0.8176 - val_loss: 0.4537 - val_accuracy: 0.8247\n",
            "Epoch 93/100\n",
            "20/20 [==============================] - 0s 3ms/step - loss: 0.4052 - accuracy: 0.8176 - val_loss: 0.4529 - val_accuracy: 0.8182\n",
            "Epoch 94/100\n",
            "20/20 [==============================] - 0s 2ms/step - loss: 0.4058 - accuracy: 0.8241 - val_loss: 0.4539 - val_accuracy: 0.8117\n",
            "Epoch 95/100\n",
            "20/20 [==============================] - 0s 2ms/step - loss: 0.4044 - accuracy: 0.8208 - val_loss: 0.4538 - val_accuracy: 0.8182\n",
            "Epoch 96/100\n",
            "20/20 [==============================] - 0s 2ms/step - loss: 0.4037 - accuracy: 0.8225 - val_loss: 0.4550 - val_accuracy: 0.8117\n",
            "Epoch 97/100\n",
            "20/20 [==============================] - 0s 3ms/step - loss: 0.4032 - accuracy: 0.8176 - val_loss: 0.4538 - val_accuracy: 0.8182\n",
            "Epoch 98/100\n",
            "20/20 [==============================] - 0s 3ms/step - loss: 0.4030 - accuracy: 0.8208 - val_loss: 0.4542 - val_accuracy: 0.8182\n",
            "Epoch 99/100\n",
            "20/20 [==============================] - 0s 2ms/step - loss: 0.4027 - accuracy: 0.8225 - val_loss: 0.4541 - val_accuracy: 0.8247\n",
            "Epoch 100/100\n",
            "20/20 [==============================] - 0s 2ms/step - loss: 0.4026 - accuracy: 0.8241 - val_loss: 0.4519 - val_accuracy: 0.8182\n"
          ]
        },
        {
          "data": {
            "text/plain": [
              "<keras.callbacks.History at 0x7f25210c9b40>"
            ]
          },
          "execution_count": 38,
          "metadata": {},
          "output_type": "execute_result"
        }
      ],
      "source": [
        "model.fit(X_train, y_train, batch_size=32, epochs=100, initial_epoch=6, validation_data=(X_test, y_test))"
      ]
    },
    {
      "attachments": {},
      "cell_type": "markdown",
      "metadata": {
        "id": "ezfGBkHykaAb"
      },
      "source": [
        "# Now we will find best number of layers of this data"
      ]
    },
    {
      "cell_type": "code",
      "execution_count": 39,
      "metadata": {
        "id": "f6kesJdjkIJD"
      },
      "outputs": [],
      "source": [
        "def build_model(hp):\n",
        "  model = Sequential()\n",
        "  model.add(Dense(72, activation='relu', input_dim=8))\n",
        "\n",
        "  for i in range(hp.Int('my_layers', min_value=1, max_value=10)):\n",
        "    model.add(Dense(72,activation='relu'))\n",
        "\n",
        "  model.add(Dense(1, activation='sigmoid'))\n",
        "  model.compile(optimizer='adam', loss='binary_crossentropy', metrics =['accuracy'])\n",
        "  return model"
      ]
    },
    {
      "cell_type": "code",
      "execution_count": 40,
      "metadata": {
        "id": "P-ZKkppMlJ_8"
      },
      "outputs": [],
      "source": [
        "tuner = kt.RandomSearch(build_model, objective='val_accuracy', max_trials=3, directory='my_dir')"
      ]
    },
    {
      "cell_type": "code",
      "execution_count": 41,
      "metadata": {
        "colab": {
          "base_uri": "https://localhost:8080/"
        },
        "id": "bJgLmK0ulV3a",
        "outputId": "e740847d-ab7b-4a40-d079-64d2d5143a52"
      },
      "outputs": [
        {
          "name": "stdout",
          "output_type": "stream",
          "text": [
            "Trial 3 Complete [00h 00m 02s]\n",
            "val_accuracy: 0.798701286315918\n",
            "\n",
            "Best val_accuracy So Far: 0.8116883039474487\n",
            "Total elapsed time: 00h 00m 06s\n"
          ]
        }
      ],
      "source": [
        "tuner.search(X_train, y_train, epochs=5, validation_data=(X_test, y_test))"
      ]
    },
    {
      "cell_type": "code",
      "execution_count": 42,
      "metadata": {
        "colab": {
          "base_uri": "https://localhost:8080/"
        },
        "id": "i8_7ojfUlbrz",
        "outputId": "b91c3c0d-eae6-4ca7-fcc6-4ebcf0a9c9bd"
      },
      "outputs": [
        {
          "data": {
            "text/plain": [
              "{'my_layers': 7}"
            ]
          },
          "execution_count": 42,
          "metadata": {},
          "output_type": "execute_result"
        }
      ],
      "source": [
        "tuner.get_best_hyperparameters()[0].values"
      ]
    },
    {
      "cell_type": "code",
      "execution_count": 43,
      "metadata": {
        "colab": {
          "base_uri": "https://localhost:8080/"
        },
        "id": "cE3O25kJljfy",
        "outputId": "760c20ef-52e4-4cf0-f373-c28afce873d3"
      },
      "outputs": [
        {
          "name": "stdout",
          "output_type": "stream",
          "text": [
            "Model: \"sequential\"\n",
            "_________________________________________________________________\n",
            " Layer (type)                Output Shape              Param #   \n",
            "=================================================================\n",
            " dense (Dense)               (None, 72)                648       \n",
            "                                                                 \n",
            " dense_1 (Dense)             (None, 72)                5256      \n",
            "                                                                 \n",
            " dense_2 (Dense)             (None, 72)                5256      \n",
            "                                                                 \n",
            " dense_3 (Dense)             (None, 72)                5256      \n",
            "                                                                 \n",
            " dense_4 (Dense)             (None, 72)                5256      \n",
            "                                                                 \n",
            " dense_5 (Dense)             (None, 72)                5256      \n",
            "                                                                 \n",
            " dense_6 (Dense)             (None, 72)                5256      \n",
            "                                                                 \n",
            " dense_7 (Dense)             (None, 72)                5256      \n",
            "                                                                 \n",
            " dense_8 (Dense)             (None, 1)                 73        \n",
            "                                                                 \n",
            "=================================================================\n",
            "Total params: 37,513\n",
            "Trainable params: 37,513\n",
            "Non-trainable params: 0\n",
            "_________________________________________________________________\n"
          ]
        }
      ],
      "source": [
        "model = tuner.get_best_models(num_models=1)[0]\n",
        "model.summary()"
      ]
    },
    {
      "cell_type": "code",
      "execution_count": 44,
      "metadata": {
        "colab": {
          "base_uri": "https://localhost:8080/"
        },
        "id": "F3wKe0btlt-a",
        "outputId": "2ebb3fd3-9678-40b2-993e-1339a3c3b82b"
      },
      "outputs": [
        {
          "name": "stdout",
          "output_type": "stream",
          "text": [
            "Epoch 7/100\n",
            "20/20 [==============================] - 2s 11ms/step - loss: 0.4117 - accuracy: 0.8094 - val_loss: 0.5160 - val_accuracy: 0.7987\n",
            "Epoch 8/100\n",
            "20/20 [==============================] - 0s 4ms/step - loss: 0.4131 - accuracy: 0.8208 - val_loss: 0.4875 - val_accuracy: 0.8312\n",
            "Epoch 9/100\n",
            "20/20 [==============================] - 0s 3ms/step - loss: 0.3860 - accuracy: 0.8322 - val_loss: 0.5029 - val_accuracy: 0.8312\n",
            "Epoch 10/100\n",
            "20/20 [==============================] - 0s 4ms/step - loss: 0.3743 - accuracy: 0.8274 - val_loss: 0.5080 - val_accuracy: 0.7922\n",
            "Epoch 11/100\n",
            "20/20 [==============================] - 0s 4ms/step - loss: 0.3641 - accuracy: 0.8518 - val_loss: 0.5192 - val_accuracy: 0.7922\n",
            "Epoch 12/100\n",
            "20/20 [==============================] - 0s 3ms/step - loss: 0.3686 - accuracy: 0.8371 - val_loss: 0.5191 - val_accuracy: 0.7987\n",
            "Epoch 13/100\n",
            "20/20 [==============================] - 0s 3ms/step - loss: 0.3487 - accuracy: 0.8453 - val_loss: 0.5440 - val_accuracy: 0.8052\n",
            "Epoch 14/100\n",
            "20/20 [==============================] - 0s 3ms/step - loss: 0.3260 - accuracy: 0.8648 - val_loss: 0.5784 - val_accuracy: 0.7857\n",
            "Epoch 15/100\n",
            "20/20 [==============================] - 0s 3ms/step - loss: 0.2918 - accuracy: 0.8795 - val_loss: 0.5793 - val_accuracy: 0.8052\n",
            "Epoch 16/100\n",
            "20/20 [==============================] - 0s 4ms/step - loss: 0.2770 - accuracy: 0.8860 - val_loss: 0.6701 - val_accuracy: 0.7662\n",
            "Epoch 17/100\n",
            "20/20 [==============================] - 0s 3ms/step - loss: 0.2915 - accuracy: 0.8779 - val_loss: 0.6793 - val_accuracy: 0.7468\n",
            "Epoch 18/100\n",
            "20/20 [==============================] - 0s 3ms/step - loss: 0.2635 - accuracy: 0.8990 - val_loss: 0.6658 - val_accuracy: 0.7468\n",
            "Epoch 19/100\n",
            "20/20 [==============================] - 0s 3ms/step - loss: 0.2325 - accuracy: 0.9169 - val_loss: 0.7479 - val_accuracy: 0.7597\n",
            "Epoch 20/100\n",
            "20/20 [==============================] - 0s 3ms/step - loss: 0.2418 - accuracy: 0.9007 - val_loss: 0.6940 - val_accuracy: 0.7597\n",
            "Epoch 21/100\n",
            "20/20 [==============================] - 0s 3ms/step - loss: 0.2078 - accuracy: 0.9202 - val_loss: 0.7836 - val_accuracy: 0.7597\n",
            "Epoch 22/100\n",
            "20/20 [==============================] - 0s 3ms/step - loss: 0.1869 - accuracy: 0.9316 - val_loss: 0.8824 - val_accuracy: 0.7338\n",
            "Epoch 23/100\n",
            "20/20 [==============================] - 0s 3ms/step - loss: 0.2550 - accuracy: 0.9072 - val_loss: 0.7021 - val_accuracy: 0.7532\n",
            "Epoch 24/100\n",
            "20/20 [==============================] - 0s 3ms/step - loss: 0.2380 - accuracy: 0.9039 - val_loss: 0.7030 - val_accuracy: 0.7532\n",
            "Epoch 25/100\n",
            "20/20 [==============================] - 0s 3ms/step - loss: 0.1693 - accuracy: 0.9381 - val_loss: 0.8303 - val_accuracy: 0.7468\n",
            "Epoch 26/100\n",
            "20/20 [==============================] - 0s 3ms/step - loss: 0.1200 - accuracy: 0.9593 - val_loss: 1.0869 - val_accuracy: 0.7273\n",
            "Epoch 27/100\n",
            "20/20 [==============================] - 0s 3ms/step - loss: 0.1011 - accuracy: 0.9625 - val_loss: 1.2635 - val_accuracy: 0.7013\n",
            "Epoch 28/100\n",
            "20/20 [==============================] - 0s 3ms/step - loss: 0.1360 - accuracy: 0.9479 - val_loss: 1.1495 - val_accuracy: 0.7143\n",
            "Epoch 29/100\n",
            "20/20 [==============================] - 0s 3ms/step - loss: 0.1404 - accuracy: 0.9430 - val_loss: 1.0751 - val_accuracy: 0.7078\n",
            "Epoch 30/100\n",
            "20/20 [==============================] - 0s 3ms/step - loss: 0.1391 - accuracy: 0.9397 - val_loss: 1.1245 - val_accuracy: 0.7403\n",
            "Epoch 31/100\n",
            "20/20 [==============================] - 0s 3ms/step - loss: 0.1470 - accuracy: 0.9365 - val_loss: 1.0482 - val_accuracy: 0.7078\n",
            "Epoch 32/100\n",
            "20/20 [==============================] - 0s 3ms/step - loss: 0.1546 - accuracy: 0.9381 - val_loss: 1.0131 - val_accuracy: 0.6883\n",
            "Epoch 33/100\n",
            "20/20 [==============================] - 0s 4ms/step - loss: 0.1045 - accuracy: 0.9609 - val_loss: 1.1106 - val_accuracy: 0.7468\n",
            "Epoch 34/100\n",
            "20/20 [==============================] - 0s 3ms/step - loss: 0.0472 - accuracy: 0.9886 - val_loss: 1.4257 - val_accuracy: 0.7078\n",
            "Epoch 35/100\n",
            "20/20 [==============================] - 0s 3ms/step - loss: 0.1119 - accuracy: 0.9674 - val_loss: 1.2490 - val_accuracy: 0.7273\n",
            "Epoch 36/100\n",
            "20/20 [==============================] - 0s 4ms/step - loss: 0.0704 - accuracy: 0.9739 - val_loss: 1.3164 - val_accuracy: 0.7273\n",
            "Epoch 37/100\n",
            "20/20 [==============================] - 0s 3ms/step - loss: 0.0664 - accuracy: 0.9772 - val_loss: 1.4363 - val_accuracy: 0.7273\n",
            "Epoch 38/100\n",
            "20/20 [==============================] - 0s 3ms/step - loss: 0.0666 - accuracy: 0.9772 - val_loss: 1.5041 - val_accuracy: 0.6948\n",
            "Epoch 39/100\n",
            "20/20 [==============================] - 0s 3ms/step - loss: 0.0662 - accuracy: 0.9837 - val_loss: 1.4960 - val_accuracy: 0.7143\n",
            "Epoch 40/100\n",
            "20/20 [==============================] - 0s 3ms/step - loss: 0.0340 - accuracy: 0.9902 - val_loss: 1.5132 - val_accuracy: 0.7468\n",
            "Epoch 41/100\n",
            "20/20 [==============================] - 0s 3ms/step - loss: 0.0284 - accuracy: 0.9886 - val_loss: 1.6301 - val_accuracy: 0.7338\n",
            "Epoch 42/100\n",
            "20/20 [==============================] - 0s 3ms/step - loss: 0.0541 - accuracy: 0.9821 - val_loss: 1.5967 - val_accuracy: 0.7143\n",
            "Epoch 43/100\n",
            "20/20 [==============================] - 0s 3ms/step - loss: 0.1154 - accuracy: 0.9609 - val_loss: 1.2644 - val_accuracy: 0.7403\n",
            "Epoch 44/100\n",
            "20/20 [==============================] - 0s 4ms/step - loss: 0.1068 - accuracy: 0.9642 - val_loss: 1.0952 - val_accuracy: 0.7208\n",
            "Epoch 45/100\n",
            "20/20 [==============================] - 0s 3ms/step - loss: 0.0731 - accuracy: 0.9723 - val_loss: 1.2255 - val_accuracy: 0.7143\n",
            "Epoch 46/100\n",
            "20/20 [==============================] - 0s 3ms/step - loss: 0.0410 - accuracy: 0.9853 - val_loss: 1.5727 - val_accuracy: 0.7013\n",
            "Epoch 47/100\n",
            "20/20 [==============================] - 0s 3ms/step - loss: 0.0255 - accuracy: 0.9919 - val_loss: 1.7907 - val_accuracy: 0.7078\n",
            "Epoch 48/100\n",
            "20/20 [==============================] - 0s 4ms/step - loss: 0.0294 - accuracy: 0.9886 - val_loss: 1.9699 - val_accuracy: 0.7143\n",
            "Epoch 49/100\n",
            "20/20 [==============================] - 0s 3ms/step - loss: 0.0801 - accuracy: 0.9642 - val_loss: 1.7111 - val_accuracy: 0.7078\n",
            "Epoch 50/100\n",
            "20/20 [==============================] - 0s 3ms/step - loss: 0.2015 - accuracy: 0.9430 - val_loss: 1.1498 - val_accuracy: 0.6753\n",
            "Epoch 51/100\n",
            "20/20 [==============================] - 0s 3ms/step - loss: 0.1854 - accuracy: 0.9300 - val_loss: 0.9743 - val_accuracy: 0.7013\n",
            "Epoch 52/100\n",
            "20/20 [==============================] - 0s 3ms/step - loss: 0.0995 - accuracy: 0.9658 - val_loss: 1.2859 - val_accuracy: 0.6558\n",
            "Epoch 53/100\n",
            "20/20 [==============================] - 0s 3ms/step - loss: 0.0438 - accuracy: 0.9886 - val_loss: 1.5530 - val_accuracy: 0.6948\n",
            "Epoch 54/100\n",
            "20/20 [==============================] - 0s 4ms/step - loss: 0.0215 - accuracy: 0.9967 - val_loss: 1.6097 - val_accuracy: 0.7078\n",
            "Epoch 55/100\n",
            "20/20 [==============================] - 0s 4ms/step - loss: 0.0162 - accuracy: 0.9951 - val_loss: 1.7691 - val_accuracy: 0.7013\n",
            "Epoch 56/100\n",
            "20/20 [==============================] - 0s 4ms/step - loss: 0.0171 - accuracy: 0.9951 - val_loss: 1.9246 - val_accuracy: 0.6883\n",
            "Epoch 57/100\n",
            "20/20 [==============================] - 0s 3ms/step - loss: 0.0241 - accuracy: 0.9886 - val_loss: 1.8249 - val_accuracy: 0.7013\n",
            "Epoch 58/100\n",
            "20/20 [==============================] - 0s 4ms/step - loss: 0.0206 - accuracy: 0.9935 - val_loss: 2.0122 - val_accuracy: 0.6883\n",
            "Epoch 59/100\n",
            "20/20 [==============================] - 0s 4ms/step - loss: 0.0081 - accuracy: 0.9967 - val_loss: 2.0627 - val_accuracy: 0.6883\n",
            "Epoch 60/100\n",
            "20/20 [==============================] - 0s 4ms/step - loss: 0.0044 - accuracy: 1.0000 - val_loss: 2.1454 - val_accuracy: 0.6883\n",
            "Epoch 61/100\n",
            "20/20 [==============================] - 0s 4ms/step - loss: 0.0038 - accuracy: 0.9984 - val_loss: 2.2249 - val_accuracy: 0.6818\n",
            "Epoch 62/100\n",
            "20/20 [==============================] - 0s 4ms/step - loss: 0.0030 - accuracy: 0.9984 - val_loss: 2.3086 - val_accuracy: 0.6883\n",
            "Epoch 63/100\n",
            "20/20 [==============================] - 0s 5ms/step - loss: 0.0028 - accuracy: 0.9984 - val_loss: 2.3541 - val_accuracy: 0.6818\n",
            "Epoch 64/100\n",
            "20/20 [==============================] - 0s 4ms/step - loss: 0.0017 - accuracy: 1.0000 - val_loss: 2.3955 - val_accuracy: 0.6883\n",
            "Epoch 65/100\n",
            "20/20 [==============================] - 0s 4ms/step - loss: 0.0017 - accuracy: 1.0000 - val_loss: 2.4356 - val_accuracy: 0.6883\n",
            "Epoch 66/100\n",
            "20/20 [==============================] - 0s 4ms/step - loss: 0.0011 - accuracy: 1.0000 - val_loss: 2.4850 - val_accuracy: 0.6883\n",
            "Epoch 67/100\n",
            "20/20 [==============================] - 0s 4ms/step - loss: 0.0015 - accuracy: 1.0000 - val_loss: 2.5237 - val_accuracy: 0.6883\n",
            "Epoch 68/100\n",
            "20/20 [==============================] - 0s 4ms/step - loss: 8.1663e-04 - accuracy: 1.0000 - val_loss: 2.5618 - val_accuracy: 0.6883\n",
            "Epoch 69/100\n",
            "20/20 [==============================] - 0s 5ms/step - loss: 7.8291e-04 - accuracy: 1.0000 - val_loss: 2.5966 - val_accuracy: 0.6883\n",
            "Epoch 70/100\n",
            "20/20 [==============================] - 0s 4ms/step - loss: 6.2321e-04 - accuracy: 1.0000 - val_loss: 2.6343 - val_accuracy: 0.6883\n",
            "Epoch 71/100\n",
            "20/20 [==============================] - 0s 4ms/step - loss: 6.0400e-04 - accuracy: 1.0000 - val_loss: 2.6619 - val_accuracy: 0.6883\n",
            "Epoch 72/100\n",
            "20/20 [==============================] - 0s 4ms/step - loss: 6.3676e-04 - accuracy: 1.0000 - val_loss: 2.6900 - val_accuracy: 0.6948\n",
            "Epoch 73/100\n",
            "20/20 [==============================] - 0s 5ms/step - loss: 4.1783e-04 - accuracy: 1.0000 - val_loss: 2.7248 - val_accuracy: 0.6883\n",
            "Epoch 74/100\n",
            "20/20 [==============================] - 0s 4ms/step - loss: 7.6829e-04 - accuracy: 1.0000 - val_loss: 2.7475 - val_accuracy: 0.6818\n",
            "Epoch 75/100\n",
            "20/20 [==============================] - 0s 4ms/step - loss: 0.0023 - accuracy: 0.9984 - val_loss: 2.7709 - val_accuracy: 0.6818\n",
            "Epoch 76/100\n",
            "20/20 [==============================] - 0s 5ms/step - loss: 0.0107 - accuracy: 0.9984 - val_loss: 2.7113 - val_accuracy: 0.6818\n",
            "Epoch 77/100\n",
            "20/20 [==============================] - 0s 4ms/step - loss: 0.0033 - accuracy: 0.9984 - val_loss: 2.6760 - val_accuracy: 0.7013\n",
            "Epoch 78/100\n",
            "20/20 [==============================] - 0s 5ms/step - loss: 8.5299e-04 - accuracy: 1.0000 - val_loss: 2.7164 - val_accuracy: 0.6818\n",
            "Epoch 79/100\n",
            "20/20 [==============================] - 0s 5ms/step - loss: 4.9754e-04 - accuracy: 1.0000 - val_loss: 2.7534 - val_accuracy: 0.6818\n",
            "Epoch 80/100\n",
            "20/20 [==============================] - 0s 3ms/step - loss: 3.8847e-04 - accuracy: 1.0000 - val_loss: 2.7838 - val_accuracy: 0.6883\n",
            "Epoch 81/100\n",
            "20/20 [==============================] - 0s 4ms/step - loss: 3.2191e-04 - accuracy: 1.0000 - val_loss: 2.8117 - val_accuracy: 0.6883\n",
            "Epoch 82/100\n",
            "20/20 [==============================] - 0s 3ms/step - loss: 2.7587e-04 - accuracy: 1.0000 - val_loss: 2.8366 - val_accuracy: 0.6883\n",
            "Epoch 83/100\n",
            "20/20 [==============================] - 0s 4ms/step - loss: 2.5502e-04 - accuracy: 1.0000 - val_loss: 2.8612 - val_accuracy: 0.6883\n",
            "Epoch 84/100\n",
            "20/20 [==============================] - 0s 3ms/step - loss: 2.2159e-04 - accuracy: 1.0000 - val_loss: 2.8848 - val_accuracy: 0.6883\n",
            "Epoch 85/100\n",
            "20/20 [==============================] - 0s 3ms/step - loss: 2.0497e-04 - accuracy: 1.0000 - val_loss: 2.9061 - val_accuracy: 0.6883\n",
            "Epoch 86/100\n",
            "20/20 [==============================] - 0s 4ms/step - loss: 1.9149e-04 - accuracy: 1.0000 - val_loss: 2.9270 - val_accuracy: 0.6883\n",
            "Epoch 87/100\n",
            "20/20 [==============================] - 0s 3ms/step - loss: 1.8471e-04 - accuracy: 1.0000 - val_loss: 2.9491 - val_accuracy: 0.6883\n",
            "Epoch 88/100\n",
            "20/20 [==============================] - 0s 3ms/step - loss: 1.6777e-04 - accuracy: 1.0000 - val_loss: 2.9677 - val_accuracy: 0.6883\n",
            "Epoch 89/100\n",
            "20/20 [==============================] - 0s 3ms/step - loss: 1.5724e-04 - accuracy: 1.0000 - val_loss: 2.9879 - val_accuracy: 0.6883\n",
            "Epoch 90/100\n",
            "20/20 [==============================] - 0s 3ms/step - loss: 1.5431e-04 - accuracy: 1.0000 - val_loss: 3.0033 - val_accuracy: 0.6883\n",
            "Epoch 91/100\n",
            "20/20 [==============================] - 0s 4ms/step - loss: 1.3679e-04 - accuracy: 1.0000 - val_loss: 3.0228 - val_accuracy: 0.6883\n",
            "Epoch 92/100\n",
            "20/20 [==============================] - 0s 3ms/step - loss: 1.3240e-04 - accuracy: 1.0000 - val_loss: 3.0392 - val_accuracy: 0.6883\n",
            "Epoch 93/100\n",
            "20/20 [==============================] - 0s 3ms/step - loss: 1.2381e-04 - accuracy: 1.0000 - val_loss: 3.0550 - val_accuracy: 0.6883\n",
            "Epoch 94/100\n",
            "20/20 [==============================] - 0s 4ms/step - loss: 1.1607e-04 - accuracy: 1.0000 - val_loss: 3.0721 - val_accuracy: 0.6883\n",
            "Epoch 95/100\n",
            "20/20 [==============================] - 0s 4ms/step - loss: 1.1241e-04 - accuracy: 1.0000 - val_loss: 3.0879 - val_accuracy: 0.6883\n",
            "Epoch 96/100\n",
            "20/20 [==============================] - 0s 3ms/step - loss: 1.0698e-04 - accuracy: 1.0000 - val_loss: 3.1036 - val_accuracy: 0.6883\n",
            "Epoch 97/100\n",
            "20/20 [==============================] - 0s 3ms/step - loss: 1.0115e-04 - accuracy: 1.0000 - val_loss: 3.1181 - val_accuracy: 0.6883\n",
            "Epoch 98/100\n",
            "20/20 [==============================] - 0s 3ms/step - loss: 9.6177e-05 - accuracy: 1.0000 - val_loss: 3.1319 - val_accuracy: 0.6883\n",
            "Epoch 99/100\n",
            "20/20 [==============================] - 0s 3ms/step - loss: 9.2865e-05 - accuracy: 1.0000 - val_loss: 3.1446 - val_accuracy: 0.6883\n",
            "Epoch 100/100\n",
            "20/20 [==============================] - 0s 3ms/step - loss: 8.9954e-05 - accuracy: 1.0000 - val_loss: 3.1582 - val_accuracy: 0.6883\n"
          ]
        },
        {
          "data": {
            "text/plain": [
              "<keras.callbacks.History at 0x7f2521071b40>"
            ]
          },
          "execution_count": 44,
          "metadata": {},
          "output_type": "execute_result"
        }
      ],
      "source": [
        "model.fit(X_train, y_train, batch_size=32, epochs=100, initial_epoch=6, validation_data=(X_test, y_test))"
      ]
    },
    {
      "attachments": {},
      "cell_type": "markdown",
      "metadata": {
        "id": "wVlMmuapl75L"
      },
      "source": [
        "# Now at the last, we will find multiple things at once to get the best model"
      ]
    },
    {
      "cell_type": "code",
      "execution_count": 97,
      "metadata": {
        "id": "lOyFrjVml3t7"
      },
      "outputs": [],
      "source": [
        "def build_model(hp):\n",
        "  model = Sequential()\n",
        "  counter = 0\n",
        "\n",
        "  for i in range(hp.Int('lAyers', min_value=1, max_value=10)):\n",
        "    if counter==0:\n",
        "      model.add(\n",
        "          Dense(\n",
        "              hp.Int('uNits'+str(i), min_value=8, max_value=128, step=8),\n",
        "              activation = hp.Choice('aCtivation'+str(i), values=['relu', 'sigmoid', 'tanh']),\n",
        "              input_dim=8\n",
        "          )\n",
        "      )\n",
        "      # model.add(Dense(hp.Choice('dRopout'+str(i), values=[0.1,0.2,0.3,0.4,0.5,0.6,0.7,0.8,0.9])))\n",
        "    else:\n",
        "      model.add(\n",
        "          Dense(\n",
        "              hp.Int('uNits'+str(i), min_value=8, max_value=128, step=8),\n",
        "              activation = hp.Choice('aCtivation'+str(i), values=['relu', 'sigmoid', 'tanh'])\n",
        "          )\n",
        "      )\n",
        "      # model.add(Dense(hp.Choice('dRopout'+str(i), values=[0.1,0.2,0.3,0.4,0.5,0.6,0.7,0.8,0.9])))\n",
        "    counter+=1\n",
        "  model.add(Dense(1, activation='sigmoid'))\n",
        "  model.compile(optimizer=hp.Choice('oPtimizer', values=['rmsprop', 'sgd', 'adam', 'nadam', 'adadelta']), loss='binary_crossentropy', metrics=['accuracy'])\n",
        "  return model"
      ]
    },
    {
      "cell_type": "code",
      "execution_count": 98,
      "metadata": {
        "id": "Es19sOjfshPH"
      },
      "outputs": [],
      "source": [
        "tuner = kt.RandomSearch(build_model,\n",
        "                        objective='val_accuracy',\n",
        "                        max_trials=3,\n",
        "                        directory='name3',\n",
        "                        project_name='name4')"
      ]
    },
    {
      "cell_type": "code",
      "execution_count": 99,
      "metadata": {
        "colab": {
          "base_uri": "https://localhost:8080/"
        },
        "id": "KNWzdOIks4Yv",
        "outputId": "f13b6489-b990-4bd3-def9-a245b3f2e01c"
      },
      "outputs": [
        {
          "name": "stdout",
          "output_type": "stream",
          "text": [
            "Trial 3 Complete [00h 00m 02s]\n",
            "val_accuracy: 0.6428571343421936\n",
            "\n",
            "Best val_accuracy So Far: 0.6428571343421936\n",
            "Total elapsed time: 00h 00m 06s\n"
          ]
        }
      ],
      "source": [
        "tuner.search(X_train,y_train, epochs=5, validation_data=(X_test,y_test))"
      ]
    },
    {
      "cell_type": "code",
      "execution_count": 100,
      "metadata": {
        "colab": {
          "base_uri": "https://localhost:8080/"
        },
        "id": "LkI1-FbWtNZZ",
        "outputId": "0b9ed2a8-c6ce-411f-ca61-be5806299f05"
      },
      "outputs": [
        {
          "data": {
            "text/plain": [
              "{'lAyers': 2,\n",
              " 'uNits0': 128,\n",
              " 'aCtivation0': 'sigmoid',\n",
              " 'oPtimizer': 'sgd',\n",
              " 'uNits1': 8,\n",
              " 'aCtivation1': 'relu'}"
            ]
          },
          "execution_count": 100,
          "metadata": {},
          "output_type": "execute_result"
        }
      ],
      "source": [
        "tuner.get_best_hyperparameters()[0].values"
      ]
    },
    {
      "cell_type": "code",
      "execution_count": 101,
      "metadata": {
        "colab": {
          "base_uri": "https://localhost:8080/"
        },
        "id": "2Nrq2iqZtVkX",
        "outputId": "015f69ed-ef68-4f96-81af-1e21023a15e8"
      },
      "outputs": [
        {
          "name": "stdout",
          "output_type": "stream",
          "text": [
            "Model: \"sequential\"\n",
            "_________________________________________________________________\n",
            " Layer (type)                Output Shape              Param #   \n",
            "=================================================================\n",
            " dense (Dense)               (None, 128)               1152      \n",
            "                                                                 \n",
            " dense_1 (Dense)             (None, 8)                 1032      \n",
            "                                                                 \n",
            " dense_2 (Dense)             (None, 1)                 9         \n",
            "                                                                 \n",
            "=================================================================\n",
            "Total params: 2,193\n",
            "Trainable params: 2,193\n",
            "Non-trainable params: 0\n",
            "_________________________________________________________________\n"
          ]
        }
      ],
      "source": [
        "model = tuner.get_best_models(num_models=1)[0]\n",
        "model.summary()"
      ]
    },
    {
      "cell_type": "code",
      "execution_count": 102,
      "metadata": {
        "colab": {
          "base_uri": "https://localhost:8080/"
        },
        "id": "VI2qcg_5w2_-",
        "outputId": "6961cbfe-a865-45c2-aa9a-d145f86c0a41"
      },
      "outputs": [
        {
          "name": "stdout",
          "output_type": "stream",
          "text": [
            "Epoch 7/200\n",
            "20/20 [==============================] - 1s 8ms/step - loss: 0.6613 - accuracy: 0.6531 - val_loss: 0.6672 - val_accuracy: 0.6429\n",
            "Epoch 8/200\n",
            "20/20 [==============================] - 0s 3ms/step - loss: 0.6582 - accuracy: 0.6531 - val_loss: 0.6637 - val_accuracy: 0.6429\n",
            "Epoch 9/200\n",
            "20/20 [==============================] - 0s 4ms/step - loss: 0.6554 - accuracy: 0.6531 - val_loss: 0.6605 - val_accuracy: 0.6429\n",
            "Epoch 10/200\n",
            "20/20 [==============================] - 0s 4ms/step - loss: 0.6520 - accuracy: 0.6531 - val_loss: 0.6583 - val_accuracy: 0.6429\n",
            "Epoch 11/200\n",
            "20/20 [==============================] - 0s 2ms/step - loss: 0.6486 - accuracy: 0.6531 - val_loss: 0.6541 - val_accuracy: 0.6429\n",
            "Epoch 12/200\n",
            "20/20 [==============================] - 0s 2ms/step - loss: 0.6467 - accuracy: 0.6531 - val_loss: 0.6515 - val_accuracy: 0.6429\n",
            "Epoch 13/200\n",
            "20/20 [==============================] - 0s 3ms/step - loss: 0.6436 - accuracy: 0.6531 - val_loss: 0.6480 - val_accuracy: 0.6429\n",
            "Epoch 14/200\n",
            "20/20 [==============================] - 0s 3ms/step - loss: 0.6408 - accuracy: 0.6531 - val_loss: 0.6469 - val_accuracy: 0.6429\n",
            "Epoch 15/200\n",
            "20/20 [==============================] - 0s 2ms/step - loss: 0.6387 - accuracy: 0.6531 - val_loss: 0.6434 - val_accuracy: 0.6429\n",
            "Epoch 16/200\n",
            "20/20 [==============================] - 0s 2ms/step - loss: 0.6353 - accuracy: 0.6531 - val_loss: 0.6400 - val_accuracy: 0.6429\n",
            "Epoch 17/200\n",
            "20/20 [==============================] - 0s 3ms/step - loss: 0.6326 - accuracy: 0.6531 - val_loss: 0.6378 - val_accuracy: 0.6429\n",
            "Epoch 18/200\n",
            "20/20 [==============================] - 0s 2ms/step - loss: 0.6300 - accuracy: 0.6531 - val_loss: 0.6335 - val_accuracy: 0.6429\n",
            "Epoch 19/200\n",
            "20/20 [==============================] - 0s 3ms/step - loss: 0.6273 - accuracy: 0.6531 - val_loss: 0.6308 - val_accuracy: 0.6429\n",
            "Epoch 20/200\n",
            "20/20 [==============================] - 0s 3ms/step - loss: 0.6242 - accuracy: 0.6531 - val_loss: 0.6278 - val_accuracy: 0.6429\n",
            "Epoch 21/200\n",
            "20/20 [==============================] - 0s 2ms/step - loss: 0.6222 - accuracy: 0.6531 - val_loss: 0.6247 - val_accuracy: 0.6429\n",
            "Epoch 22/200\n",
            "20/20 [==============================] - 0s 3ms/step - loss: 0.6197 - accuracy: 0.6531 - val_loss: 0.6210 - val_accuracy: 0.6429\n",
            "Epoch 23/200\n",
            "20/20 [==============================] - 0s 3ms/step - loss: 0.6161 - accuracy: 0.6531 - val_loss: 0.6184 - val_accuracy: 0.6429\n",
            "Epoch 24/200\n",
            "20/20 [==============================] - 0s 2ms/step - loss: 0.6135 - accuracy: 0.6531 - val_loss: 0.6151 - val_accuracy: 0.6429\n",
            "Epoch 25/200\n",
            "20/20 [==============================] - 0s 3ms/step - loss: 0.6101 - accuracy: 0.6531 - val_loss: 0.6116 - val_accuracy: 0.6429\n",
            "Epoch 26/200\n",
            "20/20 [==============================] - 0s 3ms/step - loss: 0.6074 - accuracy: 0.6531 - val_loss: 0.6086 - val_accuracy: 0.6429\n",
            "Epoch 27/200\n",
            "20/20 [==============================] - 0s 4ms/step - loss: 0.6045 - accuracy: 0.6531 - val_loss: 0.6057 - val_accuracy: 0.6429\n",
            "Epoch 28/200\n",
            "20/20 [==============================] - 0s 3ms/step - loss: 0.6019 - accuracy: 0.6531 - val_loss: 0.6025 - val_accuracy: 0.6429\n",
            "Epoch 29/200\n",
            "20/20 [==============================] - 0s 3ms/step - loss: 0.5988 - accuracy: 0.6531 - val_loss: 0.5995 - val_accuracy: 0.6429\n",
            "Epoch 30/200\n",
            "20/20 [==============================] - 0s 3ms/step - loss: 0.5960 - accuracy: 0.6531 - val_loss: 0.5963 - val_accuracy: 0.6429\n",
            "Epoch 31/200\n",
            "20/20 [==============================] - 0s 3ms/step - loss: 0.5923 - accuracy: 0.6515 - val_loss: 0.5926 - val_accuracy: 0.6494\n",
            "Epoch 32/200\n",
            "20/20 [==============================] - 0s 2ms/step - loss: 0.5908 - accuracy: 0.6515 - val_loss: 0.5892 - val_accuracy: 0.6623\n",
            "Epoch 33/200\n",
            "20/20 [==============================] - 0s 2ms/step - loss: 0.5867 - accuracy: 0.6580 - val_loss: 0.5859 - val_accuracy: 0.6688\n",
            "Epoch 34/200\n",
            "20/20 [==============================] - 0s 3ms/step - loss: 0.5833 - accuracy: 0.6596 - val_loss: 0.5828 - val_accuracy: 0.6688\n",
            "Epoch 35/200\n",
            "20/20 [==============================] - 0s 3ms/step - loss: 0.5803 - accuracy: 0.6580 - val_loss: 0.5796 - val_accuracy: 0.6688\n",
            "Epoch 36/200\n",
            "20/20 [==============================] - 0s 4ms/step - loss: 0.5765 - accuracy: 0.6580 - val_loss: 0.5758 - val_accuracy: 0.6883\n",
            "Epoch 37/200\n",
            "20/20 [==============================] - 0s 3ms/step - loss: 0.5741 - accuracy: 0.6694 - val_loss: 0.5722 - val_accuracy: 0.6883\n",
            "Epoch 38/200\n",
            "20/20 [==============================] - 0s 3ms/step - loss: 0.5701 - accuracy: 0.6873 - val_loss: 0.5732 - val_accuracy: 0.6688\n",
            "Epoch 39/200\n",
            "20/20 [==============================] - 0s 3ms/step - loss: 0.5686 - accuracy: 0.6629 - val_loss: 0.5659 - val_accuracy: 0.6948\n",
            "Epoch 40/200\n",
            "20/20 [==============================] - 0s 3ms/step - loss: 0.5644 - accuracy: 0.6954 - val_loss: 0.5657 - val_accuracy: 0.6688\n",
            "Epoch 41/200\n",
            "20/20 [==============================] - 0s 4ms/step - loss: 0.5612 - accuracy: 0.6694 - val_loss: 0.5596 - val_accuracy: 0.7013\n",
            "Epoch 42/200\n",
            "20/20 [==============================] - 0s 4ms/step - loss: 0.5589 - accuracy: 0.7020 - val_loss: 0.5576 - val_accuracy: 0.6948\n",
            "Epoch 43/200\n",
            "20/20 [==============================] - 0s 2ms/step - loss: 0.5556 - accuracy: 0.7068 - val_loss: 0.5535 - val_accuracy: 0.7013\n",
            "Epoch 44/200\n",
            "20/20 [==============================] - 0s 3ms/step - loss: 0.5523 - accuracy: 0.7052 - val_loss: 0.5495 - val_accuracy: 0.7338\n",
            "Epoch 45/200\n",
            "20/20 [==============================] - 0s 3ms/step - loss: 0.5491 - accuracy: 0.7117 - val_loss: 0.5465 - val_accuracy: 0.7338\n",
            "Epoch 46/200\n",
            "20/20 [==============================] - 0s 2ms/step - loss: 0.5460 - accuracy: 0.7264 - val_loss: 0.5430 - val_accuracy: 0.7468\n",
            "Epoch 47/200\n",
            "20/20 [==============================] - 0s 3ms/step - loss: 0.5428 - accuracy: 0.7296 - val_loss: 0.5403 - val_accuracy: 0.7597\n",
            "Epoch 48/200\n",
            "20/20 [==============================] - 0s 3ms/step - loss: 0.5398 - accuracy: 0.7492 - val_loss: 0.5363 - val_accuracy: 0.7532\n",
            "Epoch 49/200\n",
            "20/20 [==============================] - 0s 3ms/step - loss: 0.5368 - accuracy: 0.7394 - val_loss: 0.5352 - val_accuracy: 0.7338\n",
            "Epoch 50/200\n",
            "20/20 [==============================] - 0s 3ms/step - loss: 0.5347 - accuracy: 0.7427 - val_loss: 0.5327 - val_accuracy: 0.7273\n",
            "Epoch 51/200\n",
            "20/20 [==============================] - 0s 3ms/step - loss: 0.5318 - accuracy: 0.7378 - val_loss: 0.5302 - val_accuracy: 0.7338\n",
            "Epoch 52/200\n",
            "20/20 [==============================] - 0s 3ms/step - loss: 0.5292 - accuracy: 0.7443 - val_loss: 0.5250 - val_accuracy: 0.7597\n",
            "Epoch 53/200\n",
            "20/20 [==============================] - 0s 3ms/step - loss: 0.5263 - accuracy: 0.7492 - val_loss: 0.5234 - val_accuracy: 0.7532\n",
            "Epoch 54/200\n",
            "20/20 [==============================] - 0s 2ms/step - loss: 0.5233 - accuracy: 0.7508 - val_loss: 0.5208 - val_accuracy: 0.7532\n",
            "Epoch 55/200\n",
            "20/20 [==============================] - 0s 3ms/step - loss: 0.5206 - accuracy: 0.7443 - val_loss: 0.5180 - val_accuracy: 0.7597\n",
            "Epoch 56/200\n",
            "20/20 [==============================] - 0s 3ms/step - loss: 0.5184 - accuracy: 0.7508 - val_loss: 0.5153 - val_accuracy: 0.7597\n",
            "Epoch 57/200\n",
            "20/20 [==============================] - 0s 4ms/step - loss: 0.5164 - accuracy: 0.7590 - val_loss: 0.5155 - val_accuracy: 0.7727\n",
            "Epoch 58/200\n",
            "20/20 [==============================] - 0s 3ms/step - loss: 0.5153 - accuracy: 0.7720 - val_loss: 0.5115 - val_accuracy: 0.7597\n",
            "Epoch 59/200\n",
            "20/20 [==============================] - 0s 3ms/step - loss: 0.5121 - accuracy: 0.7557 - val_loss: 0.5093 - val_accuracy: 0.7727\n",
            "Epoch 60/200\n",
            "20/20 [==============================] - 0s 2ms/step - loss: 0.5113 - accuracy: 0.7704 - val_loss: 0.5075 - val_accuracy: 0.7597\n",
            "Epoch 61/200\n",
            "20/20 [==============================] - 0s 3ms/step - loss: 0.5083 - accuracy: 0.7769 - val_loss: 0.5051 - val_accuracy: 0.7662\n",
            "Epoch 62/200\n",
            "20/20 [==============================] - 0s 3ms/step - loss: 0.5061 - accuracy: 0.7671 - val_loss: 0.5031 - val_accuracy: 0.7727\n",
            "Epoch 63/200\n",
            "20/20 [==============================] - 0s 3ms/step - loss: 0.5041 - accuracy: 0.7687 - val_loss: 0.5017 - val_accuracy: 0.7662\n",
            "Epoch 64/200\n",
            "20/20 [==============================] - 0s 3ms/step - loss: 0.5030 - accuracy: 0.7720 - val_loss: 0.5014 - val_accuracy: 0.7597\n",
            "Epoch 65/200\n",
            "20/20 [==============================] - 0s 2ms/step - loss: 0.5011 - accuracy: 0.7638 - val_loss: 0.5002 - val_accuracy: 0.7727\n",
            "Epoch 66/200\n",
            "20/20 [==============================] - 0s 3ms/step - loss: 0.5003 - accuracy: 0.7736 - val_loss: 0.4998 - val_accuracy: 0.7532\n",
            "Epoch 67/200\n",
            "20/20 [==============================] - 0s 3ms/step - loss: 0.4976 - accuracy: 0.7606 - val_loss: 0.4958 - val_accuracy: 0.7727\n",
            "Epoch 68/200\n",
            "20/20 [==============================] - 0s 3ms/step - loss: 0.4966 - accuracy: 0.7720 - val_loss: 0.4942 - val_accuracy: 0.7662\n",
            "Epoch 69/200\n",
            "20/20 [==============================] - 0s 3ms/step - loss: 0.4956 - accuracy: 0.7704 - val_loss: 0.4931 - val_accuracy: 0.7662\n",
            "Epoch 70/200\n",
            "20/20 [==============================] - 0s 3ms/step - loss: 0.4946 - accuracy: 0.7752 - val_loss: 0.4920 - val_accuracy: 0.7727\n",
            "Epoch 71/200\n",
            "20/20 [==============================] - 0s 3ms/step - loss: 0.4909 - accuracy: 0.7736 - val_loss: 0.4971 - val_accuracy: 0.7597\n",
            "Epoch 72/200\n",
            "20/20 [==============================] - 0s 3ms/step - loss: 0.4929 - accuracy: 0.7720 - val_loss: 0.4907 - val_accuracy: 0.7727\n",
            "Epoch 73/200\n",
            "20/20 [==============================] - 0s 2ms/step - loss: 0.4911 - accuracy: 0.7785 - val_loss: 0.4917 - val_accuracy: 0.7662\n",
            "Epoch 74/200\n",
            "20/20 [==============================] - 0s 3ms/step - loss: 0.4894 - accuracy: 0.7752 - val_loss: 0.4903 - val_accuracy: 0.7662\n",
            "Epoch 75/200\n",
            "20/20 [==============================] - 0s 2ms/step - loss: 0.4892 - accuracy: 0.7720 - val_loss: 0.4922 - val_accuracy: 0.7662\n",
            "Epoch 76/200\n",
            "20/20 [==============================] - 0s 3ms/step - loss: 0.4877 - accuracy: 0.7687 - val_loss: 0.4868 - val_accuracy: 0.7727\n",
            "Epoch 77/200\n",
            "20/20 [==============================] - 0s 2ms/step - loss: 0.4864 - accuracy: 0.7785 - val_loss: 0.4855 - val_accuracy: 0.7727\n",
            "Epoch 78/200\n",
            "20/20 [==============================] - 0s 3ms/step - loss: 0.4856 - accuracy: 0.7720 - val_loss: 0.4888 - val_accuracy: 0.7727\n",
            "Epoch 79/200\n",
            "20/20 [==============================] - 0s 3ms/step - loss: 0.4855 - accuracy: 0.7704 - val_loss: 0.4849 - val_accuracy: 0.7727\n",
            "Epoch 80/200\n",
            "20/20 [==============================] - 0s 3ms/step - loss: 0.4834 - accuracy: 0.7752 - val_loss: 0.4835 - val_accuracy: 0.7727\n",
            "Epoch 81/200\n",
            "20/20 [==============================] - 0s 3ms/step - loss: 0.4823 - accuracy: 0.7801 - val_loss: 0.4851 - val_accuracy: 0.7727\n",
            "Epoch 82/200\n",
            "20/20 [==============================] - 0s 3ms/step - loss: 0.4822 - accuracy: 0.7736 - val_loss: 0.4841 - val_accuracy: 0.7727\n",
            "Epoch 83/200\n",
            "20/20 [==============================] - 0s 4ms/step - loss: 0.4819 - accuracy: 0.7769 - val_loss: 0.4822 - val_accuracy: 0.7597\n",
            "Epoch 84/200\n",
            "20/20 [==============================] - 0s 2ms/step - loss: 0.4819 - accuracy: 0.7801 - val_loss: 0.4814 - val_accuracy: 0.7662\n",
            "Epoch 85/200\n",
            "20/20 [==============================] - 0s 4ms/step - loss: 0.4803 - accuracy: 0.7671 - val_loss: 0.4807 - val_accuracy: 0.7597\n",
            "Epoch 86/200\n",
            "20/20 [==============================] - 0s 2ms/step - loss: 0.4788 - accuracy: 0.7736 - val_loss: 0.4846 - val_accuracy: 0.7727\n",
            "Epoch 87/200\n",
            "20/20 [==============================] - 0s 3ms/step - loss: 0.4799 - accuracy: 0.7736 - val_loss: 0.4803 - val_accuracy: 0.7727\n",
            "Epoch 88/200\n",
            "20/20 [==============================] - 0s 3ms/step - loss: 0.4775 - accuracy: 0.7834 - val_loss: 0.4792 - val_accuracy: 0.7597\n",
            "Epoch 89/200\n",
            "20/20 [==============================] - 0s 3ms/step - loss: 0.4776 - accuracy: 0.7752 - val_loss: 0.4802 - val_accuracy: 0.7727\n",
            "Epoch 90/200\n",
            "20/20 [==============================] - 0s 3ms/step - loss: 0.4779 - accuracy: 0.7752 - val_loss: 0.4788 - val_accuracy: 0.7662\n",
            "Epoch 91/200\n",
            "20/20 [==============================] - 0s 3ms/step - loss: 0.4772 - accuracy: 0.7801 - val_loss: 0.4784 - val_accuracy: 0.7727\n",
            "Epoch 92/200\n",
            "20/20 [==============================] - 0s 4ms/step - loss: 0.4780 - accuracy: 0.7704 - val_loss: 0.4789 - val_accuracy: 0.7727\n",
            "Epoch 93/200\n",
            "20/20 [==============================] - 0s 2ms/step - loss: 0.4774 - accuracy: 0.7785 - val_loss: 0.4800 - val_accuracy: 0.7727\n",
            "Epoch 94/200\n",
            "20/20 [==============================] - 0s 2ms/step - loss: 0.4762 - accuracy: 0.7785 - val_loss: 0.4851 - val_accuracy: 0.8052\n",
            "Epoch 95/200\n",
            "20/20 [==============================] - 0s 2ms/step - loss: 0.4790 - accuracy: 0.7671 - val_loss: 0.4783 - val_accuracy: 0.7727\n",
            "Epoch 96/200\n",
            "20/20 [==============================] - 0s 4ms/step - loss: 0.4751 - accuracy: 0.7801 - val_loss: 0.4768 - val_accuracy: 0.7532\n",
            "Epoch 97/200\n",
            "20/20 [==============================] - 0s 3ms/step - loss: 0.4746 - accuracy: 0.7720 - val_loss: 0.4762 - val_accuracy: 0.7597\n",
            "Epoch 98/200\n",
            "20/20 [==============================] - 0s 3ms/step - loss: 0.4744 - accuracy: 0.7720 - val_loss: 0.4760 - val_accuracy: 0.7662\n",
            "Epoch 99/200\n",
            "20/20 [==============================] - 0s 3ms/step - loss: 0.4750 - accuracy: 0.7752 - val_loss: 0.4807 - val_accuracy: 0.7727\n",
            "Epoch 100/200\n",
            "20/20 [==============================] - 0s 3ms/step - loss: 0.4747 - accuracy: 0.7769 - val_loss: 0.4755 - val_accuracy: 0.7597\n",
            "Epoch 101/200\n",
            "20/20 [==============================] - 0s 3ms/step - loss: 0.4728 - accuracy: 0.7736 - val_loss: 0.4768 - val_accuracy: 0.7792\n",
            "Epoch 102/200\n",
            "20/20 [==============================] - 0s 2ms/step - loss: 0.4723 - accuracy: 0.7638 - val_loss: 0.4764 - val_accuracy: 0.7662\n",
            "Epoch 103/200\n",
            "20/20 [==============================] - 0s 3ms/step - loss: 0.4725 - accuracy: 0.7736 - val_loss: 0.4753 - val_accuracy: 0.7532\n",
            "Epoch 104/200\n",
            "20/20 [==============================] - 0s 3ms/step - loss: 0.4728 - accuracy: 0.7801 - val_loss: 0.4778 - val_accuracy: 0.7662\n",
            "Epoch 105/200\n",
            "20/20 [==============================] - 0s 3ms/step - loss: 0.4730 - accuracy: 0.7655 - val_loss: 0.4749 - val_accuracy: 0.7727\n",
            "Epoch 106/200\n",
            "20/20 [==============================] - 0s 3ms/step - loss: 0.4727 - accuracy: 0.7720 - val_loss: 0.4747 - val_accuracy: 0.7727\n",
            "Epoch 107/200\n",
            "20/20 [==============================] - 0s 3ms/step - loss: 0.4723 - accuracy: 0.7720 - val_loss: 0.4747 - val_accuracy: 0.7532\n",
            "Epoch 108/200\n",
            "20/20 [==============================] - 0s 3ms/step - loss: 0.4723 - accuracy: 0.7752 - val_loss: 0.4744 - val_accuracy: 0.7597\n",
            "Epoch 109/200\n",
            "20/20 [==============================] - 0s 3ms/step - loss: 0.4710 - accuracy: 0.7704 - val_loss: 0.4757 - val_accuracy: 0.7662\n",
            "Epoch 110/200\n",
            "20/20 [==============================] - 0s 3ms/step - loss: 0.4720 - accuracy: 0.7752 - val_loss: 0.4742 - val_accuracy: 0.7857\n",
            "Epoch 111/200\n",
            "20/20 [==============================] - 0s 3ms/step - loss: 0.4710 - accuracy: 0.7671 - val_loss: 0.4739 - val_accuracy: 0.7662\n",
            "Epoch 112/200\n",
            "20/20 [==============================] - 0s 3ms/step - loss: 0.4708 - accuracy: 0.7704 - val_loss: 0.4738 - val_accuracy: 0.7792\n",
            "Epoch 113/200\n",
            "20/20 [==============================] - 0s 3ms/step - loss: 0.4697 - accuracy: 0.7687 - val_loss: 0.4736 - val_accuracy: 0.7662\n",
            "Epoch 114/200\n",
            "20/20 [==============================] - 0s 2ms/step - loss: 0.4708 - accuracy: 0.7785 - val_loss: 0.4738 - val_accuracy: 0.7662\n",
            "Epoch 115/200\n",
            "20/20 [==============================] - 0s 3ms/step - loss: 0.4708 - accuracy: 0.7638 - val_loss: 0.4739 - val_accuracy: 0.7662\n",
            "Epoch 116/200\n",
            "20/20 [==============================] - 0s 3ms/step - loss: 0.4699 - accuracy: 0.7736 - val_loss: 0.4732 - val_accuracy: 0.7727\n",
            "Epoch 117/200\n",
            "20/20 [==============================] - 0s 3ms/step - loss: 0.4700 - accuracy: 0.7687 - val_loss: 0.4837 - val_accuracy: 0.7922\n",
            "Epoch 118/200\n",
            "20/20 [==============================] - 0s 3ms/step - loss: 0.4729 - accuracy: 0.7720 - val_loss: 0.4731 - val_accuracy: 0.7792\n",
            "Epoch 119/200\n",
            "20/20 [==============================] - 0s 4ms/step - loss: 0.4699 - accuracy: 0.7671 - val_loss: 0.4777 - val_accuracy: 0.7662\n",
            "Epoch 120/200\n",
            "20/20 [==============================] - 0s 2ms/step - loss: 0.4715 - accuracy: 0.7769 - val_loss: 0.4756 - val_accuracy: 0.7792\n",
            "Epoch 121/200\n",
            "20/20 [==============================] - 0s 3ms/step - loss: 0.4694 - accuracy: 0.7736 - val_loss: 0.4731 - val_accuracy: 0.7727\n",
            "Epoch 122/200\n",
            "20/20 [==============================] - 0s 3ms/step - loss: 0.4689 - accuracy: 0.7752 - val_loss: 0.4744 - val_accuracy: 0.7662\n",
            "Epoch 123/200\n",
            "20/20 [==============================] - 0s 2ms/step - loss: 0.4692 - accuracy: 0.7736 - val_loss: 0.4753 - val_accuracy: 0.7597\n",
            "Epoch 124/200\n",
            "20/20 [==============================] - 0s 4ms/step - loss: 0.4700 - accuracy: 0.7720 - val_loss: 0.4739 - val_accuracy: 0.7727\n",
            "Epoch 125/200\n",
            "20/20 [==============================] - 0s 4ms/step - loss: 0.4692 - accuracy: 0.7736 - val_loss: 0.4740 - val_accuracy: 0.7727\n",
            "Epoch 126/200\n",
            "20/20 [==============================] - 0s 4ms/step - loss: 0.4681 - accuracy: 0.7671 - val_loss: 0.4730 - val_accuracy: 0.7792\n",
            "Epoch 127/200\n",
            "20/20 [==============================] - 0s 3ms/step - loss: 0.4713 - accuracy: 0.7687 - val_loss: 0.4729 - val_accuracy: 0.7792\n",
            "Epoch 128/200\n",
            "20/20 [==============================] - 0s 4ms/step - loss: 0.4687 - accuracy: 0.7752 - val_loss: 0.4729 - val_accuracy: 0.7792\n",
            "Epoch 129/200\n",
            "20/20 [==============================] - 0s 4ms/step - loss: 0.4685 - accuracy: 0.7752 - val_loss: 0.4726 - val_accuracy: 0.7792\n",
            "Epoch 130/200\n",
            "20/20 [==============================] - 0s 4ms/step - loss: 0.4677 - accuracy: 0.7752 - val_loss: 0.4726 - val_accuracy: 0.7792\n",
            "Epoch 131/200\n",
            "20/20 [==============================] - 0s 4ms/step - loss: 0.4681 - accuracy: 0.7752 - val_loss: 0.4724 - val_accuracy: 0.7727\n",
            "Epoch 132/200\n",
            "20/20 [==============================] - 0s 4ms/step - loss: 0.4687 - accuracy: 0.7720 - val_loss: 0.4735 - val_accuracy: 0.7727\n",
            "Epoch 133/200\n",
            "20/20 [==============================] - 0s 4ms/step - loss: 0.4676 - accuracy: 0.7752 - val_loss: 0.4724 - val_accuracy: 0.7792\n",
            "Epoch 134/200\n",
            "20/20 [==============================] - 0s 4ms/step - loss: 0.4684 - accuracy: 0.7671 - val_loss: 0.4754 - val_accuracy: 0.7792\n",
            "Epoch 135/200\n",
            "20/20 [==============================] - 0s 3ms/step - loss: 0.4695 - accuracy: 0.7704 - val_loss: 0.4723 - val_accuracy: 0.7792\n",
            "Epoch 136/200\n",
            "20/20 [==============================] - 0s 3ms/step - loss: 0.4700 - accuracy: 0.7736 - val_loss: 0.4722 - val_accuracy: 0.7792\n",
            "Epoch 137/200\n",
            "20/20 [==============================] - 0s 3ms/step - loss: 0.4681 - accuracy: 0.7720 - val_loss: 0.4722 - val_accuracy: 0.7792\n",
            "Epoch 138/200\n",
            "20/20 [==============================] - 0s 4ms/step - loss: 0.4681 - accuracy: 0.7785 - val_loss: 0.4754 - val_accuracy: 0.7727\n",
            "Epoch 139/200\n",
            "20/20 [==============================] - 0s 3ms/step - loss: 0.4692 - accuracy: 0.7752 - val_loss: 0.4719 - val_accuracy: 0.7792\n",
            "Epoch 140/200\n",
            "20/20 [==============================] - 0s 3ms/step - loss: 0.4678 - accuracy: 0.7720 - val_loss: 0.4797 - val_accuracy: 0.7662\n",
            "Epoch 141/200\n",
            "20/20 [==============================] - 0s 4ms/step - loss: 0.4660 - accuracy: 0.7736 - val_loss: 0.4720 - val_accuracy: 0.7792\n",
            "Epoch 142/200\n",
            "20/20 [==============================] - 0s 5ms/step - loss: 0.4674 - accuracy: 0.7720 - val_loss: 0.4727 - val_accuracy: 0.7792\n",
            "Epoch 143/200\n",
            "20/20 [==============================] - 0s 4ms/step - loss: 0.4675 - accuracy: 0.7769 - val_loss: 0.4735 - val_accuracy: 0.7792\n",
            "Epoch 144/200\n",
            "20/20 [==============================] - 0s 3ms/step - loss: 0.4672 - accuracy: 0.7769 - val_loss: 0.4720 - val_accuracy: 0.7662\n",
            "Epoch 145/200\n",
            "20/20 [==============================] - 0s 4ms/step - loss: 0.4674 - accuracy: 0.7704 - val_loss: 0.4719 - val_accuracy: 0.7792\n",
            "Epoch 146/200\n",
            "20/20 [==============================] - 0s 4ms/step - loss: 0.4676 - accuracy: 0.7736 - val_loss: 0.4729 - val_accuracy: 0.7792\n",
            "Epoch 147/200\n",
            "20/20 [==============================] - 0s 5ms/step - loss: 0.4675 - accuracy: 0.7736 - val_loss: 0.4740 - val_accuracy: 0.7792\n",
            "Epoch 148/200\n",
            "20/20 [==============================] - 0s 2ms/step - loss: 0.4683 - accuracy: 0.7720 - val_loss: 0.4732 - val_accuracy: 0.7792\n",
            "Epoch 149/200\n",
            "20/20 [==============================] - 0s 3ms/step - loss: 0.4670 - accuracy: 0.7736 - val_loss: 0.4722 - val_accuracy: 0.7792\n",
            "Epoch 150/200\n",
            "20/20 [==============================] - 0s 2ms/step - loss: 0.4674 - accuracy: 0.7736 - val_loss: 0.4718 - val_accuracy: 0.7792\n",
            "Epoch 151/200\n",
            "20/20 [==============================] - 0s 4ms/step - loss: 0.4679 - accuracy: 0.7752 - val_loss: 0.4730 - val_accuracy: 0.7792\n",
            "Epoch 152/200\n",
            "20/20 [==============================] - 0s 3ms/step - loss: 0.4675 - accuracy: 0.7769 - val_loss: 0.4718 - val_accuracy: 0.7792\n",
            "Epoch 153/200\n",
            "20/20 [==============================] - 0s 3ms/step - loss: 0.4654 - accuracy: 0.7655 - val_loss: 0.4724 - val_accuracy: 0.7792\n",
            "Epoch 154/200\n",
            "20/20 [==============================] - 0s 3ms/step - loss: 0.4677 - accuracy: 0.7785 - val_loss: 0.4724 - val_accuracy: 0.7792\n",
            "Epoch 155/200\n",
            "20/20 [==============================] - 0s 3ms/step - loss: 0.4678 - accuracy: 0.7801 - val_loss: 0.4717 - val_accuracy: 0.7727\n",
            "Epoch 156/200\n",
            "20/20 [==============================] - 0s 3ms/step - loss: 0.4667 - accuracy: 0.7752 - val_loss: 0.4718 - val_accuracy: 0.7727\n",
            "Epoch 157/200\n",
            "20/20 [==============================] - 0s 3ms/step - loss: 0.4666 - accuracy: 0.7785 - val_loss: 0.4721 - val_accuracy: 0.7792\n",
            "Epoch 158/200\n",
            "20/20 [==============================] - 0s 2ms/step - loss: 0.4671 - accuracy: 0.7687 - val_loss: 0.4759 - val_accuracy: 0.7727\n",
            "Epoch 159/200\n",
            "20/20 [==============================] - 0s 2ms/step - loss: 0.4677 - accuracy: 0.7785 - val_loss: 0.4740 - val_accuracy: 0.7792\n",
            "Epoch 160/200\n",
            "20/20 [==============================] - 0s 3ms/step - loss: 0.4656 - accuracy: 0.7801 - val_loss: 0.4720 - val_accuracy: 0.7792\n",
            "Epoch 161/200\n",
            "20/20 [==============================] - 0s 3ms/step - loss: 0.4667 - accuracy: 0.7752 - val_loss: 0.4747 - val_accuracy: 0.7727\n",
            "Epoch 162/200\n",
            "20/20 [==============================] - 0s 3ms/step - loss: 0.4667 - accuracy: 0.7834 - val_loss: 0.4717 - val_accuracy: 0.7792\n",
            "Epoch 163/200\n",
            "20/20 [==============================] - 0s 3ms/step - loss: 0.4672 - accuracy: 0.7671 - val_loss: 0.4714 - val_accuracy: 0.7727\n",
            "Epoch 164/200\n",
            "20/20 [==============================] - 0s 3ms/step - loss: 0.4658 - accuracy: 0.7785 - val_loss: 0.4836 - val_accuracy: 0.8052\n",
            "Epoch 165/200\n",
            "20/20 [==============================] - 0s 4ms/step - loss: 0.4709 - accuracy: 0.7655 - val_loss: 0.4714 - val_accuracy: 0.7727\n",
            "Epoch 166/200\n",
            "20/20 [==============================] - 0s 2ms/step - loss: 0.4673 - accuracy: 0.7687 - val_loss: 0.4717 - val_accuracy: 0.7792\n",
            "Epoch 167/200\n",
            "20/20 [==============================] - 0s 2ms/step - loss: 0.4666 - accuracy: 0.7818 - val_loss: 0.4755 - val_accuracy: 0.7857\n",
            "Epoch 168/200\n",
            "20/20 [==============================] - 0s 3ms/step - loss: 0.4677 - accuracy: 0.7752 - val_loss: 0.4720 - val_accuracy: 0.7792\n",
            "Epoch 169/200\n",
            "20/20 [==============================] - 0s 3ms/step - loss: 0.4668 - accuracy: 0.7704 - val_loss: 0.4717 - val_accuracy: 0.7727\n",
            "Epoch 170/200\n",
            "20/20 [==============================] - 0s 2ms/step - loss: 0.4659 - accuracy: 0.7736 - val_loss: 0.4716 - val_accuracy: 0.7792\n",
            "Epoch 171/200\n",
            "20/20 [==============================] - 0s 3ms/step - loss: 0.4677 - accuracy: 0.7801 - val_loss: 0.4752 - val_accuracy: 0.7792\n",
            "Epoch 172/200\n",
            "20/20 [==============================] - 0s 3ms/step - loss: 0.4666 - accuracy: 0.7704 - val_loss: 0.4732 - val_accuracy: 0.7792\n",
            "Epoch 173/200\n",
            "20/20 [==============================] - 0s 3ms/step - loss: 0.4669 - accuracy: 0.7785 - val_loss: 0.4714 - val_accuracy: 0.7857\n",
            "Epoch 174/200\n",
            "20/20 [==============================] - 0s 3ms/step - loss: 0.4671 - accuracy: 0.7785 - val_loss: 0.4793 - val_accuracy: 0.7987\n",
            "Epoch 175/200\n",
            "20/20 [==============================] - 0s 3ms/step - loss: 0.4657 - accuracy: 0.7671 - val_loss: 0.4728 - val_accuracy: 0.7792\n",
            "Epoch 176/200\n",
            "20/20 [==============================] - 0s 4ms/step - loss: 0.4677 - accuracy: 0.7769 - val_loss: 0.4749 - val_accuracy: 0.7792\n",
            "Epoch 177/200\n",
            "20/20 [==============================] - 0s 3ms/step - loss: 0.4678 - accuracy: 0.7720 - val_loss: 0.4713 - val_accuracy: 0.7727\n",
            "Epoch 178/200\n",
            "20/20 [==============================] - 0s 3ms/step - loss: 0.4661 - accuracy: 0.7736 - val_loss: 0.4721 - val_accuracy: 0.7792\n",
            "Epoch 179/200\n",
            "20/20 [==============================] - 0s 3ms/step - loss: 0.4676 - accuracy: 0.7801 - val_loss: 0.4712 - val_accuracy: 0.7792\n",
            "Epoch 180/200\n",
            "20/20 [==============================] - 0s 3ms/step - loss: 0.4665 - accuracy: 0.7752 - val_loss: 0.4726 - val_accuracy: 0.7792\n",
            "Epoch 181/200\n",
            "20/20 [==============================] - 0s 3ms/step - loss: 0.4646 - accuracy: 0.7866 - val_loss: 0.4711 - val_accuracy: 0.7727\n",
            "Epoch 182/200\n",
            "20/20 [==============================] - 0s 2ms/step - loss: 0.4681 - accuracy: 0.7704 - val_loss: 0.4713 - val_accuracy: 0.7857\n",
            "Epoch 183/200\n",
            "20/20 [==============================] - 0s 3ms/step - loss: 0.4661 - accuracy: 0.7769 - val_loss: 0.4721 - val_accuracy: 0.7792\n",
            "Epoch 184/200\n",
            "20/20 [==============================] - 0s 3ms/step - loss: 0.4665 - accuracy: 0.7769 - val_loss: 0.4735 - val_accuracy: 0.7922\n",
            "Epoch 185/200\n",
            "20/20 [==============================] - 0s 3ms/step - loss: 0.4669 - accuracy: 0.7769 - val_loss: 0.4713 - val_accuracy: 0.7792\n",
            "Epoch 186/200\n",
            "20/20 [==============================] - 0s 3ms/step - loss: 0.4662 - accuracy: 0.7850 - val_loss: 0.4809 - val_accuracy: 0.8052\n",
            "Epoch 187/200\n",
            "20/20 [==============================] - 0s 3ms/step - loss: 0.4685 - accuracy: 0.7655 - val_loss: 0.4719 - val_accuracy: 0.7792\n",
            "Epoch 188/200\n",
            "20/20 [==============================] - 0s 3ms/step - loss: 0.4656 - accuracy: 0.7850 - val_loss: 0.4720 - val_accuracy: 0.7792\n",
            "Epoch 189/200\n",
            "20/20 [==============================] - 0s 3ms/step - loss: 0.4656 - accuracy: 0.7818 - val_loss: 0.4708 - val_accuracy: 0.7792\n",
            "Epoch 190/200\n",
            "20/20 [==============================] - 0s 3ms/step - loss: 0.4668 - accuracy: 0.7785 - val_loss: 0.4708 - val_accuracy: 0.7792\n",
            "Epoch 191/200\n",
            "20/20 [==============================] - 0s 2ms/step - loss: 0.4661 - accuracy: 0.7801 - val_loss: 0.4725 - val_accuracy: 0.7857\n",
            "Epoch 192/200\n",
            "20/20 [==============================] - 0s 4ms/step - loss: 0.4671 - accuracy: 0.7704 - val_loss: 0.4713 - val_accuracy: 0.7792\n",
            "Epoch 193/200\n",
            "20/20 [==============================] - 0s 4ms/step - loss: 0.4663 - accuracy: 0.7818 - val_loss: 0.4768 - val_accuracy: 0.7922\n",
            "Epoch 194/200\n",
            "20/20 [==============================] - 0s 3ms/step - loss: 0.4682 - accuracy: 0.7622 - val_loss: 0.4709 - val_accuracy: 0.7792\n",
            "Epoch 195/200\n",
            "20/20 [==============================] - 0s 3ms/step - loss: 0.4665 - accuracy: 0.7785 - val_loss: 0.4707 - val_accuracy: 0.7792\n",
            "Epoch 196/200\n",
            "20/20 [==============================] - 0s 4ms/step - loss: 0.4649 - accuracy: 0.7704 - val_loss: 0.4707 - val_accuracy: 0.7792\n",
            "Epoch 197/200\n",
            "20/20 [==============================] - 0s 3ms/step - loss: 0.4677 - accuracy: 0.7752 - val_loss: 0.4735 - val_accuracy: 0.7792\n",
            "Epoch 198/200\n",
            "20/20 [==============================] - 0s 3ms/step - loss: 0.4660 - accuracy: 0.7704 - val_loss: 0.4715 - val_accuracy: 0.7792\n",
            "Epoch 199/200\n",
            "20/20 [==============================] - 0s 4ms/step - loss: 0.4653 - accuracy: 0.7850 - val_loss: 0.4742 - val_accuracy: 0.7857\n",
            "Epoch 200/200\n",
            "20/20 [==============================] - 0s 3ms/step - loss: 0.4673 - accuracy: 0.7671 - val_loss: 0.4707 - val_accuracy: 0.7727\n"
          ]
        }
      ],
      "source": [
        "history = model.fit(X_train, y_train, epochs=200, initial_epoch=6, validation_data=(X_test, y_test))"
      ]
    },
    {
      "cell_type": "code",
      "execution_count": 103,
      "metadata": {
        "colab": {
          "base_uri": "https://localhost:8080/",
          "height": 308
        },
        "id": "JbVbXhKCxLc2",
        "outputId": "b3a8df36-2894-4971-ef47-bb2b30c269f3"
      },
      "outputs": [
        {
          "data": {
            "text/plain": [
              "[<matplotlib.lines.Line2D at 0x7f251b58aec0>]"
            ]
          },
          "execution_count": 103,
          "metadata": {},
          "output_type": "execute_result"
        },
        {
          "data": {
            "image/png": "[encoded data removed]",
            "text/plain": [
              "<Figure size 450x300 with 1 Axes>"
            ]
          },
          "metadata": {},
          "output_type": "display_data"
        }
      ],
      "source": [
        "plt.figure(figsize=(4.5,3))\n",
        "plt.plot(history.history['loss'])\n",
        "plt.plot(history.history['val_loss'])"
      ]
    },
    {
      "cell_type": "code",
      "execution_count": 95,
      "metadata": {
        "id": "FpCJQgSszREw"
      },
      "outputs": [],
      "source": []
    }
  ],
  "metadata": {
    "colab": {
      "provenance": []
    },
    "kernelspec": {
      "display_name": "Python 3",
      "name": "python3"
    },
    "language_info": {
      "name": "python"
    }
  },
  "nbformat": 4,
  "nbformat_minor": 0
}
