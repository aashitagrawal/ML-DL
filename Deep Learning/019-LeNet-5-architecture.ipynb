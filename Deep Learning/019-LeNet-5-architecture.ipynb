{
  "nbformat": 4,
  "nbformat_minor": 0,
  "metadata": {
    "colab": {
      "provenance": []
    },
    "kernelspec": {
      "name": "python3",
      "display_name": "Python 3"
    },
    "language_info": {
      "name": "python"
    }
  },
  "cells": [
    {
      "cell_type": "markdown",
      "source": [
        "# Today's Date - 27 June 2023\n",
        "# Topic - LeNeT architecture"
      ],
      "metadata": {
        "id": "pKjD8O2NiLJb"
      }
    },
    {
      "cell_type": "code",
      "execution_count": 7,
      "metadata": {
        "id": "EuZUrn4ViCDG"
      },
      "outputs": [],
      "source": [
        "import tensorflow\n",
        "from tensorflow import keras\n",
        "from keras.layers import Dense, Conv2D, Flatten, AveragePooling2D\n",
        "from keras import Sequential\n",
        "from keras.datasets import mnist\n",
        "\n",
        "\n",
        "import matplotlib.pyplot as plt\n",
        "from sklearn.metrics import accuracy_score"
      ]
    },
    {
      "cell_type": "markdown",
      "source": [
        "## MNIST handwritten dataset"
      ],
      "metadata": {
        "id": "ZPktPaX5kIFL"
      }
    },
    {
      "cell_type": "code",
      "source": [
        "(X_train,y_train),(X_test,y_test) = mnist.load_data()"
      ],
      "metadata": {
        "colab": {
          "base_uri": "https://localhost:8080/"
        },
        "id": "6RoPRj8WitwY",
        "outputId": "04de744a-1c12-44a3-cb6f-665593402dc2"
      },
      "execution_count": 4,
      "outputs": [
        {
          "output_type": "stream",
          "name": "stdout",
          "text": [
            "Downloading data from https://storage.googleapis.com/tensorflow/tf-keras-datasets/mnist.npz\n",
            "11490434/11490434 [==============================] - 0s 0us/step\n"
          ]
        }
      ]
    },
    {
      "cell_type": "markdown",
      "source": [
        "# LenNet Architecture"
      ],
      "metadata": {
        "id": "H5Fg2RYhjJdU"
      }
    },
    {
      "cell_type": "code",
      "source": [
        "model = Sequential()\n",
        "\n",
        "#Layer 1\n",
        "model.add(Conv2D(6, kernel_size=(5,5), padding='valid', activation='tanh', input_shape=(28,28,1))) #orginally it was 32x32x1, here hand-written digits wants 28x28x1\n",
        "model.add(AveragePooling2D(pool_size=(2,2), strides=2, padding='valid'))\n",
        "\n",
        "#Layer 2\n",
        "model.add(Conv2D(16, kernel_size=(5,5), padding='valid', activation='tanh'))\n",
        "model.add(AveragePooling2D(pool_size=(2,2), strides=2, padding='valid'))\n",
        "\n",
        "model.add(Flatten())\n",
        "\n",
        "#Layer 3\n",
        "model.add(Dense(120, activation='tanh'))\n",
        "\n",
        "#Layer 4\n",
        "model.add(Dense(84, activation='tanh'))\n",
        "\n",
        "#Layer 5 (output layer)\n",
        "model.add(Dense(10, activation='softmax'))"
      ],
      "metadata": {
        "id": "incOehoCjI45"
      },
      "execution_count": 10,
      "outputs": []
    },
    {
      "cell_type": "code",
      "source": [
        "model.summary()"
      ],
      "metadata": {
        "colab": {
          "base_uri": "https://localhost:8080/"
        },
        "id": "YUcH0Zo6jFz1",
        "outputId": "e7aaadce-a105-40cf-eb8f-1a3053cfe0ff"
      },
      "execution_count": 6,
      "outputs": [
        {
          "output_type": "stream",
          "name": "stdout",
          "text": [
            "Model: \"sequential\"\n",
            "_________________________________________________________________\n",
            " Layer (type)                Output Shape              Param #   \n",
            "=================================================================\n",
            " conv2d (Conv2D)             (None, 28, 28, 6)         156       \n",
            "                                                                 \n",
            " average_pooling2d (AverageP  (None, 14, 14, 6)        0         \n",
            " ooling2D)                                                       \n",
            "                                                                 \n",
            " conv2d_1 (Conv2D)           (None, 10, 10, 16)        2416      \n",
            "                                                                 \n",
            " average_pooling2d_1 (Averag  (None, 5, 5, 16)         0         \n",
            " ePooling2D)                                                     \n",
            "                                                                 \n",
            " flatten (Flatten)           (None, 400)               0         \n",
            "                                                                 \n",
            " dense (Dense)               (None, 120)               48120     \n",
            "                                                                 \n",
            " dense_1 (Dense)             (None, 84)                10164     \n",
            "                                                                 \n",
            " dense_2 (Dense)             (None, 10)                850       \n",
            "                                                                 \n",
            "=================================================================\n",
            "Total params: 61,706\n",
            "Trainable params: 61,706\n",
            "Non-trainable params: 0\n",
            "_________________________________________________________________\n"
          ]
        }
      ]
    },
    {
      "cell_type": "markdown",
      "source": [
        "# Lets train the model and see the final reults"
      ],
      "metadata": {
        "id": "qAonNwczkfvO"
      }
    },
    {
      "cell_type": "code",
      "source": [
        "model.compile(loss='sparse_categorical_crossentropy',optimizer='Adam',metrics=['accuracy'])\n",
        "\n",
        "model.fit(X_train,y_train,epochs=1,validation_split=0.2, verbose=1)\n",
        "\n",
        "y_prob = model.predict(X_test)\n",
        "\n",
        "y_pred = y_prob.argmax(axis=1) #gives the index of number whose probability is greatest\n",
        "\n",
        "print(accuracy_score(y_test,y_pred))\n",
        "\n",
        "print(y_pred[65])\n",
        "\n",
        "plt.imshow(X_test[65])"
      ],
      "metadata": {
        "colab": {
          "base_uri": "https://localhost:8080/",
          "height": 517
        },
        "id": "KFm89enukQzG",
        "outputId": "db60efc9-68e6-485e-cb65-4dccb9117989"
      },
      "execution_count": 12,
      "outputs": [
        {
          "output_type": "stream",
          "name": "stdout",
          "text": [
            "1500/1500 [==============================] - 32s 20ms/step - loss: 0.0725 - accuracy: 0.9776 - val_loss: 0.0637 - val_accuracy: 0.9818\n",
            "313/313 [==============================] - 2s 7ms/step\n",
            "0.9811\n",
            "4\n"
          ]
        },
        {
          "output_type": "execute_result",
          "data": {
            "text/plain": [
              "<matplotlib.image.AxesImage at 0x7f13b98741f0>"
            ]
          },
          "metadata": {},
          "execution_count": 12
        },
        {
          "output_type": "display_data",
          "data": {
            "text/plain": [
              "<Figure size 640x480 with 1 Axes>"
            ],
            "image/png": "[encoded data removed]"
          },
          "metadata": {}
        }
      ]
    },
    {
      "cell_type": "code",
      "source": [],
      "metadata": {
        "id": "pMvDfqqykrlI"
      },
      "execution_count": null,
      "outputs": []
    }
  ]
}