{
  "nbformat": 4,
  "nbformat_minor": 0,
  "metadata": {
    "colab": {
      "provenance": []
    },
    "kernelspec": {
      "name": "python3",
      "display_name": "Python 3"
    },
    "language_info": {
      "name": "python"
    }
  },
  "cells": [
    {
      "cell_type": "markdown",
      "source": [
        "# Today's Date - 30 June 2023\n",
        "# Topic - Famous Architectures in ImageNET"
      ],
      "metadata": {
        "id": "UJTsfFee26RZ"
      }
    },
    {
      "cell_type": "code",
      "execution_count": 14,
      "metadata": {
        "id": "fG1uTvqi2dHo"
      },
      "outputs": [],
      "source": [
        "import tensorflow as tf\n",
        "from tensorflow import keras\n",
        "from keras.models import Sequential\n",
        "from keras.layers import Conv2D, AveragePooling2D, MaxPooling2D, BatchNormalization, Add\n",
        "from keras.layers import Activation, Dropout, Flatten, Dense"
      ]
    },
    {
      "cell_type": "code",
      "source": [
        "# Assuming of classes to classify\n",
        "num_classes = 10000"
      ],
      "metadata": {
        "id": "caXM_fP371ad"
      },
      "execution_count": 15,
      "outputs": []
    },
    {
      "cell_type": "markdown",
      "source": [
        "# AlexNet - 2012 - 16.4% accuracy"
      ],
      "metadata": {
        "id": "QzqdYeOh7M3S"
      }
    },
    {
      "cell_type": "code",
      "source": [
        "model = Sequential()\n",
        "\n",
        "# Layer 1\n",
        "model.add(Conv2D(filters=96, kernel_size=(11, 11), strides=(4, 4), activation='relu', input_shape=(227, 227, 3)))\n",
        "model.add(MaxPooling2D(pool_size=(3, 3), strides=(2, 2)))\n",
        "\n",
        "# Layer 2\n",
        "model.add(Conv2D(filters=256, kernel_size=(5, 5), strides=(1, 1), padding='same', activation='relu'))\n",
        "model.add(MaxPooling2D(pool_size=(3, 3), strides=(2, 2)))\n",
        "\n",
        "# Layer 3\n",
        "model.add(Conv2D(filters=384, kernel_size=(3, 3), strides=(1, 1), padding='same', activation='relu'))\n",
        "\n",
        "# Layer 4\n",
        "model.add(Conv2D(filters=384, kernel_size=(3, 3), strides=(1, 1), padding='same', activation='relu'))\n",
        "\n",
        "# Layer 5\n",
        "model.add(Conv2D(filters=256, kernel_size=(3, 3), strides=(1, 1), padding='same', activation='relu'))\n",
        "model.add(MaxPooling2D(pool_size=(3, 3), strides=(2, 2)))\n",
        "\n",
        "# Layer 6\n",
        "model.add(Flatten())\n",
        "model.add(Dense(units=4096, activation='relu'))\n",
        "model.add(Dropout(0.5))\n",
        "\n",
        "# Layer 7\n",
        "model.add(Dense(units=4096, activation='relu'))\n",
        "model.add(Dropout(0.5))\n",
        "\n",
        "# Layer 8\n",
        "model.add(Dense(units=num_classes, activation='softmax'))\n",
        "\n",
        "# Parameters\n",
        "total_params = model.count_params()\n",
        "print(\"Total number of parameters: \", total_params)"
      ],
      "metadata": {
        "colab": {
          "base_uri": "https://localhost:8080/"
        },
        "id": "iJg_yQel4v57",
        "outputId": "2241c912-e24a-496b-d746-5d1b2c4e209c"
      },
      "execution_count": 16,
      "outputs": [
        {
          "output_type": "stream",
          "name": "stdout",
          "text": [
            "Total number of parameters:  99251344\n"
          ]
        }
      ]
    },
    {
      "cell_type": "markdown",
      "source": [
        "#  ZFNet (Zeiler & Fergus Net)  - 2013 - 11.7%"
      ],
      "metadata": {
        "id": "bFVDMa7v7SBD"
      }
    },
    {
      "cell_type": "code",
      "source": [
        "model = Sequential()\n",
        "\n",
        "# Layer 1\n",
        "model.add(Conv2D(filters=96, kernel_size=(7, 7), strides=(2, 2), activation='relu', input_shape=(224, 224, 3)))\n",
        "model.add(MaxPooling2D(pool_size=(3, 3), strides=(2, 2)))\n",
        "\n",
        "# Layer 2\n",
        "model.add(Conv2D(filters=256, kernel_size=(5, 5), strides=(2, 2), activation='relu'))\n",
        "model.add(MaxPooling2D(pool_size=(3, 3), strides=(2, 2)))\n",
        "\n",
        "# Layer 3\n",
        "model.add(Conv2D(filters=384, kernel_size=(3, 3), strides=(1, 1), activation='relu'))\n",
        "\n",
        "# Layer 4\n",
        "model.add(Conv2D(filters=384, kernel_size=(3, 3), strides=(1, 1), activation='relu'))\n",
        "\n",
        "# Layer 5\n",
        "model.add(Conv2D(filters=256, kernel_size=(3, 3), strides=(1, 1), activation='relu'))\n",
        "model.add(MaxPooling2D(pool_size=(3, 3), strides=(2, 2)))\n",
        "\n",
        "# Layer 6\n",
        "model.add(Flatten())\n",
        "model.add(Dense(units=4096, activation='relu'))\n",
        "model.add(Dropout(0.5))\n",
        "\n",
        "# Layer 7\n",
        "model.add(Dense(units=4096, activation='relu'))\n",
        "model.add(Dropout(0.5))\n",
        "\n",
        "# Layer 8\n",
        "model.add(Dense(units=num_classes, activation='softmax'))\n",
        "\n",
        "# Parameters\n",
        "total_params = model.count_params()\n",
        "print(\"Total number of parameters: \", total_params)"
      ],
      "metadata": {
        "colab": {
          "base_uri": "https://localhost:8080/"
        },
        "id": "ezjCoYqX699S",
        "outputId": "2186ef8a-4ab3-4d7d-cb1f-f8eed5b09c54"
      },
      "execution_count": 17,
      "outputs": [
        {
          "output_type": "stream",
          "name": "stdout",
          "text": [
            "Total number of parameters:  65676176\n"
          ]
        }
      ]
    },
    {
      "cell_type": "markdown",
      "source": [
        "# VGGNet - 2014 - 7.3%"
      ],
      "metadata": {
        "id": "3uNhQQly8OA0"
      }
    },
    {
      "cell_type": "code",
      "source": [
        "model = Sequential()\n",
        "\n",
        "# Block 1\n",
        "model.add(Conv2D(filters=64, kernel_size=(3, 3), strides=(1, 1), padding='same', activation='relu', input_shape=(224, 224, 3)))\n",
        "model.add(Conv2D(filters=64, kernel_size=(3, 3), strides=(1, 1), padding='same', activation='relu'))\n",
        "model.add(MaxPooling2D(pool_size=(2, 2), strides=(2, 2)))\n",
        "\n",
        "# Block 2\n",
        "model.add(Conv2D(filters=128, kernel_size=(3, 3), strides=(1, 1), padding='same', activation='relu'))\n",
        "model.add(Conv2D(filters=128, kernel_size=(3, 3), strides=(1, 1), padding='same', activation='relu'))\n",
        "model.add(MaxPooling2D(pool_size=(2, 2), strides=(2, 2)))\n",
        "\n",
        "# Block 3\n",
        "model.add(Conv2D(filters=256, kernel_size=(3, 3), strides=(1, 1), padding='same', activation='relu'))\n",
        "model.add(Conv2D(filters=256, kernel_size=(3, 3), strides=(1, 1), padding='same', activation='relu'))\n",
        "model.add(Conv2D(filters=256, kernel_size=(3, 3), strides=(1, 1), padding='same', activation='relu'))\n",
        "model.add(MaxPooling2D(pool_size=(2, 2), strides=(2, 2)))\n",
        "\n",
        "# Block 4\n",
        "model.add(Conv2D(filters=512, kernel_size=(3, 3), strides=(1, 1), padding='same', activation='relu'))\n",
        "model.add(Conv2D(filters=512, kernel_size=(3, 3), strides=(1, 1), padding='same', activation='relu'))\n",
        "model.add(Conv2D(filters=512, kernel_size=(3, 3), strides=(1, 1), padding='same', activation='relu'))\n",
        "model.add(MaxPooling2D(pool_size=(2, 2), strides=(2, 2)))\n",
        "\n",
        "# Block 5\n",
        "model.add(Conv2D(filters=512, kernel_size=(3, 3), strides=(1, 1), padding='same', activation='relu'))\n",
        "model.add(Conv2D(filters=512, kernel_size=(3, 3), strides=(1, 1), padding='same', activation='relu'))\n",
        "model.add(Conv2D(filters=512, kernel_size=(3, 3), strides=(1, 1), padding='same', activation='relu'))\n",
        "model.add(MaxPooling2D(pool_size=(2, 2), strides=(2, 2)))\n",
        "\n",
        "# Classification Head\n",
        "model.add(Flatten())\n",
        "model.add(Dense(units=4096, activation='relu'))\n",
        "model.add(Dropout(0.5))\n",
        "model.add(Dense(units=4096, activation='relu'))\n",
        "model.add(Dropout(0.5))\n",
        "model.add(Dense(units=num_classes, activation='softmax'))\n",
        "\n",
        "# Parameters\n",
        "total_params = model.count_params()\n",
        "print(\"Total number of parameters: \", total_params)"
      ],
      "metadata": {
        "colab": {
          "base_uri": "https://localhost:8080/"
        },
        "id": "rxuWkdRC75vq",
        "outputId": "a4be19db-a7c9-40bc-a2d6-bca82428e126"
      },
      "execution_count": 18,
      "outputs": [
        {
          "output_type": "stream",
          "name": "stdout",
          "text": [
            "Total number of parameters:  175230544\n"
          ]
        }
      ]
    },
    {
      "cell_type": "markdown",
      "source": [
        "# GoogLeNet (Inception v1) - 2015 - 6.7%\n",
        "can be wrong"
      ],
      "metadata": {
        "id": "cyAAbcuI9YXY"
      }
    },
    {
      "cell_type": "code",
      "source": [
        "model = Sequential()\n",
        "\n",
        "# Layer 1\n",
        "model.add(Conv2D(filters=64, kernel_size=(7, 7), strides=(2, 2), activation='relu', padding='same', input_shape=(224, 224, 3)))\n",
        "model.add(MaxPooling2D(pool_size=(3, 3), strides=(2, 2)))\n",
        "\n",
        "# Layer 2\n",
        "model.add(Conv2D(filters=64, kernel_size=(1, 1), activation='relu', padding='same'))\n",
        "model.add(Conv2D(filters=192, kernel_size=(3, 3), activation='relu', padding='same'))\n",
        "model.add(MaxPooling2D(pool_size=(3, 3), strides=(2, 2)))\n",
        "\n",
        "# Inception Module 3a\n",
        "model.add(Conv2D(filters=64, kernel_size=(1, 1), activation='relu', padding='same'))\n",
        "model.add(Conv2D(filters=96, kernel_size=(3, 3), activation='relu', padding='same'))\n",
        "model.add(Conv2D(filters=128, kernel_size=(5, 5), activation='relu', padding='same'))\n",
        "model.add(MaxPooling2D(pool_size=(3, 3), strides=(1, 1), padding='same'))\n",
        "\n",
        "# Inception Module 3b\n",
        "model.add(Conv2D(filters=128, kernel_size=(1, 1), activation='relu', padding='same'))\n",
        "model.add(Conv2D(filters=128, kernel_size=(3, 3), activation='relu', padding='same'))\n",
        "model.add(Conv2D(filters=192, kernel_size=(5, 5), activation='relu', padding='same'))\n",
        "model.add(MaxPooling2D(pool_size=(3, 3), strides=(1, 1), padding='same'))\n",
        "\n",
        "# Inception Module 4a\n",
        "model.add(Conv2D(filters=192, kernel_size=(1, 1), activation='relu', padding='same'))\n",
        "model.add(Conv2D(filters=96, kernel_size=(3, 3), activation='relu', padding='same'))\n",
        "model.add(Conv2D(filters=208, kernel_size=(5, 5), activation='relu', padding='same'))\n",
        "model.add(MaxPooling2D(pool_size=(3, 3), strides=(1, 1), padding='same'))\n",
        "\n",
        "# Inception Module 4b\n",
        "model.add(Conv2D(filters=160, kernel_size=(1, 1), activation='relu', padding='same'))\n",
        "model.add(Conv2D(filters=112, kernel_size=(3, 3), activation='relu', padding='same'))\n",
        "model.add(Conv2D(filters=224, kernel_size=(5, 5), activation='relu', padding='same'))\n",
        "model.add(MaxPooling2D(pool_size=(3, 3), strides=(1, 1), padding='same'))\n",
        "\n",
        "# Inception Module 4c\n",
        "model.add(Conv2D(filters=128, kernel_size=(1, 1), activation='relu', padding='same'))\n",
        "model.add(Conv2D(filters=128, kernel_size=(3, 3), activation='relu', padding='same'))\n",
        "model.add(Conv2D(filters=256, kernel_size=(5, 5), activation='relu', padding='same'))\n",
        "model.add(MaxPooling2D(pool_size=(3, 3), strides=(1, 1), padding='same'))\n",
        "\n",
        "# Inception Module 4d\n",
        "model.add(Conv2D(filters=112, kernel_size=(1, 1), activation='relu', padding='same'))\n",
        "model.add(Conv2D(filters=144, kernel_size=(3, 3), activation='relu', padding='same'))\n",
        "model.add(Conv2D(filters=288, kernel_size=(5, 5), activation='relu', padding='same'))\n",
        "model.add(MaxPooling2D(pool_size=(3, 3), strides=(1, 1), padding='same'))\n",
        "\n",
        "# Inception Module 4e\n",
        "model.add(Conv2D(filters=256, kernel_size=(1, 1), activation='relu', padding='same'))\n",
        "model.add(Conv2D(filters=160, kernel_size=(3, 3), activation='relu', padding='same'))\n",
        "model.add(Conv2D(filters=320, kernel_size=(5, 5), activation='relu', padding='same'))\n",
        "model.add(MaxPooling2D(pool_size=(3, 3), strides=(1, 1), padding='same'))\n",
        "\n",
        "# Layer 5\n",
        "model.add(Conv2D(filters=256, kernel_size=(1, 1), activation='relu', padding='same'))\n",
        "model.add(Conv2D(filters=160, kernel_size=(3, 3), activation='relu', padding='same'))\n",
        "model.add(Conv2D(filters=320, kernel_size=(5, 5), activation='relu', padding='same'))\n",
        "model.add(MaxPooling2D(pool_size=(3, 3), strides=(2, 2), padding='same'))\n",
        "\n",
        "# Layer 6\n",
        "model.add(AveragePooling2D(pool_size=(7, 7), strides=(1, 1), padding='valid'))\n",
        "model.add(Dropout(0.4))\n",
        "\n",
        "# Layer 7\n",
        "model.add(Flatten())\n",
        "model.add(Dense(units=1000, activation='softmax'))\n",
        "\n",
        "# Parameters\n",
        "total_params = model.count_params()\n",
        "print(\"Total number of parameters: \", total_params)"
      ],
      "metadata": {
        "colab": {
          "base_uri": "https://localhost:8080/"
        },
        "id": "zwh9xkIN9Qp1",
        "outputId": "2ed9363c-a1e8-49af-b646-3717dfd4aeaf"
      },
      "execution_count": 19,
      "outputs": [
        {
          "output_type": "stream",
          "name": "stdout",
          "text": [
            "Total number of parameters:  28945288\n"
          ]
        }
      ]
    },
    {
      "cell_type": "markdown",
      "source": [
        "# ResNet - 2016 - 3.5%"
      ],
      "metadata": {
        "id": "vh3VDV5u_as7"
      }
    },
    {
      "cell_type": "code",
      "source": [
        "model = Sequential()\n",
        "\n",
        "# Stage 1\n",
        "model.add(Conv2D(filters=64, kernel_size=(7, 7), strides=(2, 2), padding='same', input_shape=(224, 224, 3)))\n",
        "model.add(BatchNormalization())\n",
        "model.add(Activation('relu'))\n",
        "model.add(MaxPooling2D(pool_size=(3, 3), strides=(2, 2), padding='same'))\n",
        "\n",
        "# Stage 2\n",
        "model.add(Conv2D(filters=64, kernel_size=(1, 1), strides=(1, 1), padding='valid'))\n",
        "model.add(BatchNormalization())\n",
        "model.add(Activation('relu'))\n",
        "model.add(Conv2D(filters=64, kernel_size=(3, 3), strides=(1, 1), padding='same'))\n",
        "model.add(BatchNormalization())\n",
        "model.add(Activation('relu'))\n",
        "model.add(Conv2D(filters=256, kernel_size=(1, 1), strides=(1, 1), padding='valid'))\n",
        "model.add(BatchNormalization())\n",
        "\n",
        "# Shortcut connection\n",
        "model.add(Conv2D(filters=256, kernel_size=(1, 1), strides=(1, 1), padding='valid'))\n",
        "model.add(BatchNormalization())\n",
        "\n",
        "# Stage 3\n",
        "model.add(Add())\n",
        "model.add(Activation('relu'))\n",
        "model.add(Conv2D(filters=64, kernel_size=(1, 1), strides=(1, 1), padding='valid'))\n",
        "model.add(BatchNormalization())\n",
        "model.add(Activation('relu'))\n",
        "model.add(Conv2D(filters=64, kernel_size=(3, 3), strides=(1, 1), padding='same'))\n",
        "model.add(BatchNormalization())\n",
        "model.add(Activation('relu'))\n",
        "model.add(Conv2D(filters=256, kernel_size=(1, 1), strides=(1, 1), padding='valid'))\n",
        "model.add(BatchNormalization())\n",
        "\n",
        "# Shortcut connection\n",
        "model.add(Conv2D(filters=256, kernel_size=(1, 1), strides=(1, 1), padding='valid'))\n",
        "model.add(BatchNormalization())\n",
        "\n",
        "# Stage 4\n",
        "model.add(Add())\n",
        "model.add(Activation('relu'))\n",
        "model.add(Conv2D(filters=128, kernel_size=(1, 1), strides=(2, 2), padding='valid'))\n",
        "model.add(BatchNormalization())\n",
        "model.add(Activation('relu'))\n",
        "model.add(Conv2D(filters=128, kernel_size=(3, 3), strides=(1, 1), padding='same'))\n",
        "model.add(BatchNormalization())\n",
        "model.add(Activation('relu'))\n",
        "model.add(Conv2D(filters=512, kernel_size=(1, 1), strides=(1, 1), padding='valid'))\n",
        "model.add(BatchNormalization())\n",
        "\n",
        "# Shortcut connection\n",
        "model.add(Conv2D(filters=512, kernel_size=(1, 1), strides=(2, 2), padding='valid'))\n",
        "model.add(BatchNormalization())\n",
        "\n",
        "# Stage 5\n",
        "model.add(Add())\n",
        "model.add(Activation('relu'))\n",
        "model.add(Conv2D(filters=256, kernel_size=(1, 1), strides=(1, 1), padding='valid'))\n",
        "model.add(BatchNormalization())\n",
        "model.add(Activation('relu'))\n",
        "model.add(Conv2D(filters=256, kernel_size=(3, 3), strides=(1, 1), padding='same'))\n",
        "model.add(BatchNormalization())\n",
        "model.add(Activation('relu'))\n",
        "model.add(Conv2D(filters=1024, kernel_size=(1, 1), strides=(1, 1), padding='valid'))\n",
        "model.add(BatchNormalization())\n",
        "\n",
        "# Shortcut connection\n",
        "model.add(Conv2D(filters=1024, kernel_size=(1, 1), strides=(1, 1), padding='valid'))\n",
        "model.add(BatchNormalization())\n",
        "\n",
        "# Stage 6\n",
        "model.add(Add())\n",
        "model.add(Activation('relu'))\n",
        "model.add(Conv2D(filters=512, kernel_size=(1, 1), strides=(2, 2), padding='valid'))\n",
        "model.add(BatchNormalization())\n",
        "model.add(Activation('relu'))\n",
        "model.add(Conv2D(filters=512, kernel_size=(3, 3), strides=(1, 1), padding='same'))\n",
        "model.add(BatchNormalization())\n",
        "model.add(Activation('relu'))\n",
        "model.add(Conv2D(filters=2048, kernel_size=(1, 1), strides=(1, 1), padding='valid'))\n",
        "model.add(BatchNormalization())\n",
        "\n",
        "# Shortcut connection\n",
        "model.add(Conv2D(filters=2048, kernel_size=(1, 1), strides=(2, 2), padding='valid'))\n",
        "model.add(BatchNormalization())\n",
        "\n",
        "# Stage 7\n",
        "model.add(Add())\n",
        "model.add(Activation('relu'))\n",
        "model.add(AveragePooling2D(pool_size=(7, 7), strides=(1, 1)))\n",
        "model.add(Flatten())\n",
        "model.add(Dense(units=1000, activation='softmax'))\n",
        "\n",
        "# Parameters\n",
        "total_params = model.count_params()\n",
        "print(\"Total number of parameters: \", total_params)"
      ],
      "metadata": {
        "id": "SnmV0TsK_umU"
      },
      "execution_count": 20,
      "outputs": []
    }
  ]
}